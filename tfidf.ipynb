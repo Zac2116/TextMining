{
 "cells": [
  {
   "cell_type": "code",
   "execution_count": 1,
   "metadata": {
    "collapsed": true
   },
   "outputs": [],
   "source": [
    "import numpy as np\n",
    "import pandas as pd"
   ]
  },
  {
   "cell_type": "code",
   "execution_count": 2,
   "metadata": {
    "collapsed": true
   },
   "outputs": [],
   "source": [
    "import nltk\n",
    "from nltk.corpus import stopwords\n",
    "from nltk.tokenize import RegexpTokenizer\n",
    "from nltk.stem.snowball import SnowballStemmer\n",
    "from nltk.stem.wordnet import WordNetLemmatizer\n",
    "tokenizer = RegexpTokenizer(r'\\w+')\n",
    "stemmer = SnowballStemmer('english')\n",
    "st = WordNetLemmatizer()"
   ]
  },
  {
   "cell_type": "markdown",
   "metadata": {},
   "source": [
    "## Function"
   ]
  },
  {
   "cell_type": "code",
   "execution_count": 3,
   "metadata": {
    "collapsed": true
   },
   "outputs": [],
   "source": [
    "def generateDic(item):\n",
    "    text = \" \".join([st.lemmatize(stemmer.stem(word),'v') \n",
    "                     for word in tokenizer.tokenize(item.lower()) if word not in stopwords.words('english')])\n",
    "    dic = dict()\n",
    "    for w in text.split():\n",
    "        if w in dic.keys():\n",
    "            dic[w] = dic[w]+1\n",
    "        else:\n",
    "            dic[w] = 1\n",
    "    return dic"
   ]
  },
  {
   "cell_type": "markdown",
   "metadata": {},
   "source": [
    "# Attributes"
   ]
  },
  {
   "cell_type": "code",
   "execution_count": 4,
   "metadata": {
    "collapsed": false
   },
   "outputs": [],
   "source": [
    "#attributes=pd.read_csv('attributes.csv')"
   ]
  },
  {
   "cell_type": "code",
   "execution_count": 5,
   "metadata": {
    "collapsed": false,
    "scrolled": true
   },
   "outputs": [],
   "source": [
    "#attributes.head(2)"
   ]
  },
  {
   "cell_type": "code",
   "execution_count": 6,
   "metadata": {
    "collapsed": false
   },
   "outputs": [],
   "source": [
    "#attributes['att_Dict']=attributes.value.map(lambda x: generateDic(x))"
   ]
  },
  {
   "cell_type": "code",
   "execution_count": 7,
   "metadata": {
    "collapsed": false
   },
   "outputs": [],
   "source": [
    "#attributes.head()"
   ]
  },
  {
   "cell_type": "markdown",
   "metadata": {
    "collapsed": true
   },
   "source": [
    "# Description"
   ]
  },
  {
   "cell_type": "code",
   "execution_count": 8,
   "metadata": {
    "collapsed": false
   },
   "outputs": [],
   "source": [
    "#product_descriptions=pd.read_csv('product_descriptions.csv')"
   ]
  },
  {
   "cell_type": "code",
   "execution_count": 9,
   "metadata": {
    "collapsed": false
   },
   "outputs": [],
   "source": [
    "#product_descriptions.head()"
   ]
  },
  {
   "cell_type": "code",
   "execution_count": 10,
   "metadata": {
    "collapsed": false
   },
   "outputs": [],
   "source": [
    "#product_descriptions.index[1:10]"
   ]
  },
  {
   "cell_type": "code",
   "execution_count": 11,
   "metadata": {
    "collapsed": false
   },
   "outputs": [],
   "source": [
    "#product_descriptions['p_d_Dict']=product_descriptions.product_description[0:1000].map(lambda x: generateDic(x))"
   ]
  },
  {
   "cell_type": "code",
   "execution_count": 12,
   "metadata": {
    "collapsed": false
   },
   "outputs": [],
   "source": [
    "#product_descriptions.head()"
   ]
  },
  {
   "cell_type": "markdown",
   "metadata": {},
   "source": [
    "# Train"
   ]
  },
  {
   "cell_type": "code",
   "execution_count": 13,
   "metadata": {
    "collapsed": false
   },
   "outputs": [],
   "source": [
    "train=pd.read_csv('train_clean.csv')"
   ]
  },
  {
   "cell_type": "code",
   "execution_count": 14,
   "metadata": {
    "collapsed": false
   },
   "outputs": [
    {
     "data": {
      "text/plain": [
       "(74067, 9)"
      ]
     },
     "execution_count": 14,
     "metadata": {},
     "output_type": "execute_result"
    }
   ],
   "source": [
    "train.shape"
   ]
  },
  {
   "cell_type": "code",
   "execution_count": 15,
   "metadata": {
    "collapsed": false,
    "scrolled": true
   },
   "outputs": [
    {
     "data": {
      "text/html": [
       "<div>\n",
       "<table border=\"1\" class=\"dataframe\">\n",
       "  <thead>\n",
       "    <tr style=\"text-align: right;\">\n",
       "      <th></th>\n",
       "      <th>id</th>\n",
       "      <th>product_uid</th>\n",
       "      <th>product_title</th>\n",
       "      <th>search_term</th>\n",
       "      <th>product_description</th>\n",
       "      <th>relevance</th>\n",
       "      <th>productDict</th>\n",
       "      <th>searchDict</th>\n",
       "      <th>desDict</th>\n",
       "    </tr>\n",
       "  </thead>\n",
       "  <tbody>\n",
       "    <tr>\n",
       "      <th>0</th>\n",
       "      <td>2</td>\n",
       "      <td>100001</td>\n",
       "      <td>Simpson Strong-Tie 12-Gauge Angle</td>\n",
       "      <td>angle bracket</td>\n",
       "      <td>Not only do angles make joints stronger, they ...</td>\n",
       "      <td>3.0</td>\n",
       "      <td>{u'12': 1, u'angl': 1, u'gaug': 1, u'tie': 1, ...</td>\n",
       "      <td>{u'angl': 1, u'bracket': 1}</td>\n",
       "      <td>{u'repair': 1, u'outdoor': 1, u'zmax': 1, u'ho...</td>\n",
       "    </tr>\n",
       "    <tr>\n",
       "      <th>1</th>\n",
       "      <td>3</td>\n",
       "      <td>100001</td>\n",
       "      <td>Simpson Strong-Tie 12-Gauge Angle</td>\n",
       "      <td>l bracket</td>\n",
       "      <td>Not only do angles make joints stronger, they ...</td>\n",
       "      <td>2.5</td>\n",
       "      <td>{u'12': 1, u'angl': 1, u'gaug': 1, u'tie': 1, ...</td>\n",
       "      <td>{u'bracket': 1, u'l': 1}</td>\n",
       "      <td>{u'repair': 1, u'outdoor': 1, u'zmax': 1, u'ho...</td>\n",
       "    </tr>\n",
       "  </tbody>\n",
       "</table>\n",
       "</div>"
      ],
      "text/plain": [
       "   id  product_uid                      product_title    search_term  \\\n",
       "0   2       100001  Simpson Strong-Tie 12-Gauge Angle  angle bracket   \n",
       "1   3       100001  Simpson Strong-Tie 12-Gauge Angle      l bracket   \n",
       "\n",
       "                                 product_description  relevance  \\\n",
       "0  Not only do angles make joints stronger, they ...        3.0   \n",
       "1  Not only do angles make joints stronger, they ...        2.5   \n",
       "\n",
       "                                         productDict  \\\n",
       "0  {u'12': 1, u'angl': 1, u'gaug': 1, u'tie': 1, ...   \n",
       "1  {u'12': 1, u'angl': 1, u'gaug': 1, u'tie': 1, ...   \n",
       "\n",
       "                    searchDict  \\\n",
       "0  {u'angl': 1, u'bracket': 1}   \n",
       "1     {u'bracket': 1, u'l': 1}   \n",
       "\n",
       "                                             desDict  \n",
       "0  {u'repair': 1, u'outdoor': 1, u'zmax': 1, u'ho...  \n",
       "1  {u'repair': 1, u'outdoor': 1, u'zmax': 1, u'ho...  "
      ]
     },
     "execution_count": 15,
     "metadata": {},
     "output_type": "execute_result"
    }
   ],
   "source": [
    "train.head(2)"
   ]
  },
  {
   "cell_type": "markdown",
   "metadata": {},
   "source": [
    "  #    "
   ]
  },
  {
   "cell_type": "markdown",
   "metadata": {},
   "source": [
    "##   "
   ]
  },
  {
   "cell_type": "markdown",
   "metadata": {},
   "source": [
    "# TF-IDF"
   ]
  },
  {
   "cell_type": "markdown",
   "metadata": {},
   "source": [
    "## Common Vocabulary"
   ]
  },
  {
   "cell_type": "code",
   "execution_count": 69,
   "metadata": {
    "collapsed": false
   },
   "outputs": [],
   "source": [
    "from sklearn.feature_extraction.text import TfidfVectorizer\n",
    "tf = TfidfVectorizer(analyzer='word', ngram_range=(1,2), min_df = 0, stop_words = 'english')"
   ]
  },
  {
   "cell_type": "code",
   "execution_count": 17,
   "metadata": {
    "collapsed": false
   },
   "outputs": [],
   "source": [
    "tfidf_matrix=tf.fit_transform(train.product_description)"
   ]
  },
  {
   "cell_type": "code",
   "execution_count": 18,
   "metadata": {
    "collapsed": true
   },
   "outputs": [],
   "source": [
    "feature_names = tf.get_feature_names()"
   ]
  },
  {
   "cell_type": "code",
   "execution_count": 19,
   "metadata": {
    "collapsed": false
   },
   "outputs": [],
   "source": [
    "dense = tfidf_matrix.todense()"
   ]
  },
  {
   "cell_type": "code",
   "execution_count": 20,
   "metadata": {
    "collapsed": false
   },
   "outputs": [
    {
     "data": {
      "text/plain": [
       "((74067, 1373750), (1, 1373750), (1, 1373750))"
      ]
     },
     "execution_count": 20,
     "metadata": {},
     "output_type": "execute_result"
    }
   ],
   "source": [
    "dense.shape, dense[0].shape, dense[0].shape"
   ]
  },
  {
   "cell_type": "code",
   "execution_count": 21,
   "metadata": {
    "collapsed": false
   },
   "outputs": [
    {
     "data": {
      "text/plain": [
       "1373405"
      ]
     },
     "execution_count": 21,
     "metadata": {},
     "output_type": "execute_result"
    }
   ],
   "source": [
    "((dense[1]==dense[2])==True).sum()"
   ]
  },
  {
   "cell_type": "code",
   "execution_count": 22,
   "metadata": {
    "collapsed": false
   },
   "outputs": [],
   "source": [
    "episode=dense[100].tolist()[0]"
   ]
  },
  {
   "cell_type": "code",
   "execution_count": 23,
   "metadata": {
    "collapsed": false
   },
   "outputs": [],
   "source": [
    "phrase_scores = [pair for pair in zip(range(0, len(episode)), episode) if pair[1] > 0]"
   ]
  },
  {
   "cell_type": "code",
   "execution_count": 24,
   "metadata": {
    "collapsed": false
   },
   "outputs": [
    {
     "data": {
      "text/plain": [
       "[(938217, 0.3111114557886197),\n",
       " (122660, 0.23748638962660262),\n",
       " (560794, 0.21870461599741992)]"
      ]
     },
     "execution_count": 24,
     "metadata": {},
     "output_type": "execute_result"
    }
   ],
   "source": [
    "sorted(phrase_scores, key=lambda t: t[1] * -1)[:3]"
   ]
  },
  {
   "cell_type": "code",
   "execution_count": 25,
   "metadata": {
    "collapsed": false
   },
   "outputs": [
    {
     "data": {
      "text/plain": [
       "u'automatically power'"
      ]
     },
     "execution_count": 25,
     "metadata": {},
     "output_type": "execute_result"
    }
   ],
   "source": [
    "feature_names[122660]"
   ]
  },
  {
   "cell_type": "code",
   "execution_count": null,
   "metadata": {
    "collapsed": true
   },
   "outputs": [],
   "source": []
  },
  {
   "cell_type": "code",
   "execution_count": 26,
   "metadata": {
    "collapsed": false
   },
   "outputs": [],
   "source": [
    "#sorted_phrase_scores = sorted(phrase_scores, key=lambda t: t[1] * -1)\n",
    "#for phrase, score in [(feature_names[word_id], score) for (word_id, score) in sorted_phrase_scores]:\n",
    "#    print ('{0: <30} {1}'.format(phrase, score))"
   ]
  },
  {
   "cell_type": "code",
   "execution_count": 27,
   "metadata": {
    "collapsed": false
   },
   "outputs": [
    {
     "name": "stderr",
     "output_type": "stream",
     "text": [
      "/Users/pengfeiwang/Documents/Anaconda2/anaconda/lib/python2.7/site-packages/ipykernel/__main__.py:9: SettingWithCopyWarning: \n",
      "A value is trying to be set on a copy of a slice from a DataFrame\n",
      "\n",
      "See the caveats in the documentation: http://pandas.pydata.org/pandas-docs/stable/indexing.html#indexing-view-versus-copy\n",
      "/Users/pengfeiwang/Documents/Anaconda2/anaconda/lib/python2.7/site-packages/pandas/core/indexing.py:117: SettingWithCopyWarning: \n",
      "A value is trying to be set on a copy of a slice from a DataFrame\n",
      "\n",
      "See the caveats in the documentation: http://pandas.pydata.org/pandas-docs/stable/indexing.html#indexing-view-versus-copy\n",
      "  self._setitem_with_indexer(indexer, value)\n"
     ]
    }
   ],
   "source": [
    "train['tfidf']=0\n",
    "for i in range(len(dense)):\n",
    "    aadict = {}\n",
    "    episode=dense[i].tolist()[0]\n",
    "    phrase_scores = [pair for pair in zip(range(0, len(episode)), episode) if pair[1] > 0]\n",
    "    sorted_phrase_scores = sorted(phrase_scores, key=lambda t: t[1] * -1)\n",
    "    for phrase, score in [(feature_names[word_id], score) for (word_id, score) in sorted_phrase_scores]:\n",
    "        aadict[phrase] = score\n",
    "        train['tfidf'][i] = [aadict]\n",
    "    #train['tfidf']=train['product_description'].map(lambda x: common_vocabulary(x))\n",
    "    if i>2:\n",
    "        break"
   ]
  },
  {
   "cell_type": "code",
   "execution_count": 61,
   "metadata": {
    "collapsed": false
   },
   "outputs": [
    {
     "data": {
      "text/plain": [
       "[(u'10d', 0.08256010878710593),\n",
       " (u'10d common', 0.08455465492225152),\n",
       " (u'12', 0.03614672934380944),\n",
       " (u'12 gauge', 0.07343059894081727),\n",
       " (u'90', 0.047772390747461056),\n",
       " (u'90 connections', 0.10689579463957886),\n",
       " (u'alonehelp', 0.10689579463957886),\n",
       " (u'alonehelp ensure', 0.10689579463957886),\n",
       " (u'angled', 0.06309839947870056),\n",
       " (u'angled nailing', 0.09688162305724855),\n",
       " (u'angles', 0.13872805675259733),\n",
       " (u'angles make', 0.10144374201564983),\n",
       " (u'angles various', 0.10144374201564983),\n",
       " (u'bent', 0.07791394985884452),\n",
       " (u'bent skewed', 0.10144374201564983),\n",
       " (u'coated', 0.04321898503872383),\n",
       " (u'coated connectors', 0.10144374201564983),\n",
       " (u'common', 0.04877288023908281),\n",
       " (u'common nails', 0.07745317236071679),\n",
       " (u'connection', 0.04907384097680511),\n",
       " (u'connection needed', 0.10075492102245356),\n",
       " (u'connections', 0.056150408265782714),\n",
       " (u'connections home', 0.10689579463957886),\n",
       " (u'connector', 0.05776846062526235),\n",
       " (u'connector various', 0.10689579463957886),\n",
       " (u'connectors', 0.06021564672857583),\n",
       " (u'connectors provide', 0.09124554827068897),\n",
       " (u'consistent', 0.05376266615864131),\n",
       " (u'consistent straight', 0.10144374201564983),\n",
       " (u'consistently', 0.07730389690602227),\n",
       " (u'consistently straight', 0.10577127964047632),\n",
       " (u'corners', 0.05496275718869491),\n",
       " (u'corners simpson', 0.10144374201564983),\n",
       " (u'corrosion', 0.08725621123826383),\n",
       " (u'corrosion look', 0.10144374201564983),\n",
       " (u'corrosion resistanceinstall', 0.08293030847686729),\n",
       " (u'drive', 0.050077413933611245),\n",
       " (u'drive sd', 0.0814113644449583),\n",
       " (u'duty', 0.036328529994782685),\n",
       " (u'duty jobs', 0.09180741594515412),\n",
       " (u'end', 0.04449320377530131),\n",
       " (u'end model', 0.10144374201564983),\n",
       " (u'ensure', 0.04350558835913144),\n",
       " (u'ensure joints', 0.10577127964047632),\n",
       " (u'extra', 0.08220426072953067),\n",
       " (u'extra corrosion', 0.07203122700929857),\n",
       " (u'extra resistance', 0.10144374201564983),\n",
       " (u'fastening', 0.055779048023524416),\n",
       " (u'fastening alonehelp', 0.10689579463957886),\n",
       " (u'gauge', 0.043634426626736084),\n",
       " (u'gauge steelgalvanized', 0.08268208749795035),\n",
       " (u'handle', 0.03686977637925167),\n",
       " (u'handle light', 0.09270989872562282),\n",
       " (u'home', 0.0264549652492049),\n",
       " (u'home repair', 0.09735605765388425),\n",
       " (u'jobs', 0.058519264939130254),\n",
       " (u'jobs projects', 0.09949782020618972),\n",
       " (u'joints', 0.11465222582461174),\n",
       " (u'joints consistently', 0.10577127964047632),\n",
       " (u'joints stronger', 0.10144374201564983),\n",
       " (u'light', 0.030282646636577634),\n",
       " (u'light duty', 0.07103867600632278),\n",
       " (u'look', 0.031764470184627906),\n",
       " (u'look end', 0.10144374201564983),\n",
       " (u'make', 0.03659490523195723),\n",
       " (u'make joints', 0.10144374201564983),\n",
       " (u'match', 0.046011301335474875),\n",
       " (u'match project', 0.10010787315901197),\n",
       " (u'model', 0.046721737780359464),\n",
       " (u'model number', 0.07768107470719772),\n",
       " (u'moisture', 0.04496966321412654),\n",
       " (u'moisture present', 0.09892075961666416),\n",
       " (u'nailing', 0.06947022846672685),\n",
       " (u'nailing screw', 0.08838236110079634),\n",
       " (u'nails', 0.053433002390775364),\n",
       " (u'nails strong', 0.08838236110079634),\n",
       " (u'needed', 0.04570372263241869),\n",
       " (u'needed bent', 0.10144374201564983),\n",
       " (u'number', 0.05529689644006939),\n",
       " (u'number versatile', 0.10689579463957886),\n",
       " (u'offers', 0.031586109826409185),\n",
       " (u'offers wide', 0.07258820665023306),\n",
       " (u'outdoor', 0.03419271192105038),\n",
       " (u'outdoor projects', 0.06813435961008898),\n",
       " (u'present', 0.06540682857738955),\n",
       " (u'present use', 0.10010787315901197),\n",
       " (u'project', 0.04428957875596204),\n",
       " (u'project outdoor', 0.10144374201564983),\n",
       " (u'projects', 0.09066076671419857),\n",
       " (u'projects moisture', 0.10144374201564983),\n",
       " (u'projects structural', 0.10144374201564983),\n",
       " (u'projectsstronger', 0.10689579463957886),\n",
       " (u'projectsstronger angled', 0.10689579463957886),\n",
       " (u'provide', 0.061573225613586524),\n",
       " (u'provide consistent', 0.08664779314887153),\n",
       " (u'provide extra', 0.07730389690602227),\n",
       " (u'repair', 0.054350166243083094),\n",
       " (u'repair projectsstronger', 0.10689579463957886),\n",
       " (u'resistance', 0.04418920477767555),\n",
       " (u'resistance corrosion', 0.08859371495833164),\n",
       " (u'resistanceinstall', 0.08293030847686729),\n",
       " (u'resistanceinstall 10d', 0.09599168939172079),\n",
       " (u'screw', 0.0482926633384004),\n",
       " (u'screw fastening', 0.10689579463957886),\n",
       " (u'screws', 0.04421921797953411),\n",
       " (u'sd', 0.07775813656564376),\n",
       " (u'sd screws', 0.08280547639853424),\n",
       " (u'simpson', 0.07028310027380857),\n",
       " (u'simpson strong', 0.07176327098514747),\n",
       " (u'sizes', 0.04494461336283084),\n",
       " (u'sizes thicknesses', 0.09071178600029278),\n",
       " (u'skewed', 0.09517028258136323),\n",
       " (u'skewed match', 0.10144374201564983),\n",
       " (u'steelgalvanized', 0.08088025880706563),\n",
       " (u'steelgalvanized extra', 0.08280547639853424),\n",
       " (u'straight', 0.1074926931028877),\n",
       " (u'straight corners', 0.10144374201564983),\n",
       " (u'straight strongdimensions', 0.10815289545584271),\n",
       " (u'strong', 0.09054987793467008),\n",
       " (u'strong drive', 0.07775813656564376),\n",
       " (u'strong tie', 0.07163177419620277),\n",
       " (u'strongdimensions', 0.10815289545584271),\n",
       " (u'strongdimensions 12', 0.11555086988923187),\n",
       " (u'stronger', 0.06225163676054304),\n",
       " (u'stronger provide', 0.10144374201564983),\n",
       " (u'structural', 0.058329685869112004),\n",
       " (u'structural connection', 0.10144374201564983),\n",
       " (u'thicknesses', 0.07807207158095612),\n",
       " (u'thicknesses handle', 0.10075492102245356),\n",
       " (u'tie', 0.06305930411986703),\n",
       " (u'tie offers', 0.08017849297173955),\n",
       " (u'use', 0.0214920007628384),\n",
       " (u'use zmax', 0.10218010438378967),\n",
       " (u'variety', 0.03665885009180626),\n",
       " (u'variety angles', 0.10144374201564983),\n",
       " (u'various', 0.10503110146763701),\n",
       " (u'various 90', 0.10689579463957886),\n",
       " (u'various sizes', 0.06888193902710962),\n",
       " (u'versatile', 0.04565012772267315),\n",
       " (u'versatile connector', 0.10689579463957886),\n",
       " (u'wide', 0.037523430879256844),\n",
       " (u'wide variety', 0.05381177523774193),\n",
       " (u'zinc', 0.055147097194683144),\n",
       " (u'zinc coated', 0.0892541124433106),\n",
       " (u'zmax', 0.10075492102245356),\n",
       " (u'zmax zinc', 0.1029710603289046)]"
      ]
     },
     "execution_count": 61,
     "metadata": {},
     "output_type": "execute_result"
    }
   ],
   "source": [
    "sorted(train.tfidf[1][0].items())"
   ]
  },
  {
   "cell_type": "code",
   "execution_count": 66,
   "metadata": {
    "collapsed": false
   },
   "outputs": [
    {
     "data": {
      "text/plain": [
       "'Not only do angles make joints stronger, they also provide more consistent, straight corners. Simpson Strong-Tie offers a wide variety of angles in various sizes and thicknesses to handle light-duty jobs or projects where a structural connection is needed. Some can be bent (skewed) to match the project. For outdoor projects or those where moisture is present, use our ZMAX zinc-coated connectors, which provide extra resistance against corrosion (look for a \"Z\" at the end of the model number).Versatile connector for various 90 connections and home repair projectsStronger than angled nailing or screw fastening aloneHelp ensure joints are consistently straight and strongDimensions: 3 in. x 3 in. x 1-1/2 in.Made from 12-Gauge steelGalvanized for extra corrosion resistanceInstall with 10d common nails or #9 x 1-1/2 in. Strong-Drive SD screws'"
      ]
     },
     "execution_count": 66,
     "metadata": {},
     "output_type": "execute_result"
    }
   ],
   "source": [
    "#train.tfidf[1]\n",
    "train.product_description[1] "
   ]
  },
  {
   "cell_type": "code",
   "execution_count": null,
   "metadata": {
    "collapsed": false
   },
   "outputs": [],
   "source": []
  },
  {
   "cell_type": "markdown",
   "metadata": {},
   "source": [
    "## Individual Vocabulary "
   ]
  },
  {
   "cell_type": "code",
   "execution_count": 29,
   "metadata": {
    "collapsed": false
   },
   "outputs": [],
   "source": [
    "# combine the three dictionary tpgether and than do the tfidf"
   ]
  },
  {
   "cell_type": "code",
   "execution_count": 30,
   "metadata": {
    "collapsed": false
   },
   "outputs": [],
   "source": [
    "new=train.groupby('product_uid').agg(lambda x: x.tolist())"
   ]
  },
  {
   "cell_type": "code",
   "execution_count": 31,
   "metadata": {
    "collapsed": false
   },
   "outputs": [
    {
     "data": {
      "text/html": [
       "<div>\n",
       "<table border=\"1\" class=\"dataframe\">\n",
       "  <thead>\n",
       "    <tr style=\"text-align: right;\">\n",
       "      <th></th>\n",
       "      <th>id</th>\n",
       "      <th>product_title</th>\n",
       "      <th>search_term</th>\n",
       "      <th>product_description</th>\n",
       "      <th>relevance</th>\n",
       "      <th>productDict</th>\n",
       "      <th>searchDict</th>\n",
       "      <th>desDict</th>\n",
       "      <th>tfidf</th>\n",
       "    </tr>\n",
       "    <tr>\n",
       "      <th>product_uid</th>\n",
       "      <th></th>\n",
       "      <th></th>\n",
       "      <th></th>\n",
       "      <th></th>\n",
       "      <th></th>\n",
       "      <th></th>\n",
       "      <th></th>\n",
       "      <th></th>\n",
       "      <th></th>\n",
       "    </tr>\n",
       "  </thead>\n",
       "  <tbody>\n",
       "    <tr>\n",
       "      <th>100001</th>\n",
       "      <td>[2, 3]</td>\n",
       "      <td>[Simpson Strong-Tie 12-Gauge Angle, Simpson St...</td>\n",
       "      <td>[angle bracket, l bracket]</td>\n",
       "      <td>[Not only do angles make joints stronger, they...</td>\n",
       "      <td>[3.0, 2.5]</td>\n",
       "      <td>[{u'12': 1, u'angl': 1, u'gaug': 1, u'tie': 1,...</td>\n",
       "      <td>[{u'angl': 1, u'bracket': 1}, {u'bracket': 1, ...</td>\n",
       "      <td>[{u'repair': 1, u'outdoor': 1, u'zmax': 1, u'h...</td>\n",
       "      <td>[[{u'outdoor': 0.0341927119211, u'zmax': 0.100...</td>\n",
       "    </tr>\n",
       "    <tr>\n",
       "      <th>100002</th>\n",
       "      <td>[9]</td>\n",
       "      <td>[BEHR Premium Textured DeckOver 1-gal. #SC-141...</td>\n",
       "      <td>[deck over]</td>\n",
       "      <td>[BEHR Premium Textured DECKOVER is an innovati...</td>\n",
       "      <td>[3.0]</td>\n",
       "      <td>[{u'tugboat': 1, u'deckov': 1, u'premium': 1, ...</td>\n",
       "      <td>[{u'deck': 1}]</td>\n",
       "      <td>[{u'galloncr': 1, u'sidewalks100': 1, u'compos...</td>\n",
       "      <td>[[{u'sidewalks100': 0.0814258189897, u'applica...</td>\n",
       "    </tr>\n",
       "  </tbody>\n",
       "</table>\n",
       "</div>"
      ],
      "text/plain": [
       "                 id                                      product_title  \\\n",
       "product_uid                                                              \n",
       "100001       [2, 3]  [Simpson Strong-Tie 12-Gauge Angle, Simpson St...   \n",
       "100002          [9]  [BEHR Premium Textured DeckOver 1-gal. #SC-141...   \n",
       "\n",
       "                            search_term  \\\n",
       "product_uid                               \n",
       "100001       [angle bracket, l bracket]   \n",
       "100002                      [deck over]   \n",
       "\n",
       "                                           product_description   relevance  \\\n",
       "product_uid                                                                  \n",
       "100001       [Not only do angles make joints stronger, they...  [3.0, 2.5]   \n",
       "100002       [BEHR Premium Textured DECKOVER is an innovati...       [3.0]   \n",
       "\n",
       "                                                   productDict  \\\n",
       "product_uid                                                      \n",
       "100001       [{u'12': 1, u'angl': 1, u'gaug': 1, u'tie': 1,...   \n",
       "100002       [{u'tugboat': 1, u'deckov': 1, u'premium': 1, ...   \n",
       "\n",
       "                                                    searchDict  \\\n",
       "product_uid                                                      \n",
       "100001       [{u'angl': 1, u'bracket': 1}, {u'bracket': 1, ...   \n",
       "100002                                          [{u'deck': 1}]   \n",
       "\n",
       "                                                       desDict  \\\n",
       "product_uid                                                      \n",
       "100001       [{u'repair': 1, u'outdoor': 1, u'zmax': 1, u'h...   \n",
       "100002       [{u'galloncr': 1, u'sidewalks100': 1, u'compos...   \n",
       "\n",
       "                                                         tfidf  \n",
       "product_uid                                                     \n",
       "100001       [[{u'outdoor': 0.0341927119211, u'zmax': 0.100...  \n",
       "100002       [[{u'sidewalks100': 0.0814258189897, u'applica...  "
      ]
     },
     "execution_count": 31,
     "metadata": {},
     "output_type": "execute_result"
    }
   ],
   "source": [
    "new.head(2)"
   ]
  },
  {
   "cell_type": "code",
   "execution_count": 32,
   "metadata": {
    "collapsed": false
   },
   "outputs": [
    {
     "data": {
      "text/plain": [
       "((74067, 10), (54667, 9))"
      ]
     },
     "execution_count": 32,
     "metadata": {},
     "output_type": "execute_result"
    }
   ],
   "source": [
    "train.shape,new.shape"
   ]
  },
  {
   "cell_type": "code",
   "execution_count": 33,
   "metadata": {
    "collapsed": false
   },
   "outputs": [
    {
     "data": {
      "text/plain": [
       "array([['angle bracket', 'l bracket'], ['deck over'],\n",
       "       ['rain shower head', 'shower only faucet'], ...,\n",
       "       ['schlage lock siena half dummy knob with'], ['zen garden  decor'],\n",
       "       ['fine sheer curtain 63 inches']], dtype=object)"
      ]
     },
     "execution_count": 33,
     "metadata": {},
     "output_type": "execute_result"
    }
   ],
   "source": [
    "new.search_term.values"
   ]
  },
  {
   "cell_type": "code",
   "execution_count": 34,
   "metadata": {
    "collapsed": true
   },
   "outputs": [],
   "source": [
    "#create dict for sear-term individually\n",
    "str_total=\"\"\n",
    "for i in range(len(new.search_term)):\n",
    "    str1 = ''.join(str(e) for e in new.search_term.iloc[i])\n",
    "    str_total=str_total+str1"
   ]
  },
  {
   "cell_type": "code",
   "execution_count": 35,
   "metadata": {
    "collapsed": false
   },
   "outputs": [],
   "source": [
    "tf = TfidfVectorizer(analyzer='word', ngram_range=(1,2), min_df = 0, stop_words = 'english')\n",
    "tfidf_matrix_new_s_t=tf.fit_transform(pd.Series(str_total.split()))"
   ]
  },
  {
   "cell_type": "code",
   "execution_count": 36,
   "metadata": {
    "collapsed": false
   },
   "outputs": [
    {
     "data": {
      "text/plain": [
       "<159927x64142 sparse matrix of type '<type 'numpy.float64'>'\n",
       "\twith 151107 stored elements in Compressed Sparse Row format>"
      ]
     },
     "execution_count": 36,
     "metadata": {},
     "output_type": "execute_result"
    }
   ],
   "source": [
    "tfidf_matrix_new_s_t"
   ]
  },
  {
   "cell_type": "code",
   "execution_count": 37,
   "metadata": {
    "collapsed": false
   },
   "outputs": [],
   "source": [
    "feature_names_new_s_t = tf.get_feature_names()"
   ]
  },
  {
   "cell_type": "code",
   "execution_count": 38,
   "metadata": {
    "collapsed": false
   },
   "outputs": [],
   "source": [
    "dense_search_term_indi = tfidf_matrix.todense()"
   ]
  },
  {
   "cell_type": "code",
   "execution_count": 39,
   "metadata": {
    "collapsed": false
   },
   "outputs": [
    {
     "data": {
      "text/plain": [
       "((74067, 1373750), (1, 1373750), (1, 1373750))"
      ]
     },
     "execution_count": 39,
     "metadata": {},
     "output_type": "execute_result"
    }
   ],
   "source": [
    "dense_search_term_indi.shape, dense_search_term_indi[0].shape,dense_search_term_indi[0].shape"
   ]
  },
  {
   "cell_type": "code",
   "execution_count": 40,
   "metadata": {
    "collapsed": true
   },
   "outputs": [],
   "source": [
    "episode_search_term_indi=dense[100].tolist()[0]"
   ]
  },
  {
   "cell_type": "code",
   "execution_count": 41,
   "metadata": {
    "collapsed": false
   },
   "outputs": [],
   "source": [
    "phrase_scores_search_term_indi = [pair for pair in zip(range(0, len(episode_search_term_indi)), episode_search_term_indi) if pair[1] > 0]"
   ]
  },
  {
   "cell_type": "code",
   "execution_count": 42,
   "metadata": {
    "collapsed": false
   },
   "outputs": [
    {
     "data": {
      "text/plain": [
       "[(938217, 0.3111114557886197),\n",
       " (122660, 0.23748638962660262),\n",
       " (560794, 0.21870461599741992),\n",
       " (623338, 0.20333274938488016),\n",
       " (1270208, 0.1963557866357005)]"
      ]
     },
     "execution_count": 42,
     "metadata": {},
     "output_type": "execute_result"
    }
   ],
   "source": [
    "sorted(phrase_scores_search_term_indi, key=lambda t: t[1] * -1)[:5]"
   ]
  },
  {
   "cell_type": "code",
   "execution_count": 43,
   "metadata": {
    "collapsed": false
   },
   "outputs": [
    {
     "ename": "IndexError",
     "evalue": "list index out of range",
     "output_type": "error",
     "traceback": [
      "\u001b[0;31m---------------------------------------------------------------------------\u001b[0m",
      "\u001b[0;31mIndexError\u001b[0m                                Traceback (most recent call last)",
      "\u001b[0;32m<ipython-input-43-04fcdb370e57>\u001b[0m in \u001b[0;36m<module>\u001b[0;34m()\u001b[0m\n\u001b[0;32m----> 1\u001b[0;31m \u001b[0mfeature_names_new_s_t\u001b[0m\u001b[0;34m[\u001b[0m\u001b[0;36m1270208\u001b[0m\u001b[0;34m]\u001b[0m\u001b[0;34m\u001b[0m\u001b[0m\n\u001b[0m",
      "\u001b[0;31mIndexError\u001b[0m: list index out of range"
     ]
    }
   ],
   "source": [
    "feature_names_new_s_t[1270208]"
   ]
  },
  {
   "cell_type": "code",
   "execution_count": null,
   "metadata": {
    "collapsed": true
   },
   "outputs": [],
   "source": []
  },
  {
   "cell_type": "code",
   "execution_count": null,
   "metadata": {
    "collapsed": true
   },
   "outputs": [],
   "source": []
  },
  {
   "cell_type": "code",
   "execution_count": null,
   "metadata": {
    "collapsed": true
   },
   "outputs": [],
   "source": []
  },
  {
   "cell_type": "code",
   "execution_count": null,
   "metadata": {
    "collapsed": true
   },
   "outputs": [],
   "source": []
  },
  {
   "cell_type": "code",
   "execution_count": null,
   "metadata": {
    "collapsed": true
   },
   "outputs": [],
   "source": [
    "def df_itf(item):\n",
    "    tf = TfidfVectorizer(analyzer='word', ngram_range=(1,2), min_df = 0, stop_words = 'english')  #at most gram-2\n",
    "    tfidf_matrix=tf.fit_transform(item)   #item should be pd.Series\n",
    "    feature_names = tf.get_feature_names()\n",
    "    dense = tfidf_matrix.todense()\n",
    "    episode=dense[100].tolist()[0]  # take the row 100 as an example. crush\n",
    "    phrase_scores = [pair for pair in zip(range(0, len(episode)), episode) if pair[1] > 0]\n",
    "    train['tfidf']=0\n",
    "    for i in range(len(dense)):\n",
    "        aadict = {}\n",
    "        episode=dense[i].tolist()[0]\n",
    "        phrase_scores = [pair for pair in zip(range(0, len(episode)), episode) if pair[1] > 0]\n",
    "        sorted_phrase_scores = sorted(phrase_scores, key=lambda t: t[1] * -1)\n",
    "        for phrase, score in [(feature_names[word_id], score) for (word_id, score) in sorted_phrase_scores]:\n",
    "            aadict[phrase] = score\n",
    "            train['tfidf'][i] = [aadict]\n",
    "            #if i>2:\n",
    "            #    break"
   ]
  },
  {
   "cell_type": "code",
   "execution_count": null,
   "metadata": {
    "collapsed": true
   },
   "outputs": [],
   "source": []
  },
  {
   "cell_type": "code",
   "execution_count": null,
   "metadata": {
    "collapsed": false
   },
   "outputs": [],
   "source": []
  },
  {
   "cell_type": "code",
   "execution_count": null,
   "metadata": {
    "collapsed": true
   },
   "outputs": [],
   "source": []
  },
  {
   "cell_type": "code",
   "execution_count": null,
   "metadata": {
    "collapsed": false
   },
   "outputs": [],
   "source": []
  },
  {
   "cell_type": "code",
   "execution_count": null,
   "metadata": {
    "collapsed": false
   },
   "outputs": [],
   "source": []
  },
  {
   "cell_type": "code",
   "execution_count": null,
   "metadata": {
    "collapsed": false
   },
   "outputs": [],
   "source": [
    "aadict.items()[1:10]"
   ]
  },
  {
   "cell_type": "markdown",
   "metadata": {
    "collapsed": true
   },
   "source": [
    "### SDT"
   ]
  },
  {
   "cell_type": "code",
   "execution_count": 52,
   "metadata": {
    "collapsed": true
   },
   "outputs": [],
   "source": [
    "import numpy as np\n",
    "from sklearn.decomposition import TruncatedSVD"
   ]
  },
  {
   "cell_type": "code",
   "execution_count": 59,
   "metadata": {
    "collapsed": false,
    "scrolled": true
   },
   "outputs": [
    {
     "data": {
      "text/plain": [
       "TruncatedSVD(algorithm='randomized',\n",
       "       n_components={u'code': 0.060885306620496724, u'help': 0.04039450573496891, u'rough kit': 0.09946039214734335, u'minimalistic': 0.11270632493110236, u'sleek': 0.05585122738990725, u'kit r10000': 0.11270632493110236, u'proposition': 0.03416816727205851, u'nbsp': 0.034124196795851824, u'rough': 0.06472...tion': 0.03416910447801144, u'multichoice': 0.1068243065336903, u'vero single': 0.12194447120620736},\n",
       "       n_iter=5, random_state=None, tol=0.0)"
      ]
     },
     "execution_count": 59,
     "metadata": {},
     "output_type": "execute_result"
    }
   ],
   "source": [
    "TruncatedSVD(aadict)"
   ]
  },
  {
   "cell_type": "code",
   "execution_count": 60,
   "metadata": {
    "collapsed": false
   },
   "outputs": [],
   "source": [
    "TruncatedSVD?"
   ]
  },
  {
   "cell_type": "code",
   "execution_count": null,
   "metadata": {
    "collapsed": false
   },
   "outputs": [],
   "source": []
  },
  {
   "cell_type": "code",
   "execution_count": null,
   "metadata": {
    "collapsed": true
   },
   "outputs": [],
   "source": []
  },
  {
   "cell_type": "code",
   "execution_count": null,
   "metadata": {
    "collapsed": true
   },
   "outputs": [],
   "source": []
  },
  {
   "cell_type": "code",
   "execution_count": null,
   "metadata": {
    "collapsed": true
   },
   "outputs": [],
   "source": []
  },
  {
   "cell_type": "code",
   "execution_count": null,
   "metadata": {
    "collapsed": true
   },
   "outputs": [],
   "source": []
  },
  {
   "cell_type": "code",
   "execution_count": null,
   "metadata": {
    "collapsed": true
   },
   "outputs": [],
   "source": []
  }
 ],
 "metadata": {
  "kernelspec": {
   "display_name": "Python 2",
   "language": "python",
   "name": "python2"
  },
  "language_info": {
   "codemirror_mode": {
    "name": "ipython",
    "version": 2
   },
   "file_extension": ".py",
   "mimetype": "text/x-python",
   "name": "python",
   "nbconvert_exporter": "python",
   "pygments_lexer": "ipython2",
   "version": "2.7.11"
  }
 },
 "nbformat": 4,
 "nbformat_minor": 0
}
