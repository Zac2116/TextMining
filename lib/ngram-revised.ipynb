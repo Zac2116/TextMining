{
 "cells": [
  {
   "cell_type": "code",
   "execution_count": 1,
   "metadata": {
    "collapsed": true
   },
   "outputs": [],
   "source": [
    "import pandas as pd"
   ]
  },
  {
   "cell_type": "code",
   "execution_count": 2,
   "metadata": {
    "collapsed": true
   },
   "outputs": [],
   "source": [
    "train=pd.read_csv('/Users/pengfeiwang/Documents/kaggle/homedepot/train_clean.csv',keep_default_na=False,na_values=[])"
   ]
  },
  {
   "cell_type": "code",
   "execution_count": 193,
   "metadata": {
    "collapsed": false
   },
   "outputs": [],
   "source": [
    "from sklearn.feature_extraction.text import CountVectorizer\n",
    "from sklearn.feature_extraction.text import TfidfTransformer\n",
    "#from nltk.corpus import stopwords\n",
    "\n",
    "def tf_idf_features(train_ls,n):\n",
    "    train_set = train_ls #Documents\n",
    "    vectorizer = CountVectorizer(ngram_range=(n,n))#stop_words = stopWords\n",
    "    transformer = TfidfTransformer()\n",
    "    trainVectorizerArray = vectorizer.fit_transform(train_set).toarray()\n",
    "    transformer.fit(trainVectorizerArray)\n",
    "    return transformer.transform(trainVectorizerArray).toarray()\n",
    "\n",
    "from sklearn.metrics.pairwise import cosine_similarity\n",
    "\n",
    "\n",
    "def tfidf_cosSim(train,n):\n",
    "    df = pd.DataFrame()\n",
    "        #i = 0\n",
    "    for i in range(0,len(train)): #len(train)\n",
    "        id = train.iloc[i]['id']\n",
    "        t = train.iloc[i]['productList']\n",
    "        s = train.iloc[i]['searchList']\n",
    "        d = train.iloc[i]['desList']\n",
    "        cur_ls = [t,s,d]\n",
    "        tfidf = tf_idf_features(cur_ls,n)\n",
    "        m =  cosine_similarity(tfidf)\n",
    "        ts = m[0][1]\n",
    "        td = m[0][2]\n",
    "        sd = m[1][2]\n",
    "        df2 = pd.Series([id]+[ts]+[td]+[sd])\n",
    "        df = df.append(df2, ignore_index=True)\n",
    "    \n",
    "    names =['id','ts1','td1','sd1']\n",
    "    df.columns = names\n",
    "    return df\n"
   ]
  },
  {
   "cell_type": "code",
   "execution_count": null,
   "metadata": {
    "collapsed": false
   },
   "outputs": [],
   "source": []
  },
  {
   "cell_type": "code",
   "execution_count": null,
   "metadata": {
    "collapsed": false
   },
   "outputs": [],
   "source": []
  },
  {
   "cell_type": "code",
   "execution_count": null,
   "metadata": {
    "collapsed": false
   },
   "outputs": [],
   "source": []
  },
  {
   "cell_type": "code",
   "execution_count": null,
   "metadata": {
    "collapsed": false
   },
   "outputs": [],
   "source": []
  },
  {
   "cell_type": "code",
   "execution_count": null,
   "metadata": {
    "collapsed": true
   },
   "outputs": [],
   "source": []
  },
  {
   "cell_type": "code",
   "execution_count": 182,
   "metadata": {
    "collapsed": true
   },
   "outputs": [],
   "source": []
  },
  {
   "cell_type": "code",
   "execution_count": null,
   "metadata": {
    "collapsed": true
   },
   "outputs": [],
   "source": []
  },
  {
   "cell_type": "code",
   "execution_count": null,
   "metadata": {
    "collapsed": false
   },
   "outputs": [],
   "source": []
  },
  {
   "cell_type": "code",
   "execution_count": null,
   "metadata": {
    "collapsed": false
   },
   "outputs": [],
   "source": []
  },
  {
   "cell_type": "code",
   "execution_count": null,
   "metadata": {
    "collapsed": false
   },
   "outputs": [],
   "source": []
  }
 ],
 "metadata": {
  "kernelspec": {
   "display_name": "Python 2",
   "language": "python",
   "name": "python2"
  },
  "language_info": {
   "codemirror_mode": {
    "name": "ipython",
    "version": 2
   },
   "file_extension": ".py",
   "mimetype": "text/x-python",
   "name": "python",
   "nbconvert_exporter": "python",
   "pygments_lexer": "ipython2",
   "version": "2.7.11"
  }
 },
 "nbformat": 4,
 "nbformat_minor": 0
}
