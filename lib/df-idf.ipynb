{
 "cells": [
  {
   "cell_type": "code",
   "execution_count": null,
   "metadata": {
    "collapsed": true
   },
   "outputs": [],
   "source": [
    "#df-idf function\n",
    "#the item is the list (ie: productList, desList, searchList)\n",
    "#the name \n",
    "#the output is a dict in a new columns for each product id\n",
    "\n",
    "def df_itf(item,name):\n",
    "    tf = TfidfVectorizer(analyzer='word', ngram_range=(1,2), min_df = 0, stop_words = 'english')  #at most gram-2\n",
    "    tfidf_matrix=tf.fit_transform(item)   #item should be pd.Series\n",
    "    feature_names = tf.get_feature_names()\n",
    "    dense = tfidf_matrix.todense()\n",
    "    episode=dense[100].tolist()[0]  # take the row 100 as an example. crush\n",
    "    phrase_scores = [pair for pair in zip(range(0, len(episode)), episode) if pair[1] > 0]\n",
    "    train[name]=0\n",
    "    for i in range(len(dense)):\n",
    "        aadict = {}\n",
    "        episode=dense[i].tolist()[0]\n",
    "        phrase_scores = [pair for pair in zip(range(0, len(episode)), episode) if pair[1] > 0]\n",
    "        sorted_phrase_scores = sorted(phrase_scores, key=lambda t: t[1] * -1)\n",
    "        for phrase, score in [(feature_names[word_id], score) for (word_id, score) in sorted_phrase_scores]:\n",
    "            aadict[phrase] = score\n",
    "            train[name][i] = [aadict]\n",
    "        if i>2:\n",
    "            break"
   ]
  },
  {
   "cell_type": "code",
   "execution_count": 2,
   "metadata": {
    "collapsed": false
   },
   "outputs": [],
   "source": [
    "combineList=(train.productList+train.desList+train.searchList)"
   ]
  },
  {
   "cell_type": "code",
   "execution_count": null,
   "metadata": {
    "collapsed": true
   },
   "outputs": [],
   "source": [
    "df_itf(combineList,'Combine_df_itf')"
   ]
  }
 ],
 "metadata": {
  "kernelspec": {
   "display_name": "Python 2",
   "language": "python",
   "name": "python2"
  },
  "language_info": {
   "codemirror_mode": {
    "name": "ipython",
    "version": 2
   },
   "file_extension": ".py",
   "mimetype": "text/x-python",
   "name": "python",
   "nbconvert_exporter": "python",
   "pygments_lexer": "ipython2",
   "version": "2.7.11"
  }
 },
 "nbformat": 4,
 "nbformat_minor": 0
}
