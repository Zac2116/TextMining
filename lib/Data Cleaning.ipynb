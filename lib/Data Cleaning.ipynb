{
 "cells": [
  {
   "cell_type": "code",
   "execution_count": 2,
   "metadata": {
    "collapsed": true
   },
   "outputs": [],
   "source": [
    "import sys\n",
    "sys.path.append('/Applications/anaconda/lib/python2.7/site-packages')"
   ]
  },
  {
   "cell_type": "code",
   "execution_count": 3,
   "metadata": {
    "collapsed": false
   },
   "outputs": [],
   "source": [
    "import numpy as np\n",
    "import pandas as pd\n",
    "import nltk"
   ]
  },
  {
   "cell_type": "code",
   "execution_count": 65,
   "metadata": {
    "collapsed": false
   },
   "outputs": [],
   "source": [
    "train = pd.read_csv('train.csv',encoding=\"ISO-8859-1\")\n",
    "test = pd.read_csv('test.csv',encoding=\"ISO-8859-1\")\n",
    "description = pd.read_csv('product_descriptions.csv',encoding=\"ISO-8859-1\")"
   ]
  },
  {
   "cell_type": "code",
   "execution_count": 61,
   "metadata": {
    "collapsed": false
   },
   "outputs": [
    {
     "data": {
      "text/html": [
       "<div>\n",
       "<table border=\"1\" class=\"dataframe\">\n",
       "  <thead>\n",
       "    <tr style=\"text-align: right;\">\n",
       "      <th></th>\n",
       "      <th>id</th>\n",
       "      <th>product_uid</th>\n",
       "      <th>product_title</th>\n",
       "      <th>search_term</th>\n",
       "      <th>relevance</th>\n",
       "    </tr>\n",
       "  </thead>\n",
       "  <tbody>\n",
       "    <tr>\n",
       "      <th>0</th>\n",
       "      <td>2</td>\n",
       "      <td>100001</td>\n",
       "      <td>Simpson Strong-Tie 12-Gauge Angle</td>\n",
       "      <td>angle bracket</td>\n",
       "      <td>3.0</td>\n",
       "    </tr>\n",
       "    <tr>\n",
       "      <th>1</th>\n",
       "      <td>3</td>\n",
       "      <td>100001</td>\n",
       "      <td>Simpson Strong-Tie 12-Gauge Angle</td>\n",
       "      <td>l bracket</td>\n",
       "      <td>2.5</td>\n",
       "    </tr>\n",
       "    <tr>\n",
       "      <th>2</th>\n",
       "      <td>9</td>\n",
       "      <td>100002</td>\n",
       "      <td>BEHR Premium Textured DeckOver 1-gal. #SC-141 ...</td>\n",
       "      <td>deck over</td>\n",
       "      <td>3.0</td>\n",
       "    </tr>\n",
       "  </tbody>\n",
       "</table>\n",
       "</div>"
      ],
      "text/plain": [
       "   id  product_uid                                      product_title  \\\n",
       "0   2       100001                  Simpson Strong-Tie 12-Gauge Angle   \n",
       "1   3       100001                  Simpson Strong-Tie 12-Gauge Angle   \n",
       "2   9       100002  BEHR Premium Textured DeckOver 1-gal. #SC-141 ...   \n",
       "\n",
       "     search_term  relevance  \n",
       "0  angle bracket        3.0  \n",
       "1      l bracket        2.5  \n",
       "2      deck over        3.0  "
      ]
     },
     "execution_count": 61,
     "metadata": {},
     "output_type": "execute_result"
    }
   ],
   "source": [
    "train.head(3)"
   ]
  },
  {
   "cell_type": "code",
   "execution_count": 12,
   "metadata": {
    "collapsed": false
   },
   "outputs": [
    {
     "data": {
      "text/html": [
       "<div>\n",
       "<table border=\"1\" class=\"dataframe\">\n",
       "  <thead>\n",
       "    <tr style=\"text-align: right;\">\n",
       "      <th></th>\n",
       "      <th>id</th>\n",
       "      <th>product_uid</th>\n",
       "      <th>product_title</th>\n",
       "      <th>search_term</th>\n",
       "    </tr>\n",
       "  </thead>\n",
       "  <tbody>\n",
       "    <tr>\n",
       "      <th>0</th>\n",
       "      <td>1</td>\n",
       "      <td>100001</td>\n",
       "      <td>Simpson Strong-Tie 12-Gauge Angle</td>\n",
       "      <td>90 degree bracket</td>\n",
       "    </tr>\n",
       "    <tr>\n",
       "      <th>1</th>\n",
       "      <td>4</td>\n",
       "      <td>100001</td>\n",
       "      <td>Simpson Strong-Tie 12-Gauge Angle</td>\n",
       "      <td>metal l brackets</td>\n",
       "    </tr>\n",
       "    <tr>\n",
       "      <th>2</th>\n",
       "      <td>5</td>\n",
       "      <td>100001</td>\n",
       "      <td>Simpson Strong-Tie 12-Gauge Angle</td>\n",
       "      <td>simpson sku able</td>\n",
       "    </tr>\n",
       "  </tbody>\n",
       "</table>\n",
       "</div>"
      ],
      "text/plain": [
       "   id  product_uid                      product_title        search_term\n",
       "0   1       100001  Simpson Strong-Tie 12-Gauge Angle  90 degree bracket\n",
       "1   4       100001  Simpson Strong-Tie 12-Gauge Angle   metal l brackets\n",
       "2   5       100001  Simpson Strong-Tie 12-Gauge Angle   simpson sku able"
      ]
     },
     "execution_count": 12,
     "metadata": {},
     "output_type": "execute_result"
    }
   ],
   "source": [
    "test.head(3)"
   ]
  },
  {
   "cell_type": "code",
   "execution_count": 13,
   "metadata": {
    "collapsed": false
   },
   "outputs": [
    {
     "data": {
      "text/html": [
       "<div>\n",
       "<table border=\"1\" class=\"dataframe\">\n",
       "  <thead>\n",
       "    <tr style=\"text-align: right;\">\n",
       "      <th></th>\n",
       "      <th>product_uid</th>\n",
       "      <th>product_description</th>\n",
       "    </tr>\n",
       "  </thead>\n",
       "  <tbody>\n",
       "    <tr>\n",
       "      <th>0</th>\n",
       "      <td>100001</td>\n",
       "      <td>Not only do angles make joints stronger, they ...</td>\n",
       "    </tr>\n",
       "    <tr>\n",
       "      <th>1</th>\n",
       "      <td>100002</td>\n",
       "      <td>BEHR Premium Textured DECKOVER is an innovativ...</td>\n",
       "    </tr>\n",
       "    <tr>\n",
       "      <th>2</th>\n",
       "      <td>100003</td>\n",
       "      <td>Classic architecture meets contemporary design...</td>\n",
       "    </tr>\n",
       "  </tbody>\n",
       "</table>\n",
       "</div>"
      ],
      "text/plain": [
       "   product_uid                                product_description\n",
       "0       100001  Not only do angles make joints stronger, they ...\n",
       "1       100002  BEHR Premium Textured DECKOVER is an innovativ...\n",
       "2       100003  Classic architecture meets contemporary design..."
      ]
     },
     "execution_count": 13,
     "metadata": {},
     "output_type": "execute_result"
    }
   ],
   "source": [
    "description.head(3)"
   ]
  },
  {
   "cell_type": "code",
   "execution_count": 62,
   "metadata": {
    "collapsed": false
   },
   "outputs": [],
   "source": [
    "from nltk.corpus import stopwords\n",
    "from nltk.tokenize import RegexpTokenizer\n",
    "from nltk.stem.snowball import SnowballStemmer\n",
    "from nltk.stem.wordnet import WordNetLemmatizer\n",
    "tokenizer = RegexpTokenizer(r'\\w+')\n",
    "stemmer = SnowballStemmer('english')\n",
    "st = WordNetLemmatizer()"
   ]
  },
  {
   "cell_type": "code",
   "execution_count": 63,
   "metadata": {
    "collapsed": false
   },
   "outputs": [],
   "source": [
    "def generateDic(item):\n",
    "    text = \" \".join([st.lemmatize(stemmer.stem(word),'v') for word in tokenizer.tokenize(item.lower()) if word not in stopwords.words('english')])\n",
    "    dic = dict()\n",
    "    for w in text.split():\n",
    "        if w in dic.keys():\n",
    "            dic[w] = dic[w]+1\n",
    "        else:\n",
    "            dic[w] = 1\n",
    "    return dic"
   ]
  },
  {
   "cell_type": "code",
   "execution_count": 66,
   "metadata": {
    "collapsed": false
   },
   "outputs": [],
   "source": [
    "train['productDict']=train['product_title'].map(lambda x: generateDic(x))"
   ]
  },
  {
   "cell_type": "code",
   "execution_count": 67,
   "metadata": {
    "collapsed": true
   },
   "outputs": [],
   "source": [
    "train['searchDict']=train['search_term'].map(lambda x: generateDic(x))"
   ]
  },
  {
   "cell_type": "code",
   "execution_count": 71,
   "metadata": {
    "collapsed": false
   },
   "outputs": [
    {
     "data": {
      "text/html": [
       "<div>\n",
       "<table border=\"1\" class=\"dataframe\">\n",
       "  <thead>\n",
       "    <tr style=\"text-align: right;\">\n",
       "      <th></th>\n",
       "      <th>id</th>\n",
       "      <th>product_uid</th>\n",
       "      <th>product_title</th>\n",
       "      <th>search_term</th>\n",
       "      <th>relevance</th>\n",
       "      <th>productDict</th>\n",
       "      <th>searchDict</th>\n",
       "    </tr>\n",
       "  </thead>\n",
       "  <tbody>\n",
       "    <tr>\n",
       "      <th>0</th>\n",
       "      <td>2</td>\n",
       "      <td>100001</td>\n",
       "      <td>Simpson Strong-Tie 12-Gauge Angle</td>\n",
       "      <td>angle bracket</td>\n",
       "      <td>3.0</td>\n",
       "      <td>{u'12': 1, u'angl': 1, u'gaug': 1, u'tie': 1, ...</td>\n",
       "      <td>{u'angl': 1, u'bracket': 1}</td>\n",
       "    </tr>\n",
       "    <tr>\n",
       "      <th>1</th>\n",
       "      <td>3</td>\n",
       "      <td>100001</td>\n",
       "      <td>Simpson Strong-Tie 12-Gauge Angle</td>\n",
       "      <td>l bracket</td>\n",
       "      <td>2.5</td>\n",
       "      <td>{u'12': 1, u'angl': 1, u'gaug': 1, u'tie': 1, ...</td>\n",
       "      <td>{u'bracket': 1, u'l': 1}</td>\n",
       "    </tr>\n",
       "    <tr>\n",
       "      <th>2</th>\n",
       "      <td>9</td>\n",
       "      <td>100002</td>\n",
       "      <td>BEHR Premium Textured DeckOver 1-gal. #SC-141 ...</td>\n",
       "      <td>deck over</td>\n",
       "      <td>3.0</td>\n",
       "      <td>{u'tugboat': 1, u'deckov': 1, u'premium': 1, u...</td>\n",
       "      <td>{u'deck': 1}</td>\n",
       "    </tr>\n",
       "  </tbody>\n",
       "</table>\n",
       "</div>"
      ],
      "text/plain": [
       "   id  product_uid                                      product_title  \\\n",
       "0   2       100001                  Simpson Strong-Tie 12-Gauge Angle   \n",
       "1   3       100001                  Simpson Strong-Tie 12-Gauge Angle   \n",
       "2   9       100002  BEHR Premium Textured DeckOver 1-gal. #SC-141 ...   \n",
       "\n",
       "     search_term  relevance  \\\n",
       "0  angle bracket        3.0   \n",
       "1      l bracket        2.5   \n",
       "2      deck over        3.0   \n",
       "\n",
       "                                         productDict  \\\n",
       "0  {u'12': 1, u'angl': 1, u'gaug': 1, u'tie': 1, ...   \n",
       "1  {u'12': 1, u'angl': 1, u'gaug': 1, u'tie': 1, ...   \n",
       "2  {u'tugboat': 1, u'deckov': 1, u'premium': 1, u...   \n",
       "\n",
       "                    searchDict  \n",
       "0  {u'angl': 1, u'bracket': 1}  \n",
       "1     {u'bracket': 1, u'l': 1}  \n",
       "2                 {u'deck': 1}  "
      ]
     },
     "execution_count": 71,
     "metadata": {},
     "output_type": "execute_result"
    }
   ],
   "source": [
    "train.head(3)"
   ]
  },
  {
   "cell_type": "code",
   "execution_count": 68,
   "metadata": {
    "collapsed": true
   },
   "outputs": [],
   "source": [
    "test['productDict']=test['product_title'].map(lambda x: generateDic(x))"
   ]
  },
  {
   "cell_type": "code",
   "execution_count": 72,
   "metadata": {
    "collapsed": true
   },
   "outputs": [],
   "source": [
    "test['searchDict']=test['search_term'].map(lambda x: generateDic(x))"
   ]
  },
  {
   "cell_type": "code",
   "execution_count": 73,
   "metadata": {
    "collapsed": false
   },
   "outputs": [
    {
     "data": {
      "text/html": [
       "<div>\n",
       "<table border=\"1\" class=\"dataframe\">\n",
       "  <thead>\n",
       "    <tr style=\"text-align: right;\">\n",
       "      <th></th>\n",
       "      <th>id</th>\n",
       "      <th>product_uid</th>\n",
       "      <th>product_title</th>\n",
       "      <th>search_term</th>\n",
       "      <th>productDict</th>\n",
       "      <th>searchDict</th>\n",
       "    </tr>\n",
       "  </thead>\n",
       "  <tbody>\n",
       "    <tr>\n",
       "      <th>0</th>\n",
       "      <td>1</td>\n",
       "      <td>100001</td>\n",
       "      <td>Simpson Strong-Tie 12-Gauge Angle</td>\n",
       "      <td>90 degree bracket</td>\n",
       "      <td>{u'12': 1, u'angl': 1, u'gaug': 1, u'tie': 1, ...</td>\n",
       "      <td>{u'90': 1, u'degre': 1, u'bracket': 1}</td>\n",
       "    </tr>\n",
       "    <tr>\n",
       "      <th>1</th>\n",
       "      <td>4</td>\n",
       "      <td>100001</td>\n",
       "      <td>Simpson Strong-Tie 12-Gauge Angle</td>\n",
       "      <td>metal l brackets</td>\n",
       "      <td>{u'12': 1, u'angl': 1, u'gaug': 1, u'tie': 1, ...</td>\n",
       "      <td>{u'bracket': 1, u'metal': 1, u'l': 1}</td>\n",
       "    </tr>\n",
       "    <tr>\n",
       "      <th>2</th>\n",
       "      <td>5</td>\n",
       "      <td>100001</td>\n",
       "      <td>Simpson Strong-Tie 12-Gauge Angle</td>\n",
       "      <td>simpson sku able</td>\n",
       "      <td>{u'12': 1, u'angl': 1, u'gaug': 1, u'tie': 1, ...</td>\n",
       "      <td>{u'sku': 1, u'abl': 1, u'simpson': 1}</td>\n",
       "    </tr>\n",
       "  </tbody>\n",
       "</table>\n",
       "</div>"
      ],
      "text/plain": [
       "   id  product_uid                      product_title        search_term  \\\n",
       "0   1       100001  Simpson Strong-Tie 12-Gauge Angle  90 degree bracket   \n",
       "1   4       100001  Simpson Strong-Tie 12-Gauge Angle   metal l brackets   \n",
       "2   5       100001  Simpson Strong-Tie 12-Gauge Angle   simpson sku able   \n",
       "\n",
       "                                         productDict  \\\n",
       "0  {u'12': 1, u'angl': 1, u'gaug': 1, u'tie': 1, ...   \n",
       "1  {u'12': 1, u'angl': 1, u'gaug': 1, u'tie': 1, ...   \n",
       "2  {u'12': 1, u'angl': 1, u'gaug': 1, u'tie': 1, ...   \n",
       "\n",
       "                               searchDict  \n",
       "0  {u'90': 1, u'degre': 1, u'bracket': 1}  \n",
       "1   {u'bracket': 1, u'metal': 1, u'l': 1}  \n",
       "2   {u'sku': 1, u'abl': 1, u'simpson': 1}  "
      ]
     },
     "execution_count": 73,
     "metadata": {},
     "output_type": "execute_result"
    }
   ],
   "source": [
    "test.head(3)"
   ]
  },
  {
   "cell_type": "code",
   "execution_count": 74,
   "metadata": {
    "collapsed": true
   },
   "outputs": [],
   "source": [
    "description['desDict']=description['product_description'].map(lambda x: generateDic(x))"
   ]
  },
  {
   "cell_type": "code",
   "execution_count": 75,
   "metadata": {
    "collapsed": false
   },
   "outputs": [
    {
     "data": {
      "text/html": [
       "<div>\n",
       "<table border=\"1\" class=\"dataframe\">\n",
       "  <thead>\n",
       "    <tr style=\"text-align: right;\">\n",
       "      <th></th>\n",
       "      <th>product_uid</th>\n",
       "      <th>product_description</th>\n",
       "      <th>desDict</th>\n",
       "    </tr>\n",
       "  </thead>\n",
       "  <tbody>\n",
       "    <tr>\n",
       "      <th>0</th>\n",
       "      <td>100001</td>\n",
       "      <td>Not only do angles make joints stronger, they ...</td>\n",
       "      <td>{u'repair': 1, u'outdoor': 1, u'zmax': 1, u'ho...</td>\n",
       "    </tr>\n",
       "    <tr>\n",
       "      <th>1</th>\n",
       "      <td>100002</td>\n",
       "      <td>BEHR Premium Textured DECKOVER is an innovativ...</td>\n",
       "      <td>{u'galloncr': 1, u'sidewalks100': 1, u'composi...</td>\n",
       "    </tr>\n",
       "    <tr>\n",
       "      <th>2</th>\n",
       "      <td>100003</td>\n",
       "      <td>Classic architecture meets contemporary design...</td>\n",
       "      <td>{u'curv': 3, u'b45': 1, u'featur': 2, u'classi...</td>\n",
       "    </tr>\n",
       "  </tbody>\n",
       "</table>\n",
       "</div>"
      ],
      "text/plain": [
       "   product_uid                                product_description  \\\n",
       "0       100001  Not only do angles make joints stronger, they ...   \n",
       "1       100002  BEHR Premium Textured DECKOVER is an innovativ...   \n",
       "2       100003  Classic architecture meets contemporary design...   \n",
       "\n",
       "                                             desDict  \n",
       "0  {u'repair': 1, u'outdoor': 1, u'zmax': 1, u'ho...  \n",
       "1  {u'galloncr': 1, u'sidewalks100': 1, u'composi...  \n",
       "2  {u'curv': 3, u'b45': 1, u'featur': 2, u'classi...  "
      ]
     },
     "execution_count": 75,
     "metadata": {},
     "output_type": "execute_result"
    }
   ],
   "source": [
    "description.head(3)"
   ]
  },
  {
   "cell_type": "code",
   "execution_count": 79,
   "metadata": {
    "collapsed": false
   },
   "outputs": [],
   "source": [
    "train_clean = pd.merge(train,description,how='left',on='product_uid')\n",
    "column_order=['id','product_uid','product_title','search_term','product_description','relevance', 'productDict','searchDict','desDict']\n",
    "train_clean = train_clean[column_order]"
   ]
  },
  {
   "cell_type": "code",
   "execution_count": 80,
   "metadata": {
    "collapsed": false
   },
   "outputs": [
    {
     "data": {
      "text/html": [
       "<div>\n",
       "<table border=\"1\" class=\"dataframe\">\n",
       "  <thead>\n",
       "    <tr style=\"text-align: right;\">\n",
       "      <th></th>\n",
       "      <th>id</th>\n",
       "      <th>product_uid</th>\n",
       "      <th>product_title</th>\n",
       "      <th>search_term</th>\n",
       "      <th>product_description</th>\n",
       "      <th>relevance</th>\n",
       "      <th>productDict</th>\n",
       "      <th>searchDict</th>\n",
       "      <th>desDict</th>\n",
       "    </tr>\n",
       "  </thead>\n",
       "  <tbody>\n",
       "    <tr>\n",
       "      <th>0</th>\n",
       "      <td>2</td>\n",
       "      <td>100001</td>\n",
       "      <td>Simpson Strong-Tie 12-Gauge Angle</td>\n",
       "      <td>angle bracket</td>\n",
       "      <td>Not only do angles make joints stronger, they ...</td>\n",
       "      <td>3.0</td>\n",
       "      <td>{u'12': 1, u'angl': 1, u'gaug': 1, u'tie': 1, ...</td>\n",
       "      <td>{u'angl': 1, u'bracket': 1}</td>\n",
       "      <td>{u'repair': 1, u'outdoor': 1, u'zmax': 1, u'ho...</td>\n",
       "    </tr>\n",
       "    <tr>\n",
       "      <th>1</th>\n",
       "      <td>3</td>\n",
       "      <td>100001</td>\n",
       "      <td>Simpson Strong-Tie 12-Gauge Angle</td>\n",
       "      <td>l bracket</td>\n",
       "      <td>Not only do angles make joints stronger, they ...</td>\n",
       "      <td>2.5</td>\n",
       "      <td>{u'12': 1, u'angl': 1, u'gaug': 1, u'tie': 1, ...</td>\n",
       "      <td>{u'bracket': 1, u'l': 1}</td>\n",
       "      <td>{u'repair': 1, u'outdoor': 1, u'zmax': 1, u'ho...</td>\n",
       "    </tr>\n",
       "    <tr>\n",
       "      <th>2</th>\n",
       "      <td>9</td>\n",
       "      <td>100002</td>\n",
       "      <td>BEHR Premium Textured DeckOver 1-gal. #SC-141 ...</td>\n",
       "      <td>deck over</td>\n",
       "      <td>BEHR Premium Textured DECKOVER is an innovativ...</td>\n",
       "      <td>3.0</td>\n",
       "      <td>{u'tugboat': 1, u'deckov': 1, u'premium': 1, u...</td>\n",
       "      <td>{u'deck': 1}</td>\n",
       "      <td>{u'galloncr': 1, u'sidewalks100': 1, u'composi...</td>\n",
       "    </tr>\n",
       "  </tbody>\n",
       "</table>\n",
       "</div>"
      ],
      "text/plain": [
       "   id  product_uid                                      product_title  \\\n",
       "0   2       100001                  Simpson Strong-Tie 12-Gauge Angle   \n",
       "1   3       100001                  Simpson Strong-Tie 12-Gauge Angle   \n",
       "2   9       100002  BEHR Premium Textured DeckOver 1-gal. #SC-141 ...   \n",
       "\n",
       "     search_term                                product_description  \\\n",
       "0  angle bracket  Not only do angles make joints stronger, they ...   \n",
       "1      l bracket  Not only do angles make joints stronger, they ...   \n",
       "2      deck over  BEHR Premium Textured DECKOVER is an innovativ...   \n",
       "\n",
       "   relevance                                        productDict  \\\n",
       "0        3.0  {u'12': 1, u'angl': 1, u'gaug': 1, u'tie': 1, ...   \n",
       "1        2.5  {u'12': 1, u'angl': 1, u'gaug': 1, u'tie': 1, ...   \n",
       "2        3.0  {u'tugboat': 1, u'deckov': 1, u'premium': 1, u...   \n",
       "\n",
       "                    searchDict  \\\n",
       "0  {u'angl': 1, u'bracket': 1}   \n",
       "1     {u'bracket': 1, u'l': 1}   \n",
       "2                 {u'deck': 1}   \n",
       "\n",
       "                                             desDict  \n",
       "0  {u'repair': 1, u'outdoor': 1, u'zmax': 1, u'ho...  \n",
       "1  {u'repair': 1, u'outdoor': 1, u'zmax': 1, u'ho...  \n",
       "2  {u'galloncr': 1, u'sidewalks100': 1, u'composi...  "
      ]
     },
     "execution_count": 80,
     "metadata": {},
     "output_type": "execute_result"
    }
   ],
   "source": [
    "train_clean.head(3)"
   ]
  },
  {
   "cell_type": "code",
   "execution_count": 81,
   "metadata": {
    "collapsed": true
   },
   "outputs": [],
   "source": [
    "test_clean = pd.merge(test,description,how='left',on='product_uid')\n",
    "column_order=['id','product_uid','product_title','search_term','product_description','productDict','searchDict','desDict']\n",
    "test_clean = test_clean[column_order]"
   ]
  },
  {
   "cell_type": "code",
   "execution_count": 82,
   "metadata": {
    "collapsed": false
   },
   "outputs": [
    {
     "data": {
      "text/html": [
       "<div>\n",
       "<table border=\"1\" class=\"dataframe\">\n",
       "  <thead>\n",
       "    <tr style=\"text-align: right;\">\n",
       "      <th></th>\n",
       "      <th>id</th>\n",
       "      <th>product_uid</th>\n",
       "      <th>product_title</th>\n",
       "      <th>search_term</th>\n",
       "      <th>product_description</th>\n",
       "      <th>productDict</th>\n",
       "      <th>searchDict</th>\n",
       "      <th>desDict</th>\n",
       "    </tr>\n",
       "  </thead>\n",
       "  <tbody>\n",
       "    <tr>\n",
       "      <th>0</th>\n",
       "      <td>1</td>\n",
       "      <td>100001</td>\n",
       "      <td>Simpson Strong-Tie 12-Gauge Angle</td>\n",
       "      <td>90 degree bracket</td>\n",
       "      <td>Not only do angles make joints stronger, they ...</td>\n",
       "      <td>{u'12': 1, u'angl': 1, u'gaug': 1, u'tie': 1, ...</td>\n",
       "      <td>{u'90': 1, u'degre': 1, u'bracket': 1}</td>\n",
       "      <td>{u'repair': 1, u'outdoor': 1, u'zmax': 1, u'ho...</td>\n",
       "    </tr>\n",
       "    <tr>\n",
       "      <th>1</th>\n",
       "      <td>4</td>\n",
       "      <td>100001</td>\n",
       "      <td>Simpson Strong-Tie 12-Gauge Angle</td>\n",
       "      <td>metal l brackets</td>\n",
       "      <td>Not only do angles make joints stronger, they ...</td>\n",
       "      <td>{u'12': 1, u'angl': 1, u'gaug': 1, u'tie': 1, ...</td>\n",
       "      <td>{u'bracket': 1, u'metal': 1, u'l': 1}</td>\n",
       "      <td>{u'repair': 1, u'outdoor': 1, u'zmax': 1, u'ho...</td>\n",
       "    </tr>\n",
       "    <tr>\n",
       "      <th>2</th>\n",
       "      <td>5</td>\n",
       "      <td>100001</td>\n",
       "      <td>Simpson Strong-Tie 12-Gauge Angle</td>\n",
       "      <td>simpson sku able</td>\n",
       "      <td>Not only do angles make joints stronger, they ...</td>\n",
       "      <td>{u'12': 1, u'angl': 1, u'gaug': 1, u'tie': 1, ...</td>\n",
       "      <td>{u'sku': 1, u'abl': 1, u'simpson': 1}</td>\n",
       "      <td>{u'repair': 1, u'outdoor': 1, u'zmax': 1, u'ho...</td>\n",
       "    </tr>\n",
       "  </tbody>\n",
       "</table>\n",
       "</div>"
      ],
      "text/plain": [
       "   id  product_uid                      product_title        search_term  \\\n",
       "0   1       100001  Simpson Strong-Tie 12-Gauge Angle  90 degree bracket   \n",
       "1   4       100001  Simpson Strong-Tie 12-Gauge Angle   metal l brackets   \n",
       "2   5       100001  Simpson Strong-Tie 12-Gauge Angle   simpson sku able   \n",
       "\n",
       "                                 product_description  \\\n",
       "0  Not only do angles make joints stronger, they ...   \n",
       "1  Not only do angles make joints stronger, they ...   \n",
       "2  Not only do angles make joints stronger, they ...   \n",
       "\n",
       "                                         productDict  \\\n",
       "0  {u'12': 1, u'angl': 1, u'gaug': 1, u'tie': 1, ...   \n",
       "1  {u'12': 1, u'angl': 1, u'gaug': 1, u'tie': 1, ...   \n",
       "2  {u'12': 1, u'angl': 1, u'gaug': 1, u'tie': 1, ...   \n",
       "\n",
       "                               searchDict  \\\n",
       "0  {u'90': 1, u'degre': 1, u'bracket': 1}   \n",
       "1   {u'bracket': 1, u'metal': 1, u'l': 1}   \n",
       "2   {u'sku': 1, u'abl': 1, u'simpson': 1}   \n",
       "\n",
       "                                             desDict  \n",
       "0  {u'repair': 1, u'outdoor': 1, u'zmax': 1, u'ho...  \n",
       "1  {u'repair': 1, u'outdoor': 1, u'zmax': 1, u'ho...  \n",
       "2  {u'repair': 1, u'outdoor': 1, u'zmax': 1, u'ho...  "
      ]
     },
     "execution_count": 82,
     "metadata": {},
     "output_type": "execute_result"
    }
   ],
   "source": [
    "test_clean.head(3)"
   ]
  },
  {
   "cell_type": "code",
   "execution_count": null,
   "metadata": {
    "collapsed": false
   },
   "outputs": [],
   "source": [
    "train_clean.to_csv('train_clean.csv',index=False,encoding=\"ISO-8859-1\")\n",
    "test_clean.to_csv('test_clean.csv',index=False,encoding=\"ISO-8859-1\")"
   ]
  }
 ],
 "metadata": {
  "kernelspec": {
   "display_name": "Python 2",
   "language": "python",
   "name": "python2"
  },
  "language_info": {
   "codemirror_mode": {
    "name": "ipython",
    "version": 2
   },
   "file_extension": ".py",
   "mimetype": "text/x-python",
   "name": "python",
   "nbconvert_exporter": "python",
   "pygments_lexer": "ipython2",
   "version": "2.7.9"
  }
 },
 "nbformat": 4,
 "nbformat_minor": 0
}
