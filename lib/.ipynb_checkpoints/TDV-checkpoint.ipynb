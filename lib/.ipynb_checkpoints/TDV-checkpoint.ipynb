{
 "cells": [
  {
   "cell_type": "code",
   "execution_count": 1,
   "metadata": {
    "collapsed": true
   },
   "outputs": [],
   "source": [
    "import numpy as np\n",
    "import pandas as pd\n",
    "import nltk\n",
    "from nltk.corpus import stopwords\n",
    "from nltk.tokenize import RegexpTokenizer\n",
    "from nltk.stem.snowball import SnowballStemmer\n",
    "from nltk.stem.wordnet import WordNetLemmatizer"
   ]
  },
  {
   "cell_type": "markdown",
   "metadata": {},
   "source": [
    "# Train"
   ]
  },
  {
   "cell_type": "code",
   "execution_count": 2,
   "metadata": {
    "collapsed": false
   },
   "outputs": [],
   "source": [
    "train=pd.read_csv('~/Desktop/train_clean.csv',encoding='ISO-8859-1',keep_default_na=False,na_values=[])"
   ]
  },
  {
   "cell_type": "code",
   "execution_count": 4,
   "metadata": {
    "collapsed": false
   },
   "outputs": [
    {
     "data": {
      "text/plain": [
       "(74067, 9)"
      ]
     },
     "execution_count": 4,
     "metadata": {},
     "output_type": "execute_result"
    }
   ],
   "source": [
    "train.shape"
   ]
  },
  {
   "cell_type": "code",
   "execution_count": 5,
   "metadata": {
    "collapsed": false,
    "scrolled": true
   },
   "outputs": [
    {
     "data": {
      "text/html": [
       "<div>\n",
       "<table border=\"1\" class=\"dataframe\">\n",
       "  <thead>\n",
       "    <tr style=\"text-align: right;\">\n",
       "      <th></th>\n",
       "      <th>id</th>\n",
       "      <th>product_uid</th>\n",
       "      <th>product_title</th>\n",
       "      <th>search_term</th>\n",
       "      <th>product_description</th>\n",
       "      <th>relevance</th>\n",
       "      <th>productList</th>\n",
       "      <th>searchList</th>\n",
       "      <th>desList</th>\n",
       "    </tr>\n",
       "  </thead>\n",
       "  <tbody>\n",
       "    <tr>\n",
       "      <th>0</th>\n",
       "      <td>2</td>\n",
       "      <td>100001</td>\n",
       "      <td>Simpson Strong-Tie 12-Gauge Angle</td>\n",
       "      <td>angle bracket</td>\n",
       "      <td>Not only do angles make joints stronger, they ...</td>\n",
       "      <td>3.0</td>\n",
       "      <td>simpson strong-ti 12-gaug angl</td>\n",
       "      <td>angl bracket</td>\n",
       "      <td>angl brand joint strong besid suppli consist h...</td>\n",
       "    </tr>\n",
       "    <tr>\n",
       "      <th>1</th>\n",
       "      <td>3</td>\n",
       "      <td>100001</td>\n",
       "      <td>Simpson Strong-Tie 12-Gauge Angle</td>\n",
       "      <td>l bracket</td>\n",
       "      <td>Not only do angles make joints stronger, they ...</td>\n",
       "      <td>2.5</td>\n",
       "      <td>simpson strong-ti 12-gaug angl</td>\n",
       "      <td>liter bracket</td>\n",
       "      <td>angl brand joint strong besid suppli consist h...</td>\n",
       "    </tr>\n",
       "  </tbody>\n",
       "</table>\n",
       "</div>"
      ],
      "text/plain": [
       "   id  product_uid                      product_title    search_term  \\\n",
       "0   2       100001  Simpson Strong-Tie 12-Gauge Angle  angle bracket   \n",
       "1   3       100001  Simpson Strong-Tie 12-Gauge Angle      l bracket   \n",
       "\n",
       "                                 product_description  relevance  \\\n",
       "0  Not only do angles make joints stronger, they ...        3.0   \n",
       "1  Not only do angles make joints stronger, they ...        2.5   \n",
       "\n",
       "                      productList     searchList  \\\n",
       "0  simpson strong-ti 12-gaug angl   angl bracket   \n",
       "1  simpson strong-ti 12-gaug angl  liter bracket   \n",
       "\n",
       "                                             desList  \n",
       "0  angl brand joint strong besid suppli consist h...  \n",
       "1  angl brand joint strong besid suppli consist h...  "
      ]
     },
     "execution_count": 5,
     "metadata": {},
     "output_type": "execute_result"
    }
   ],
   "source": [
    "train.head(2)"
   ]
  },
  {
   "cell_type": "markdown",
   "metadata": {},
   "source": [
    "# TF-IDF"
   ]
  },
  {
   "cell_type": "markdown",
   "metadata": {},
   "source": [
    "## Common Vocabulary"
   ]
  },
  {
   "cell_type": "code",
   "execution_count": 6,
   "metadata": {
    "collapsed": false
   },
   "outputs": [],
   "source": [
    "combineList=train.productList+train.searchList+train.desListb"
   ]
  },
  {
   "cell_type": "code",
   "execution_count": 7,
   "metadata": {
    "collapsed": false
   },
   "outputs": [
    {
     "data": {
      "text/plain": [
       "1    simpson strong-ti 12-gaug anglliter bracketang...\n",
       "2    behr premium textur deck 1-gal sc-141 tugboat ...\n",
       "3    delta vero 1-handl shower faucet trim kit chro...\n",
       "4    delta vero 1-handl shower faucet trim kit chro...\n",
       "5    whirlpool 1.9 cu ft scope convect microwav sta...\n",
       "6    whirlpool 1.9 cu ft scope convect microwav sta...\n",
       "7    whirlpool 1.9 cu ft scope convect microwav sta...\n",
       "8    lithonia light quantum 2-light black light-emi...\n",
       "9    hous fara 3/4 in ten 3 in ten 8 ft mdf flute s...\n",
       "dtype: object"
      ]
     },
     "execution_count": 7,
     "metadata": {},
     "output_type": "execute_result"
    }
   ],
   "source": [
    "combineList[1:10]"
   ]
  },
  {
   "cell_type": "code",
   "execution_count": null,
   "metadata": {
    "collapsed": false
   },
   "outputs": [],
   "source": [
    "from sklearn.feature_extraction.text import TfidfVectorizer\n",
    "tf = TfidfVectorizer(analyzer='word', ngram_range=(1,1), min_df = 0,encoding='ISO-8859-1')\n",
    "tfidf_matrix = tf.fit_transform(combineList)"
   ]
  },
  {
   "cell_type": "code",
   "execution_count": 44,
   "metadata": {
    "collapsed": false
   },
   "outputs": [],
   "source": [
    "feature_names = tf.get_feature_names()"
   ]
  },
  {
   "cell_type": "code",
   "execution_count": 46,
   "metadata": {
    "collapsed": false
   },
   "outputs": [
    {
     "data": {
      "text/plain": [
       "1308206"
      ]
     },
     "execution_count": 46,
     "metadata": {},
     "output_type": "execute_result"
    }
   ],
   "source": [
    "len(feature_names)"
   ]
  },
  {
   "cell_type": "code",
   "execution_count": 14,
   "metadata": {
    "collapsed": false
   },
   "outputs": [],
   "source": [
    "# common tfidf\n",
    "common_tfidf = pd.DataFrame(tfidf_matrix.todense(),columns=feature_names,index=train.id[:10])"
   ]
  },
  {
   "cell_type": "code",
   "execution_count": 15,
   "metadata": {
    "collapsed": false
   },
   "outputs": [
    {
     "data": {
      "text/html": [
       "<div>\n",
       "<table border=\"1\" class=\"dataframe\">\n",
       "  <thead>\n",
       "    <tr style=\"text-align: right;\">\n",
       "      <th></th>\n",
       "      <th>10</th>\n",
       "      <th>10 cook</th>\n",
       "      <th>10 old_ag</th>\n",
       "      <th>100</th>\n",
       "      <th>100 acrylic_fib</th>\n",
       "      <th>10d</th>\n",
       "      <th>10d park</th>\n",
       "      <th>12</th>\n",
       "      <th>12 gaug</th>\n",
       "      <th>120</th>\n",
       "      <th>...</th>\n",
       "      <th>wood complex</th>\n",
       "      <th>wood concret</th>\n",
       "      <th>year</th>\n",
       "      <th>year guarante</th>\n",
       "      <th>york</th>\n",
       "      <th>york pleas</th>\n",
       "      <th>zinc</th>\n",
       "      <th>zinc coat</th>\n",
       "      <th>zmax</th>\n",
       "      <th>zmax zinc</th>\n",
       "    </tr>\n",
       "    <tr>\n",
       "      <th>id</th>\n",
       "      <th></th>\n",
       "      <th></th>\n",
       "      <th></th>\n",
       "      <th></th>\n",
       "      <th></th>\n",
       "      <th></th>\n",
       "      <th></th>\n",
       "      <th></th>\n",
       "      <th></th>\n",
       "      <th></th>\n",
       "      <th></th>\n",
       "      <th></th>\n",
       "      <th></th>\n",
       "      <th></th>\n",
       "      <th></th>\n",
       "      <th></th>\n",
       "      <th></th>\n",
       "      <th></th>\n",
       "      <th></th>\n",
       "      <th></th>\n",
       "      <th></th>\n",
       "    </tr>\n",
       "  </thead>\n",
       "  <tbody>\n",
       "    <tr>\n",
       "      <th>2</th>\n",
       "      <td>0.000000</td>\n",
       "      <td>0.000000</td>\n",
       "      <td>0.000000</td>\n",
       "      <td>0.00000</td>\n",
       "      <td>0.00000</td>\n",
       "      <td>0.060028</td>\n",
       "      <td>0.060028</td>\n",
       "      <td>0.120055</td>\n",
       "      <td>0.120055</td>\n",
       "      <td>0.000000</td>\n",
       "      <td>...</td>\n",
       "      <td>0.00000</td>\n",
       "      <td>0.00000</td>\n",
       "      <td>0.000000</td>\n",
       "      <td>0.000000</td>\n",
       "      <td>0.000000</td>\n",
       "      <td>0.000000</td>\n",
       "      <td>0.060028</td>\n",
       "      <td>0.060028</td>\n",
       "      <td>0.060028</td>\n",
       "      <td>0.060028</td>\n",
       "    </tr>\n",
       "    <tr>\n",
       "      <th>3</th>\n",
       "      <td>0.000000</td>\n",
       "      <td>0.000000</td>\n",
       "      <td>0.000000</td>\n",
       "      <td>0.00000</td>\n",
       "      <td>0.00000</td>\n",
       "      <td>0.060028</td>\n",
       "      <td>0.060028</td>\n",
       "      <td>0.120055</td>\n",
       "      <td>0.120055</td>\n",
       "      <td>0.000000</td>\n",
       "      <td>...</td>\n",
       "      <td>0.00000</td>\n",
       "      <td>0.00000</td>\n",
       "      <td>0.000000</td>\n",
       "      <td>0.000000</td>\n",
       "      <td>0.000000</td>\n",
       "      <td>0.000000</td>\n",
       "      <td>0.060028</td>\n",
       "      <td>0.060028</td>\n",
       "      <td>0.060028</td>\n",
       "      <td>0.060028</td>\n",
       "    </tr>\n",
       "    <tr>\n",
       "      <th>9</th>\n",
       "      <td>0.000000</td>\n",
       "      <td>0.000000</td>\n",
       "      <td>0.000000</td>\n",
       "      <td>0.05283</td>\n",
       "      <td>0.05283</td>\n",
       "      <td>0.000000</td>\n",
       "      <td>0.000000</td>\n",
       "      <td>0.000000</td>\n",
       "      <td>0.000000</td>\n",
       "      <td>0.000000</td>\n",
       "      <td>...</td>\n",
       "      <td>0.05283</td>\n",
       "      <td>0.15849</td>\n",
       "      <td>0.000000</td>\n",
       "      <td>0.000000</td>\n",
       "      <td>0.000000</td>\n",
       "      <td>0.000000</td>\n",
       "      <td>0.000000</td>\n",
       "      <td>0.000000</td>\n",
       "      <td>0.000000</td>\n",
       "      <td>0.000000</td>\n",
       "    </tr>\n",
       "    <tr>\n",
       "      <th>16</th>\n",
       "      <td>0.000000</td>\n",
       "      <td>0.000000</td>\n",
       "      <td>0.000000</td>\n",
       "      <td>0.00000</td>\n",
       "      <td>0.00000</td>\n",
       "      <td>0.000000</td>\n",
       "      <td>0.000000</td>\n",
       "      <td>0.000000</td>\n",
       "      <td>0.000000</td>\n",
       "      <td>0.000000</td>\n",
       "      <td>...</td>\n",
       "      <td>0.00000</td>\n",
       "      <td>0.00000</td>\n",
       "      <td>0.000000</td>\n",
       "      <td>0.000000</td>\n",
       "      <td>0.065900</td>\n",
       "      <td>0.065900</td>\n",
       "      <td>0.000000</td>\n",
       "      <td>0.000000</td>\n",
       "      <td>0.000000</td>\n",
       "      <td>0.000000</td>\n",
       "    </tr>\n",
       "    <tr>\n",
       "      <th>17</th>\n",
       "      <td>0.000000</td>\n",
       "      <td>0.000000</td>\n",
       "      <td>0.000000</td>\n",
       "      <td>0.00000</td>\n",
       "      <td>0.00000</td>\n",
       "      <td>0.000000</td>\n",
       "      <td>0.000000</td>\n",
       "      <td>0.000000</td>\n",
       "      <td>0.000000</td>\n",
       "      <td>0.000000</td>\n",
       "      <td>...</td>\n",
       "      <td>0.00000</td>\n",
       "      <td>0.00000</td>\n",
       "      <td>0.000000</td>\n",
       "      <td>0.000000</td>\n",
       "      <td>0.066833</td>\n",
       "      <td>0.066833</td>\n",
       "      <td>0.000000</td>\n",
       "      <td>0.000000</td>\n",
       "      <td>0.000000</td>\n",
       "      <td>0.000000</td>\n",
       "    </tr>\n",
       "    <tr>\n",
       "      <th>18</th>\n",
       "      <td>0.024027</td>\n",
       "      <td>0.027025</td>\n",
       "      <td>0.000000</td>\n",
       "      <td>0.00000</td>\n",
       "      <td>0.00000</td>\n",
       "      <td>0.000000</td>\n",
       "      <td>0.000000</td>\n",
       "      <td>0.000000</td>\n",
       "      <td>0.000000</td>\n",
       "      <td>0.000000</td>\n",
       "      <td>...</td>\n",
       "      <td>0.00000</td>\n",
       "      <td>0.00000</td>\n",
       "      <td>0.027025</td>\n",
       "      <td>0.027025</td>\n",
       "      <td>0.000000</td>\n",
       "      <td>0.000000</td>\n",
       "      <td>0.000000</td>\n",
       "      <td>0.000000</td>\n",
       "      <td>0.000000</td>\n",
       "      <td>0.000000</td>\n",
       "    </tr>\n",
       "    <tr>\n",
       "      <th>20</th>\n",
       "      <td>0.024027</td>\n",
       "      <td>0.027025</td>\n",
       "      <td>0.000000</td>\n",
       "      <td>0.00000</td>\n",
       "      <td>0.00000</td>\n",
       "      <td>0.000000</td>\n",
       "      <td>0.000000</td>\n",
       "      <td>0.000000</td>\n",
       "      <td>0.000000</td>\n",
       "      <td>0.000000</td>\n",
       "      <td>...</td>\n",
       "      <td>0.00000</td>\n",
       "      <td>0.00000</td>\n",
       "      <td>0.027025</td>\n",
       "      <td>0.027025</td>\n",
       "      <td>0.000000</td>\n",
       "      <td>0.000000</td>\n",
       "      <td>0.000000</td>\n",
       "      <td>0.000000</td>\n",
       "      <td>0.000000</td>\n",
       "      <td>0.000000</td>\n",
       "    </tr>\n",
       "    <tr>\n",
       "      <th>21</th>\n",
       "      <td>0.024059</td>\n",
       "      <td>0.027060</td>\n",
       "      <td>0.000000</td>\n",
       "      <td>0.00000</td>\n",
       "      <td>0.00000</td>\n",
       "      <td>0.000000</td>\n",
       "      <td>0.000000</td>\n",
       "      <td>0.000000</td>\n",
       "      <td>0.000000</td>\n",
       "      <td>0.000000</td>\n",
       "      <td>...</td>\n",
       "      <td>0.00000</td>\n",
       "      <td>0.00000</td>\n",
       "      <td>0.027060</td>\n",
       "      <td>0.027060</td>\n",
       "      <td>0.000000</td>\n",
       "      <td>0.000000</td>\n",
       "      <td>0.000000</td>\n",
       "      <td>0.000000</td>\n",
       "      <td>0.000000</td>\n",
       "      <td>0.000000</td>\n",
       "    </tr>\n",
       "    <tr>\n",
       "      <th>23</th>\n",
       "      <td>0.034932</td>\n",
       "      <td>0.000000</td>\n",
       "      <td>0.052829</td>\n",
       "      <td>0.00000</td>\n",
       "      <td>0.00000</td>\n",
       "      <td>0.000000</td>\n",
       "      <td>0.000000</td>\n",
       "      <td>0.000000</td>\n",
       "      <td>0.000000</td>\n",
       "      <td>0.052829</td>\n",
       "      <td>...</td>\n",
       "      <td>0.00000</td>\n",
       "      <td>0.00000</td>\n",
       "      <td>0.000000</td>\n",
       "      <td>0.000000</td>\n",
       "      <td>0.000000</td>\n",
       "      <td>0.000000</td>\n",
       "      <td>0.000000</td>\n",
       "      <td>0.000000</td>\n",
       "      <td>0.000000</td>\n",
       "      <td>0.000000</td>\n",
       "    </tr>\n",
       "    <tr>\n",
       "      <th>27</th>\n",
       "      <td>0.000000</td>\n",
       "      <td>0.000000</td>\n",
       "      <td>0.000000</td>\n",
       "      <td>0.00000</td>\n",
       "      <td>0.00000</td>\n",
       "      <td>0.000000</td>\n",
       "      <td>0.000000</td>\n",
       "      <td>0.000000</td>\n",
       "      <td>0.000000</td>\n",
       "      <td>0.000000</td>\n",
       "      <td>...</td>\n",
       "      <td>0.00000</td>\n",
       "      <td>0.00000</td>\n",
       "      <td>0.000000</td>\n",
       "      <td>0.000000</td>\n",
       "      <td>0.000000</td>\n",
       "      <td>0.000000</td>\n",
       "      <td>0.000000</td>\n",
       "      <td>0.000000</td>\n",
       "      <td>0.000000</td>\n",
       "      <td>0.000000</td>\n",
       "    </tr>\n",
       "  </tbody>\n",
       "</table>\n",
       "<p>10 rows × 1304 columns</p>\n",
       "</div>"
      ],
      "text/plain": [
       "          10   10 cook  10 old_ag      100  100 acrylic_fib       10d  \\\n",
       "id                                                                      \n",
       "2   0.000000  0.000000   0.000000  0.00000          0.00000  0.060028   \n",
       "3   0.000000  0.000000   0.000000  0.00000          0.00000  0.060028   \n",
       "9   0.000000  0.000000   0.000000  0.05283          0.05283  0.000000   \n",
       "16  0.000000  0.000000   0.000000  0.00000          0.00000  0.000000   \n",
       "17  0.000000  0.000000   0.000000  0.00000          0.00000  0.000000   \n",
       "18  0.024027  0.027025   0.000000  0.00000          0.00000  0.000000   \n",
       "20  0.024027  0.027025   0.000000  0.00000          0.00000  0.000000   \n",
       "21  0.024059  0.027060   0.000000  0.00000          0.00000  0.000000   \n",
       "23  0.034932  0.000000   0.052829  0.00000          0.00000  0.000000   \n",
       "27  0.000000  0.000000   0.000000  0.00000          0.00000  0.000000   \n",
       "\n",
       "    10d park        12   12 gaug       120    ...      wood complex  \\\n",
       "id                                            ...                     \n",
       "2   0.060028  0.120055  0.120055  0.000000    ...           0.00000   \n",
       "3   0.060028  0.120055  0.120055  0.000000    ...           0.00000   \n",
       "9   0.000000  0.000000  0.000000  0.000000    ...           0.05283   \n",
       "16  0.000000  0.000000  0.000000  0.000000    ...           0.00000   \n",
       "17  0.000000  0.000000  0.000000  0.000000    ...           0.00000   \n",
       "18  0.000000  0.000000  0.000000  0.000000    ...           0.00000   \n",
       "20  0.000000  0.000000  0.000000  0.000000    ...           0.00000   \n",
       "21  0.000000  0.000000  0.000000  0.000000    ...           0.00000   \n",
       "23  0.000000  0.000000  0.000000  0.052829    ...           0.00000   \n",
       "27  0.000000  0.000000  0.000000  0.000000    ...           0.00000   \n",
       "\n",
       "    wood concret      year  year guarante      york  york pleas      zinc  \\\n",
       "id                                                                          \n",
       "2        0.00000  0.000000       0.000000  0.000000    0.000000  0.060028   \n",
       "3        0.00000  0.000000       0.000000  0.000000    0.000000  0.060028   \n",
       "9        0.15849  0.000000       0.000000  0.000000    0.000000  0.000000   \n",
       "16       0.00000  0.000000       0.000000  0.065900    0.065900  0.000000   \n",
       "17       0.00000  0.000000       0.000000  0.066833    0.066833  0.000000   \n",
       "18       0.00000  0.027025       0.027025  0.000000    0.000000  0.000000   \n",
       "20       0.00000  0.027025       0.027025  0.000000    0.000000  0.000000   \n",
       "21       0.00000  0.027060       0.027060  0.000000    0.000000  0.000000   \n",
       "23       0.00000  0.000000       0.000000  0.000000    0.000000  0.000000   \n",
       "27       0.00000  0.000000       0.000000  0.000000    0.000000  0.000000   \n",
       "\n",
       "    zinc coat      zmax  zmax zinc  \n",
       "id                                  \n",
       "2    0.060028  0.060028   0.060028  \n",
       "3    0.060028  0.060028   0.060028  \n",
       "9    0.000000  0.000000   0.000000  \n",
       "16   0.000000  0.000000   0.000000  \n",
       "17   0.000000  0.000000   0.000000  \n",
       "18   0.000000  0.000000   0.000000  \n",
       "20   0.000000  0.000000   0.000000  \n",
       "21   0.000000  0.000000   0.000000  \n",
       "23   0.000000  0.000000   0.000000  \n",
       "27   0.000000  0.000000   0.000000  \n",
       "\n",
       "[10 rows x 1304 columns]"
      ]
     },
     "execution_count": 15,
     "metadata": {},
     "output_type": "execute_result"
    }
   ],
   "source": [
    "common_tfidf"
   ]
  },
  {
   "cell_type": "code",
   "execution_count": null,
   "metadata": {
    "collapsed": false
   },
   "outputs": [],
   "source": []
  },
  {
   "cell_type": "code",
   "execution_count": null,
   "metadata": {
    "collapsed": false
   },
   "outputs": [],
   "source": []
  },
  {
   "cell_type": "code",
   "execution_count": null,
   "metadata": {
    "collapsed": false
   },
   "outputs": [],
   "source": []
  },
  {
   "cell_type": "code",
   "execution_count": null,
   "metadata": {
    "collapsed": false
   },
   "outputs": [],
   "source": []
  },
  {
   "cell_type": "code",
   "execution_count": 16,
   "metadata": {
    "collapsed": false
   },
   "outputs": [],
   "source": [
    "from sklearn.feature_extraction.text import TfidfVectorizer\n",
    "import pandas as pd\n",
    "tf = TfidfVectorizer(analyzer='word', ngram_range=(1,2), min_df = 0,encoding='ISO-8859-1')\n",
    "def Tfidf_Matrix(data,train,):\n",
    "    tfidf_matrix=tf.fit_transform(data)\n",
    "    feature_names = tf.get_feature_names()\n",
    "    Matrix = pd.DataFrame(tfidf_matrix.todense(),columns=feature_names,index=train.id)\n",
    "    return (Matrix)"
   ]
  },
  {
   "cell_type": "code",
   "execution_count": null,
   "metadata": {
    "collapsed": false
   },
   "outputs": [],
   "source": [
    "Common_Matrix = Tfidf_Matrix(combineList,train)"
   ]
  },
  {
   "cell_type": "markdown",
   "metadata": {},
   "source": [
    "# Individual Vocabulary"
   ]
  },
  {
   "cell_type": "code",
   "execution_count": 47,
   "metadata": {
    "collapsed": true
   },
   "outputs": [],
   "source": [
    "Individual_productList = train.productList"
   ]
  },
  {
   "cell_type": "code",
   "execution_count": 49,
   "metadata": {
    "collapsed": true
   },
   "outputs": [],
   "source": [
    "Individual_searchList = train.searchList"
   ]
  },
  {
   "cell_type": "code",
   "execution_count": 50,
   "metadata": {
    "collapsed": true
   },
   "outputs": [],
   "source": [
    "Individual_desList = train.desList"
   ]
  },
  {
   "cell_type": "code",
   "execution_count": 21,
   "metadata": {
    "collapsed": false
   },
   "outputs": [],
   "source": [
    "Ind_productList_Matrix = Tfidf_Matrix(Individual_productList,train) # take the first 20 sample as an example"
   ]
  },
  {
   "cell_type": "code",
   "execution_count": 105,
   "metadata": {
    "collapsed": false
   },
   "outputs": [],
   "source": [
    "Ind_searchList_Matrix = Tfidf_Matrix(Individual_searchList,train)"
   ]
  },
  {
   "cell_type": "code",
   "execution_count": null,
   "metadata": {
    "collapsed": true
   },
   "outputs": [],
   "source": [
    "Ind_desList_Matrix = Tfidf_Matrix(Individual_desList,train)"
   ]
  },
  {
   "cell_type": "markdown",
   "metadata": {
    "collapsed": true
   },
   "source": [
    "# SDT"
   ]
  },
  {
   "cell_type": "code",
   "execution_count": 7,
   "metadata": {
    "collapsed": true
   },
   "outputs": [],
   "source": [
    "from sklearn.decomposition import TruncatedSVD"
   ]
  },
  {
   "cell_type": "code",
   "execution_count": 81,
   "metadata": {
    "collapsed": false
   },
   "outputs": [],
   "source": [
    "from sklearn.random_projection import sparse_random_matrix\n",
    "svd = TruncatedSVD(n_components = 2, random_state = 22, n_iter=15)"
   ]
  },
  {
   "cell_type": "code",
   "execution_count": 89,
   "metadata": {
    "collapsed": false
   },
   "outputs": [],
   "source": [
    "result = svd.fit_transform(common_tfidf)"
   ]
  },
  {
   "cell_type": "code",
   "execution_count": null,
   "metadata": {
    "collapsed": true
   },
   "outputs": [],
   "source": []
  },
  {
   "cell_type": "code",
   "execution_count": 87,
   "metadata": {
    "collapsed": false
   },
   "outputs": [
    {
     "name": "stdout",
     "output_type": "stream",
     "text": [
      "[[1 2 1]\n",
      " [3 4 3]\n",
      " [5 6 4]]\n",
      "[[ 2.40230893  0.45526055]\n",
      " [ 5.82240627  0.12211991]\n",
      " [ 8.77121997 -0.20575338]]\n"
     ]
    }
   ],
   "source": [
    "# example\n",
    "# output=np.matrix('1,2,1;3,4,3;5,6,4')\n",
    "# result = svd.fit_transform(output)\n",
    "# print output\n",
    "# print result"
   ]
  },
  {
   "cell_type": "code",
   "execution_count": null,
   "metadata": {
    "collapsed": false
   },
   "outputs": [],
   "source": []
  },
  {
   "cell_type": "code",
   "execution_count": null,
   "metadata": {
    "collapsed": false
   },
   "outputs": [],
   "source": []
  },
  {
   "cell_type": "code",
   "execution_count": null,
   "metadata": {
    "collapsed": true
   },
   "outputs": [],
   "source": []
  },
  {
   "cell_type": "code",
   "execution_count": null,
   "metadata": {
    "collapsed": false
   },
   "outputs": [],
   "source": []
  },
  {
   "cell_type": "code",
   "execution_count": null,
   "metadata": {
    "collapsed": false
   },
   "outputs": [],
   "source": []
  },
  {
   "cell_type": "code",
   "execution_count": null,
   "metadata": {
    "collapsed": true
   },
   "outputs": [],
   "source": []
  },
  {
   "cell_type": "code",
   "execution_count": null,
   "metadata": {
    "collapsed": true
   },
   "outputs": [],
   "source": []
  },
  {
   "cell_type": "markdown",
   "metadata": {},
   "source": [
    "# Function"
   ]
  },
  {
   "cell_type": "code",
   "execution_count": 305,
   "metadata": {
    "collapsed": true
   },
   "outputs": [],
   "source": [
    "from sklearn.feature_extraction.text import TfidfVectorizer\n",
    "tf = TfidfVectorizer(analyzer='word', ngram_range=(1,2), min_df = 0,encoding='ISO-8859-1')\n",
    "combineList=(train.productList+train.desList+train.searchList)"
   ]
  },
  {
   "cell_type": "code",
   "execution_count": 362,
   "metadata": {
    "collapsed": true
   },
   "outputs": [],
   "source": [
    "def df_itf(item,name,train):\n",
    "    tfidf_matrix=tf.fit_transform(item)   #item should be pd.Series\n",
    "    feature_names = tf.get_feature_names()\n",
    "    dense = tfidf_matrix.todense()\n",
    "    #episode=dense.tolist()[0]  # take the row 100 as an example. crush\n",
    "    #phrase_scores = [pair for pair in zip(range(0, len(episode)), episode) if pair[1] > 0]\n",
    "    train[name]=0\n",
    "    for i in range(len(dense)):\n",
    "        aadict = {}\n",
    "        episode=dense[i].tolist()[0]\n",
    "        phrase_scores = [pair for pair in zip(range(0, len(episode)), episode) if pair[1] > 0]\n",
    "        sorted_phrase_scores = sorted(phrase_scores, key=lambda t: t[1] * -1)\n",
    "        for phrase, score in [(feature_names[word_id], score) for (word_id, score) in sorted_phrase_scores]:\n",
    "        #for phrase, score in [(feature_names[word_id], score) for (word_id, score) in phrase_scores]:\n",
    "            aadict[phrase] = score\n",
    "            train[name][i] = [aadict]\n",
    "            if i>10:\n",
    "                break\n",
    "    "
   ]
  },
  {
   "cell_type": "markdown",
   "metadata": {
    "collapsed": false
   },
   "source": [
    "# cosine_similarity"
   ]
  },
  {
   "cell_type": "code",
   "execution_count": null,
   "metadata": {
    "collapsed": true
   },
   "outputs": [],
   "source": [
    "from sklearn.metrics.pairwise import cosine_similarity"
   ]
  },
  {
   "cell_type": "code",
   "execution_count": null,
   "metadata": {
    "collapsed": false
   },
   "outputs": [],
   "source": [
    "cosine_similarity([1,1,1],[2,2,3])"
   ]
  },
  {
   "cell_type": "code",
   "execution_count": null,
   "metadata": {
    "collapsed": false
   },
   "outputs": [],
   "source": []
  },
  {
   "cell_type": "code",
   "execution_count": 28,
   "metadata": {
    "collapsed": false
   },
   "outputs": [],
   "source": [
    "# test"
   ]
  },
  {
   "cell_type": "code",
   "execution_count": 104,
   "metadata": {
    "collapsed": false
   },
   "outputs": [
    {
     "name": "stdout",
     "output_type": "stream",
     "text": [
      "Fit Vectorizer to train set [[1 1]\n",
      " [1 0]]\n",
      "Transform Vectorizer to test set [[0 0]]\n",
      "[[ 0.57973867  0.81480247]\n",
      " [ 1.          0.        ]]\n",
      "[[ 0.  0.]]\n"
     ]
    }
   ],
   "source": [
    "from sklearn.feature_extraction.text import CountVectorizer\n",
    "from sklearn.feature_extraction.text import TfidfTransformer\n",
    "from nltk.corpus import stopwords\n",
    "\n",
    "train_set = [\"I LOVE APPLE\",\"APPLE\"] #Documents\n",
    "test_set = [\"BANANA\"] #Query\n",
    "#stopWords = stopwords.words('english')\n",
    "\n",
    "vectorizer = CountVectorizer()#stop_words = stopWords\n",
    "transformer = TfidfTransformer()\n",
    "\n",
    "trainVectorizerArray = vectorizer.fit_transform(train_set).toarray()\n",
    "testVectorizerArray = vectorizer.transform(test_set).toarray()\n",
    "print 'Fit Vectorizer to train set', trainVectorizerArray\n",
    "print 'Transform Vectorizer to test set', testVectorizerArray\n",
    "\n",
    "transformer.fit(trainVectorizerArray)\n",
    "print transformer.transform(trainVectorizerArray).toarray()\n",
    "\n",
    "transformer.fit(testVectorizerArray)\n",
    "\n",
    "tfidf = transformer.transform(testVectorizerArray)\n",
    "print tfidf.todense()"
   ]
  },
  {
   "cell_type": "code",
   "execution_count": null,
   "metadata": {
    "collapsed": true
   },
   "outputs": [],
   "source": []
  }
 ],
 "metadata": {
  "kernelspec": {
   "display_name": "Python 2",
   "language": "python",
   "name": "python2"
  },
  "language_info": {
   "codemirror_mode": {
    "name": "ipython",
    "version": 2
   },
   "file_extension": ".py",
   "mimetype": "text/x-python",
   "name": "python",
   "nbconvert_exporter": "python",
   "pygments_lexer": "ipython2",
   "version": "2.7.11"
  }
 },
 "nbformat": 4,
 "nbformat_minor": 0
}
