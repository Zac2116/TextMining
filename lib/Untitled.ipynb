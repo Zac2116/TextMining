{
 "cells": [
  {
   "cell_type": "code",
   "execution_count": 1,
   "metadata": {
    "collapsed": true
   },
   "outputs": [],
   "source": [
    "import os "
   ]
  },
  {
   "cell_type": "code",
   "execution_count": 2,
   "metadata": {
    "collapsed": false
   },
   "outputs": [
    {
     "data": {
      "text/plain": [
       "'/Users/zacwu/Desktop/TextMining/lib'"
      ]
     },
     "execution_count": 2,
     "metadata": {},
     "output_type": "execute_result"
    }
   ],
   "source": [
    "os.getcwd()"
   ]
  },
  {
   "cell_type": "code",
   "execution_count": 5,
   "metadata": {
    "collapsed": true
   },
   "outputs": [],
   "source": [
    "\n",
    "def ngrams(input_list, n):\n",
    "  return zip(*[input_list[i:] for i in range(n)])\n",
    "\n",
    "\n",
    "def featureGenerate(title,description,searchItem):\n",
    "\tt = ngrams(title,1)\n",
    "\ts = ngrams(searchItem,1)\n",
    "\td = ngrams(description,1)\n",
    "\n",
    "\tjc1_1 = jCDistance(t,s)\n",
    "\tjc1_2 = jCDistance(t,d)\n",
    "\tjc1_3 = jCDistance(s,d)\n",
    "\n",
    "\tt2 = ngrams(title,2)\n",
    "\ts2 = ngrams(searchItem,2)\n",
    "\td2 = ngrams(description,2)\n",
    "\n",
    "\tjc2_1 = jCDistance(t2,s2)\n",
    "\tjc2_2 = jCDistance(t2,d2)\n",
    "\tjc2_3 = jCDistance(s2,d2)\n",
    "\n",
    "\n",
    "\tresult = [jc1_1,jc1_2,jc1_3,jc2_1,jc2_2,jc2_3]\n",
    "\treturn result\n",
    "\n",
    "\n",
    "def jCDistance(A,B):\n",
    "\t#A intersect B / (A union B) \n",
    "\t#A: list\n",
    "\t#B: list\n",
    "\n",
    "\tdeno = set(A) & set(B)\n",
    "\tnom = set(A) | set(B)\n",
    "\n",
    "\tjC = len(deno) / float(len(nom))\n",
    "\treturn jC\n",
    "\n",
    "\n",
    "def DicDist(A,B):\n",
    "\t#size(2 times intersection of A and B )/ size(((A) + (B)))\n",
    "\tdeno = set(A) & set(B)\n",
    "\tnom = len(set(A)) + len(set(B))\n",
    "\tDD = len(deno)/float(nom)\n",
    "\treturn DD\n",
    "\n"
   ]
  },
  {
   "cell_type": "code",
   "execution_count": null,
   "metadata": {
    "collapsed": false
   },
   "outputs": [],
   "source": [
    "import pandas as pd\n",
    "data = pd.read_csv(\"~/Desktop/train.csv\")\n",
    "des = pd.read_csv(\"~/Desktop/product_descriptions.csv\")\n",
    "df = pd.DataFrame(columns = ['product_uid','ts1_1','td1_2','sd1_3','ts2_1','td2_2','sd2_3'])\n",
    "\n",
    "for i in range(1,len(data)):\n",
    "\t#descriptions\n",
    "\tid = data.iloc[i][1]\n",
    "\tif id in des['product_uid']:\n",
    "\t\td = des[des['product_uid']==id]\n",
    "\t\td_l = d['product_description'].iloc[0].split(\" \")\n",
    "\telse:\n",
    "\t\td_l = []\n",
    "\n",
    "\tt_l = data.iloc[i][2].split(\" \")\n",
    "\ts_l = data.iloc[i][3].split(\" \")\n",
    "\n",
    "\tcur_row = featureGenerate(t_l,d_l,s_l)\n",
    "\tdf2 = pd.Series([id]+cur_row, index=['product_uid','ts1_1','td1_2','sd1_3','ts2_1','td2_2','sd2_3'])\n",
    "\tdf = df.append(df2, ignore_index=True)\n",
    "\n",
    "\tdf.to_csv(\"~/Desktop/distanceFeature.csv\")\n"
   ]
  },
  {
   "cell_type": "code",
   "execution_count": null,
   "metadata": {
    "collapsed": true
   },
   "outputs": [],
   "source": []
  }
 ],
 "metadata": {
  "kernelspec": {
   "display_name": "Python 2",
   "language": "python",
   "name": "python2"
  },
  "language_info": {
   "codemirror_mode": {
    "name": "ipython",
    "version": 2
   },
   "file_extension": ".py",
   "mimetype": "text/x-python",
   "name": "python",
   "nbconvert_exporter": "python",
   "pygments_lexer": "ipython2",
   "version": "2.7.11"
  }
 },
 "nbformat": 4,
 "nbformat_minor": 0
}
