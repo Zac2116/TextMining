{
 "cells": [
  {
   "cell_type": "code",
   "execution_count": 92,
   "metadata": {
    "collapsed": true
   },
   "outputs": [],
   "source": [
    "import sys\n",
    "sys.path.append('/Applications/anaconda/lib/python2.7/site-packages')"
   ]
  },
  {
   "cell_type": "code",
   "execution_count": 45,
   "metadata": {
    "collapsed": true
   },
   "outputs": [],
   "source": [
    "import numpy as np\n",
    "import pandas as pd\n",
    "from sklearn import cross_validation\n",
    "from sklearn.metrics import mean_squared_error, make_scorer\n",
    "from sklearn.linear_model import LogisticRegression, LinearRegression\n",
    "from sklearn.linear_model import Ridge, Lasso\n",
    "from sklearn.ensemble import RandomForestClassifier, RandomForestRegressor\n",
    "from sklearn import grid_search\n",
    "import xgboost as xgb"
   ]
  },
  {
   "cell_type": "code",
   "execution_count": 2,
   "metadata": {
    "collapsed": true
   },
   "outputs": [],
   "source": [
    "def y_transform(y):\n",
    "    Y_sub = np.array([])\n",
    "    for i in y:\n",
    "        if i < 1.125:\n",
    "            Y_sub = np.append(Y_sub,1)\n",
    "        elif 1.125<=i<1.29:\n",
    "            Y_sub = np.append(Y_sub,1.25)\n",
    "        elif 1.29<=i<1.415:\n",
    "            Y_sub = np.append(Y_sub,1.33)\n",
    "        elif 1.415<=i<1.585:\n",
    "            Y_sub = np.append(Y_sub,1.50)\n",
    "        elif 1.585<=i<1.71:\n",
    "            Y_sub = np.append(Y_sub,1.67)\n",
    "        elif 1.71<=i<1.875:\n",
    "            Y_sub = np.append(Y_sub,1.75)\n",
    "        elif 1.875<=i<2.125:\n",
    "            Y_sub = np.append(Y_sub,2.00)\n",
    "        elif 2.125<=i<2.29:\n",
    "            Y_sub = np.append(Y_sub,2.25)\n",
    "        elif 2.29<=i<2.415:\n",
    "            Y_sub = np.append(Y_sub,2.33)\n",
    "        elif 2.415<=i<2.585:\n",
    "            Y_sub = np.append(Y_sub,2.50)\n",
    "        elif 2.585<=i<2.71:\n",
    "            Y_sub = np.append(Y_sub,2.67)\n",
    "        elif 2.71<=i<2.875:\n",
    "            Y_sub = np.append(Y_sub,2.75)\n",
    "        elif i>=2.875:\n",
    "            Y_sub = np.append(Y_sub,3.00)\n",
    "    return Y_sub\n",
    "\n",
    "def fmean_squared_error(ground_truth, predictions):\n",
    "    rmse = mean_squared_error(ground_truth, predictions)**0.5\n",
    "    return rmse"
   ]
  },
  {
   "cell_type": "code",
   "execution_count": 37,
   "metadata": {
    "collapsed": false
   },
   "outputs": [
    {
     "data": {
      "text/plain": [
       "Index([u'id', u'relevance', u'ts1', u'ts2', u'ts3', u'td1', u'td2', u'sd1',\n",
       "       u'sd2', u'sd3', u'sd4', u'sd5', u'sd6', u'sd7', u'sd8', u'ts1_tfidf',\n",
       "       u'ts2_tfidf', u'ts3_tfidf', u'td1_tfidf', u'td2_tfidf', u'sd1_tfidf',\n",
       "       u'sd2_tfidf', u'sd3_tfidf', u'sd4_tfidf', u'sd5_tfidf', u'sd6_tfidf',\n",
       "       u'sd7_tfidf', u'sd8_tfidf', u'brandDis', u'colorDis', u'materialDis'],\n",
       "      dtype='object')"
      ]
     },
     "execution_count": 37,
     "metadata": {},
     "output_type": "execute_result"
    }
   ],
   "source": [
    "feature = pd.read_csv('train_allfeature.csv')\n",
    "feature.columns"
   ]
  },
  {
   "cell_type": "code",
   "execution_count": 83,
   "metadata": {
    "collapsed": true
   },
   "outputs": [],
   "source": [
    "def mean(a):\n",
    "    return np.array(a).mean()"
   ]
  },
  {
   "cell_type": "markdown",
   "metadata": {},
   "source": [
    "## Random Forest"
   ]
  },
  {
   "cell_type": "markdown",
   "metadata": {},
   "source": [
    "### Full Model "
   ]
  },
  {
   "cell_type": "code",
   "execution_count": 96,
   "metadata": {
    "collapsed": true
   },
   "outputs": [],
   "source": [
    "RandomForestRegressor?"
   ]
  },
  {
   "cell_type": "code",
   "execution_count": 101,
   "metadata": {
    "collapsed": false
   },
   "outputs": [
    {
     "data": {
      "text/plain": [
       "[20, 21, 22, 23, 24, 25, 26, 27, 28, 29]"
      ]
     },
     "execution_count": 101,
     "metadata": {},
     "output_type": "execute_result"
    }
   ],
   "source": [
    "[i for i in range(20,30)]"
   ]
  },
  {
   "cell_type": "code",
   "execution_count": 107,
   "metadata": {
    "collapsed": false
   },
   "outputs": [
    {
     "data": {
      "text/plain": [
       "(74067, 31)"
      ]
     },
     "execution_count": 107,
     "metadata": {},
     "output_type": "execute_result"
    }
   ],
   "source": [
    "feature.shape"
   ]
  },
  {
   "cell_type": "code",
   "execution_count": null,
   "metadata": {
    "collapsed": false
   },
   "outputs": [],
   "source": [
    "RFRmseList = []\n",
    "parameters = []\n",
    "from sklearn.cross_validation import KFold\n",
    "kf_total = cross_validation.KFold(len(feature.id), n_folds=5, shuffle=True, random_state=4)\n",
    "for train, test in kf_total:\n",
    "    x_train = feature.iloc[train,2:31]\n",
    "    y_train = feature.iloc[train,1]\n",
    "    x_test = feature.iloc[test,2:31]\n",
    "    y_test = feature.iloc[test,1]\n",
    "    \n",
    "    RMSE=make_scorer(fmean_squared_error, greater_is_better=False)\n",
    "    parameters = {'n_estimators':[i for i in range(25,35)],'max_depth':[i for i in range(5,15)]}\n",
    "    clf = grid_search.GridSearchCV(RandomForestRegressor(),parameters,scoring=RMSE)\n",
    "    clf.fit(x_train,y_train)\n",
    "    \n",
    "    y_pred = clf.predict(x_test)\n",
    "    RFRmseList.append(fmean_squared_error(y_test,y_pred))\n",
    "#     parameters.append(clf.best_params_)\n",
    "    print clf.best_params_"
   ]
  },
  {
   "cell_type": "code",
   "execution_count": 112,
   "metadata": {
    "collapsed": false,
    "scrolled": true
   },
   "outputs": [
    {
     "data": {
      "text/plain": [
       "0.49343786079765967"
      ]
     },
     "execution_count": 112,
     "metadata": {},
     "output_type": "execute_result"
    }
   ],
   "source": [
    "mean(RFRmseList)"
   ]
  },
  {
   "cell_type": "markdown",
   "metadata": {},
   "source": [
    "### Distance"
   ]
  },
  {
   "cell_type": "code",
   "execution_count": 66,
   "metadata": {
    "collapsed": true
   },
   "outputs": [],
   "source": [
    "RFDisRmseList = []\n",
    "from sklearn.cross_validation import KFold\n",
    "kf_total = cross_validation.KFold(len(feature.id), n_folds=5, shuffle=True, random_state=4)\n",
    "for train, test in kf_total:\n",
    "    x_train = feature.iloc[train,2:14]\n",
    "    y_train = feature.iloc[train,1]\n",
    "    x_test = feature.iloc[test,2:14]\n",
    "    y_test = feature.iloc[test,1]\n",
    "    \n",
    "    RMSE=make_scorer(fmean_squared_error, greater_is_better=False)\n",
    "    parameters = {'n_estimators':[5,20],'max_depth':[2,10]}\n",
    "    clf = grid_search.GridSearchCV(RandomForestRegressor(),parameters,scoring=RMSE)\n",
    "    clf.fit(x_train,y_train)\n",
    "    \n",
    "    y_pred = clf.predict(x_test)\n",
    "    RFDisRmseList.append(fmean_squared_error(y_test,y_pred))"
   ]
  },
  {
   "cell_type": "code",
   "execution_count": 85,
   "metadata": {
    "collapsed": false
   },
   "outputs": [
    {
     "data": {
      "text/plain": [
       "0.51038874160422931"
      ]
     },
     "execution_count": 85,
     "metadata": {},
     "output_type": "execute_result"
    }
   ],
   "source": [
    "mean(RFDisRmseList)"
   ]
  },
  {
   "cell_type": "markdown",
   "metadata": {},
   "source": [
    "### Tf-idf"
   ]
  },
  {
   "cell_type": "code",
   "execution_count": 68,
   "metadata": {
    "collapsed": false
   },
   "outputs": [],
   "source": [
    "RFTfRmseList = []\n",
    "from sklearn.cross_validation import KFold\n",
    "kf_total = cross_validation.KFold(len(feature.id), n_folds=5, shuffle=True, random_state=4)\n",
    "for train, test in kf_total:\n",
    "    x_train = feature.iloc[train,15:27]\n",
    "    y_train = feature.iloc[train,1]\n",
    "    x_test = feature.iloc[test,15:27]\n",
    "    y_test = feature.iloc[test,1]\n",
    "    \n",
    "    RMSE=make_scorer(fmean_squared_error, greater_is_better=False)\n",
    "    parameters = {'n_estimators':[5,20],'max_depth':[2,10]}\n",
    "    clf = grid_search.GridSearchCV(RandomForestRegressor(),parameters,scoring=RMSE)\n",
    "    clf.fit(x_train,y_train)\n",
    "    \n",
    "    y_pred = clf.predict(x_test)\n",
    "    RFTfRmseList.append(fmean_squared_error(y_test,y_pred))"
   ]
  },
  {
   "cell_type": "code",
   "execution_count": 86,
   "metadata": {
    "collapsed": false
   },
   "outputs": [
    {
     "data": {
      "text/plain": [
       "0.49672086150292216"
      ]
     },
     "execution_count": 86,
     "metadata": {},
     "output_type": "execute_result"
    }
   ],
   "source": [
    "mean(RFTfRmseList)"
   ]
  },
  {
   "cell_type": "markdown",
   "metadata": {},
   "source": [
    "### Attributes"
   ]
  },
  {
   "cell_type": "code",
   "execution_count": 70,
   "metadata": {
    "collapsed": true
   },
   "outputs": [],
   "source": [
    "RFAttrRmseList = []\n",
    "from sklearn.cross_validation import KFold\n",
    "kf_total = cross_validation.KFold(len(feature.id), n_folds=5, shuffle=True, random_state=4)\n",
    "for train, test in kf_total:\n",
    "    x_train = feature.iloc[train,28:30]\n",
    "    y_train = feature.iloc[train,1]\n",
    "    x_test = feature.iloc[test,28:30]\n",
    "    y_test = feature.iloc[test,1]\n",
    "    \n",
    "    RMSE=make_scorer(fmean_squared_error, greater_is_better=False)\n",
    "    parameters = {'n_estimators':[5,20],'max_depth':[2,10]}\n",
    "    clf = grid_search.GridSearchCV(RandomForestRegressor(),parameters,scoring=RMSE)\n",
    "    clf.fit(x_train,y_train)\n",
    "    \n",
    "    y_pred = clf.predict(x_test)\n",
    "    RFAttrRmseList.append(fmean_squared_error(y_test,y_pred))"
   ]
  },
  {
   "cell_type": "code",
   "execution_count": 87,
   "metadata": {
    "collapsed": false
   },
   "outputs": [
    {
     "data": {
      "text/plain": [
       "0.53260150528737848"
      ]
     },
     "execution_count": 87,
     "metadata": {},
     "output_type": "execute_result"
    }
   ],
   "source": [
    "mean(RFAttrRmseList)"
   ]
  },
  {
   "cell_type": "markdown",
   "metadata": {},
   "source": [
    "### Distance & Tf-idf"
   ]
  },
  {
   "cell_type": "code",
   "execution_count": 93,
   "metadata": {
    "collapsed": true
   },
   "outputs": [],
   "source": [
    "RFDTRmseList = []\n",
    "from sklearn.cross_validation import KFold\n",
    "kf_total = cross_validation.KFold(len(feature.id), n_folds=5, shuffle=True, random_state=4)\n",
    "for train, test in kf_total:\n",
    "    x_train = feature.iloc[train,2:27]\n",
    "    y_train = feature.iloc[train,1]\n",
    "    x_test = feature.iloc[test,2:27]\n",
    "    y_test = feature.iloc[test,1]\n",
    "    \n",
    "    RMSE=make_scorer(fmean_squared_error, greater_is_better=False)\n",
    "    parameters = {'n_estimators':[5,20],'max_depth':[2,10]}\n",
    "    clf = grid_search.GridSearchCV(RandomForestRegressor(),parameters,scoring=RMSE)\n",
    "    clf.fit(x_train,y_train)\n",
    "    \n",
    "    y_pred = clf.predict(x_test)\n",
    "    RFDTRmseList.append(fmean_squared_error(y_test,y_pred))"
   ]
  },
  {
   "cell_type": "code",
   "execution_count": 94,
   "metadata": {
    "collapsed": false
   },
   "outputs": [
    {
     "data": {
      "text/plain": [
       "[0.49418513725556773,\n",
       " 0.49812348666840911,\n",
       " 0.49430587121822051,\n",
       " 0.48964869490274482,\n",
       " 0.49629828978479001]"
      ]
     },
     "execution_count": 94,
     "metadata": {},
     "output_type": "execute_result"
    }
   ],
   "source": [
    "RFDTRmseList"
   ]
  },
  {
   "cell_type": "code",
   "execution_count": 95,
   "metadata": {
    "collapsed": false
   },
   "outputs": [
    {
     "data": {
      "text/plain": [
       "0.49451229596594642"
      ]
     },
     "execution_count": 95,
     "metadata": {},
     "output_type": "execute_result"
    }
   ],
   "source": [
    "mean(RFDTRmseList)"
   ]
  },
  {
   "cell_type": "markdown",
   "metadata": {},
   "source": [
    "## XGBoosting"
   ]
  },
  {
   "cell_type": "markdown",
   "metadata": {},
   "source": [
    "### Full model"
   ]
  },
  {
   "cell_type": "code",
   "execution_count": 97,
   "metadata": {
    "collapsed": true
   },
   "outputs": [],
   "source": [
    "xgb.XGBRegressor?"
   ]
  },
  {
   "cell_type": "code",
   "execution_count": 72,
   "metadata": {
    "collapsed": true
   },
   "outputs": [],
   "source": [
    "XGBRmseList = []\n",
    "from sklearn.cross_validation import KFold\n",
    "kf_total = cross_validation.KFold(len(feature.id), n_folds=5, shuffle=True, random_state=4)\n",
    "for train, test in kf_total:\n",
    "    x_train = feature.iloc[train,2:30]\n",
    "    y_train = feature.iloc[train,1]\n",
    "    x_test = feature.iloc[test,2:30]\n",
    "    y_test = feature.iloc[test,1]\n",
    "    \n",
    "    xgb_model = xgb.XGBRegressor(learning_rate=0.25, silent=False, objective=\"reg:linear\", nthread=-1, gamma=0, min_child_weight=1, max_delta_step=0,\n",
    "                     subsample=1, colsample_bytree=1, colsample_bylevel=1, reg_alpha=0, reg_lambda=1, scale_pos_weight=1,\n",
    "                     base_score=0.5, seed=0, missing=None)\n",
    "\n",
    "    param_grid = {'xgb_model__max_depth': [5,20], 'xgb_model__n_estimators': [2,10]}\n",
    "    clf = grid_search.GridSearchCV(xgb_model,parameters,scoring=RMSE)\n",
    "    clf.fit(x_train,y_train)\n",
    "    \n",
    "    y_pred = clf.predict(x_test)\n",
    "    XGBRmseList.append(fmean_squared_error(y_test,y_pred))"
   ]
  },
  {
   "cell_type": "code",
   "execution_count": 88,
   "metadata": {
    "collapsed": false
   },
   "outputs": [
    {
     "data": {
      "text/plain": [
       "0.49728636029847328"
      ]
     },
     "execution_count": 88,
     "metadata": {},
     "output_type": "execute_result"
    }
   ],
   "source": [
    "mean(XGBRmseList)"
   ]
  },
  {
   "cell_type": "markdown",
   "metadata": {},
   "source": [
    "### Distance"
   ]
  },
  {
   "cell_type": "code",
   "execution_count": 74,
   "metadata": {
    "collapsed": false
   },
   "outputs": [],
   "source": [
    "XGBDisRmseList = []\n",
    "from sklearn.cross_validation import KFold\n",
    "kf_total = cross_validation.KFold(len(feature.id), n_folds=5, shuffle=True, random_state=4)\n",
    "for train, test in kf_total:\n",
    "    x_train = feature.iloc[train,2:14]\n",
    "    y_train = feature.iloc[train,1]\n",
    "    x_test = feature.iloc[test,2:14]\n",
    "    y_test = feature.iloc[test,1]\n",
    "    \n",
    "    xgb_model = xgb.XGBRegressor(learning_rate=0.25, silent=False, objective=\"reg:linear\", nthread=-1, gamma=0, min_child_weight=1, max_delta_step=0,\n",
    "                     subsample=1, colsample_bytree=1, colsample_bylevel=1, reg_alpha=0, reg_lambda=1, scale_pos_weight=1,\n",
    "                     base_score=0.5, seed=0, missing=None)\n",
    "\n",
    "    param_grid = {'xgb_model__max_depth': [5,20], 'xgb_model__n_estimators': [2,10]}\n",
    "    clf = grid_search.GridSearchCV(xgb_model,parameters,scoring=RMSE)\n",
    "    clf.fit(x_train,y_train)\n",
    "    \n",
    "    y_pred = clf.predict(x_test)\n",
    "    XGBDisRmseList.append(fmean_squared_error(y_test,y_pred))"
   ]
  },
  {
   "cell_type": "code",
   "execution_count": 89,
   "metadata": {
    "collapsed": false
   },
   "outputs": [
    {
     "data": {
      "text/plain": [
       "0.5104646879729362"
      ]
     },
     "execution_count": 89,
     "metadata": {},
     "output_type": "execute_result"
    }
   ],
   "source": [
    "mean(XGBDisRmseList)"
   ]
  },
  {
   "cell_type": "markdown",
   "metadata": {},
   "source": [
    "### Tf-idf"
   ]
  },
  {
   "cell_type": "code",
   "execution_count": 76,
   "metadata": {
    "collapsed": true
   },
   "outputs": [],
   "source": [
    "XGBTfRmseList = []\n",
    "from sklearn.cross_validation import KFold\n",
    "kf_total = cross_validation.KFold(len(feature.id), n_folds=5, shuffle=True, random_state=4)\n",
    "for train, test in kf_total:\n",
    "    x_train = feature.iloc[train,15:27]\n",
    "    y_train = feature.iloc[train,1]\n",
    "    x_test = feature.iloc[test,15:27]\n",
    "    y_test = feature.iloc[test,1]\n",
    "    \n",
    "    xgb_model = xgb.XGBRegressor(learning_rate=0.25, silent=False, objective=\"reg:linear\", nthread=-1, gamma=0, min_child_weight=1, max_delta_step=0,\n",
    "                     subsample=1, colsample_bytree=1, colsample_bylevel=1, reg_alpha=0, reg_lambda=1, scale_pos_weight=1,\n",
    "                     base_score=0.5, seed=0, missing=None)\n",
    "\n",
    "    param_grid = {'xgb_model__max_depth': [5,20], 'xgb_model__n_estimators': [2,10]}\n",
    "    clf = grid_search.GridSearchCV(xgb_model,parameters,scoring=RMSE)\n",
    "    clf.fit(x_train,y_train)\n",
    "    \n",
    "    y_pred = clf.predict(x_test)\n",
    "    XGBTfRmseList.append(fmean_squared_error(y_test,y_pred))"
   ]
  },
  {
   "cell_type": "code",
   "execution_count": 90,
   "metadata": {
    "collapsed": false
   },
   "outputs": [
    {
     "data": {
      "text/plain": [
       "0.49834686231411018"
      ]
     },
     "execution_count": 90,
     "metadata": {},
     "output_type": "execute_result"
    }
   ],
   "source": [
    "mean(XGBTfRmseList)"
   ]
  },
  {
   "cell_type": "markdown",
   "metadata": {},
   "source": [
    "### Attributes"
   ]
  },
  {
   "cell_type": "code",
   "execution_count": 78,
   "metadata": {
    "collapsed": true
   },
   "outputs": [],
   "source": [
    "XGBAttrRmseList = []\n",
    "from sklearn.cross_validation import KFold\n",
    "kf_total = cross_validation.KFold(len(feature.id), n_folds=5, shuffle=True, random_state=4)\n",
    "for train, test in kf_total:\n",
    "    x_train = feature.iloc[train,28:30]\n",
    "    y_train = feature.iloc[train,1]\n",
    "    x_test = feature.iloc[test,28:30]\n",
    "    y_test = feature.iloc[test,1]\n",
    "    \n",
    "    xgb_model = xgb.XGBRegressor(learning_rate=0.25, silent=False, objective=\"reg:linear\", nthread=-1, gamma=0, min_child_weight=1, max_delta_step=0,\n",
    "                     subsample=1, colsample_bytree=1, colsample_bylevel=1, reg_alpha=0, reg_lambda=1, scale_pos_weight=1,\n",
    "                     base_score=0.5, seed=0, missing=None)\n",
    "\n",
    "    param_grid = {'xgb_model__max_depth': [5,20], 'xgb_model__n_estimators': [2,10]}\n",
    "    clf = grid_search.GridSearchCV(xgb_model,parameters,scoring=RMSE)\n",
    "    clf.fit(x_train,y_train)\n",
    "    \n",
    "    y_pred = clf.predict(x_test)\n",
    "    XGBAttrRmseList.append(fmean_squared_error(y_test,y_pred))"
   ]
  },
  {
   "cell_type": "code",
   "execution_count": 91,
   "metadata": {
    "collapsed": false
   },
   "outputs": [
    {
     "data": {
      "text/plain": [
       "0.53233330795313405"
      ]
     },
     "execution_count": 91,
     "metadata": {},
     "output_type": "execute_result"
    }
   ],
   "source": [
    "mean(XGBAttrRmseList)"
   ]
  },
  {
   "cell_type": "markdown",
   "metadata": {},
   "source": [
    "## Decision Tree"
   ]
  },
  {
   "cell_type": "code",
   "execution_count": 14,
   "metadata": {
    "collapsed": false
   },
   "outputs": [],
   "source": [
    "from sklearn.tree import DecisionTreeRegressor"
   ]
  },
  {
   "cell_type": "code",
   "execution_count": 24,
   "metadata": {
    "collapsed": false
   },
   "outputs": [
    {
     "data": {
      "text/plain": [
       "GridSearchCV(cv=None, error_score='raise',\n",
       "       estimator=DecisionTreeRegressor(criterion='mse', max_depth=None, max_features=None,\n",
       "           max_leaf_nodes=None, min_samples_leaf=1, min_samples_split=2,\n",
       "           min_weight_fraction_leaf=0.0, presort=False, random_state=None,\n",
       "           splitter='best'),\n",
       "       fit_params={}, iid=True, n_jobs=1,\n",
       "       param_grid={'max_leaf_nodes': [2, 20], 'max_depth': [2, 20]},\n",
       "       pre_dispatch='2*n_jobs', refit=True,\n",
       "       scoring=make_scorer(fmean_squared_error, greater_is_better=False),\n",
       "       verbose=0)"
      ]
     },
     "execution_count": 24,
     "metadata": {},
     "output_type": "execute_result"
    }
   ],
   "source": [
    "RMSE=make_scorer(fmean_squared_error, greater_is_better=False)\n",
    "parameters = {'max_leaf_nodes':[2,20],'max_depth':[2,20]}\n",
    "clf = grid_search.GridSearchCV(DecisionTreeRegressor(),parameters,scoring=RMSE)\n",
    "clf.fit(x_train,y_train)"
   ]
  },
  {
   "cell_type": "code",
   "execution_count": 25,
   "metadata": {
    "collapsed": false
   },
   "outputs": [
    {
     "data": {
      "text/plain": [
       "0.5114248375170225"
      ]
     },
     "execution_count": 25,
     "metadata": {},
     "output_type": "execute_result"
    }
   ],
   "source": [
    "y_pred = clf.predict(x_test)\n",
    "fmean_squared_error(y_test,y_pred)"
   ]
  },
  {
   "cell_type": "code",
   "execution_count": null,
   "metadata": {
    "collapsed": true
   },
   "outputs": [],
   "source": []
  }
 ],
 "metadata": {
  "kernelspec": {
   "display_name": "Python 2",
   "language": "python",
   "name": "python2"
  },
  "language_info": {
   "codemirror_mode": {
    "name": "ipython",
    "version": 2
   },
   "file_extension": ".py",
   "mimetype": "text/x-python",
   "name": "python",
   "nbconvert_exporter": "python",
   "pygments_lexer": "ipython2",
   "version": "2.7.9"
  }
 },
 "nbformat": 4,
 "nbformat_minor": 0
}
