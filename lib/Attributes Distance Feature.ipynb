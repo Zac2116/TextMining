{
 "cells": [
  {
   "cell_type": "code",
   "execution_count": 34,
   "metadata": {
    "collapsed": true
   },
   "outputs": [],
   "source": [
    "import numpy as np\n",
    "import pandas as pd"
   ]
  },
  {
   "cell_type": "code",
   "execution_count": 35,
   "metadata": {
    "collapsed": true
   },
   "outputs": [],
   "source": [
    "def ngrams(input_list, n):\n",
    "  return zip(*[input_list[i:] for i in range(n)])\n",
    "\n",
    "def jCDistance(A,B):\n",
    "\t#A intersect B / (A union B) \n",
    "\t#A: list\n",
    "\t#B: list\n",
    "\n",
    "\tdeno = set(A) & set(B)\n",
    "\tnom = set(A) | set(B)\n",
    "\n",
    "\tjC = len(deno) / float(len(nom))\n",
    "\treturn jC\n",
    "\n",
    "def featureGenerate(title1, title2):\n",
    "    t11 = ngrams(title1,1)\n",
    "    t21 = ngrams(title2,1)\n",
    "\n",
    "    jc1 = jCDistance(t11,t21)\n",
    "\n",
    "    result = jc1\n",
    "    return result"
   ]
  },
  {
   "cell_type": "markdown",
   "metadata": {},
   "source": [
    "## Train Feature"
   ]
  },
  {
   "cell_type": "code",
   "execution_count": 36,
   "metadata": {
    "collapsed": true
   },
   "outputs": [],
   "source": [
    "train_attr = pd.read_csv('train_attr.csv')\n",
    "test_attr = pd.read_csv('test_attr.csv')"
   ]
  },
  {
   "cell_type": "code",
   "execution_count": 37,
   "metadata": {
    "collapsed": false
   },
   "outputs": [
    {
     "data": {
      "text/html": [
       "<div>\n",
       "<table border=\"1\" class=\"dataframe\">\n",
       "  <thead>\n",
       "    <tr style=\"text-align: right;\">\n",
       "      <th></th>\n",
       "      <th>id</th>\n",
       "      <th>product_uid</th>\n",
       "      <th>product_title</th>\n",
       "      <th>search_term</th>\n",
       "      <th>product_description</th>\n",
       "      <th>relevance</th>\n",
       "      <th>productList</th>\n",
       "      <th>searchList</th>\n",
       "      <th>desList</th>\n",
       "      <th>brand</th>\n",
       "      <th>color</th>\n",
       "      <th>material</th>\n",
       "    </tr>\n",
       "  </thead>\n",
       "  <tbody>\n",
       "    <tr>\n",
       "      <th>0</th>\n",
       "      <td>2</td>\n",
       "      <td>100001</td>\n",
       "      <td>Simpson Strong-Tie 12-Gauge Angle</td>\n",
       "      <td>angle bracket</td>\n",
       "      <td>Not only do angles make joints stronger, they ...</td>\n",
       "      <td>3.0</td>\n",
       "      <td>simpson strong-ti 12-gaug angl</td>\n",
       "      <td>angl bracket</td>\n",
       "      <td>angl brand joint strong besid suppli consist h...</td>\n",
       "      <td>simpson strong-ti</td>\n",
       "      <td>NaN</td>\n",
       "      <td>startl steel</td>\n",
       "    </tr>\n",
       "    <tr>\n",
       "      <th>1</th>\n",
       "      <td>3</td>\n",
       "      <td>100001</td>\n",
       "      <td>Simpson Strong-Tie 12-Gauge Angle</td>\n",
       "      <td>l bracket</td>\n",
       "      <td>Not only do angles make joints stronger, they ...</td>\n",
       "      <td>2.5</td>\n",
       "      <td>simpson strong-ti 12-gaug angl</td>\n",
       "      <td>liter bracket</td>\n",
       "      <td>angl brand joint strong besid suppli consist h...</td>\n",
       "      <td>simpson strong-ti</td>\n",
       "      <td>NaN</td>\n",
       "      <td>startl steel</td>\n",
       "    </tr>\n",
       "    <tr>\n",
       "      <th>2</th>\n",
       "      <td>9</td>\n",
       "      <td>100002</td>\n",
       "      <td>BEHR Premium Textured DeckOver 1-gal. #SC-141 ...</td>\n",
       "      <td>deck over</td>\n",
       "      <td>BEHR Premium Textured DECKOVER is an innovativ...</td>\n",
       "      <td>3.0</td>\n",
       "      <td>behr premium textur deck 1-gal sc-141 tugboat ...</td>\n",
       "      <td>deck</td>\n",
       "      <td>behr premium textur deckov advanc solid color ...</td>\n",
       "      <td>behr premium textur deck</td>\n",
       "      <td>tugboat</td>\n",
       "      <td>NaN</td>\n",
       "    </tr>\n",
       "  </tbody>\n",
       "</table>\n",
       "</div>"
      ],
      "text/plain": [
       "   id  product_uid                                      product_title  \\\n",
       "0   2       100001                  Simpson Strong-Tie 12-Gauge Angle   \n",
       "1   3       100001                  Simpson Strong-Tie 12-Gauge Angle   \n",
       "2   9       100002  BEHR Premium Textured DeckOver 1-gal. #SC-141 ...   \n",
       "\n",
       "     search_term                                product_description  \\\n",
       "0  angle bracket  Not only do angles make joints stronger, they ...   \n",
       "1      l bracket  Not only do angles make joints stronger, they ...   \n",
       "2      deck over  BEHR Premium Textured DECKOVER is an innovativ...   \n",
       "\n",
       "   relevance                                        productList  \\\n",
       "0        3.0                     simpson strong-ti 12-gaug angl   \n",
       "1        2.5                     simpson strong-ti 12-gaug angl   \n",
       "2        3.0  behr premium textur deck 1-gal sc-141 tugboat ...   \n",
       "\n",
       "      searchList                                            desList  \\\n",
       "0   angl bracket  angl brand joint strong besid suppli consist h...   \n",
       "1  liter bracket  angl brand joint strong besid suppli consist h...   \n",
       "2           deck  behr premium textur deckov advanc solid color ...   \n",
       "\n",
       "                      brand    color      material  \n",
       "0         simpson strong-ti      NaN  startl steel  \n",
       "1         simpson strong-ti      NaN  startl steel  \n",
       "2  behr premium textur deck  tugboat           NaN  "
      ]
     },
     "execution_count": 37,
     "metadata": {},
     "output_type": "execute_result"
    }
   ],
   "source": [
    "train_attr.head(3)"
   ]
  },
  {
   "cell_type": "code",
   "execution_count": 38,
   "metadata": {
    "collapsed": false
   },
   "outputs": [],
   "source": [
    "brandDis = []\n",
    "colorDis = []\n",
    "materialDis = []\n",
    "for i in range(len(train_attr['searchList'])):\n",
    "    if type(train_attr['searchList'][i]) == str:\n",
    "        if type(train_attr['brand'][i]) == str:\n",
    "            brandDis.append(featureGenerate(train_attr['searchList'][i].split(),train_attr['brand'][i].split()))\n",
    "        else:\n",
    "            brandDis.append(0)\n",
    "        if type(train_attr['color'][i]) == str:\n",
    "            colorDis.append(featureGenerate(train_attr['searchList'][i].split(),train_attr['color'][i].split()))\n",
    "        else:\n",
    "            colorDis.append(0)\n",
    "        if type(train_attr['material'][i]) == str:\n",
    "            materialDis.append(featureGenerate(train_attr['searchList'][i].split(),train_attr['material'][i].split()))\n",
    "        else:\n",
    "            materialDis.append(0)\n",
    "    else:\n",
    "        brandDis.append(0)\n",
    "        colorDis.append(0)\n",
    "        materialDis.append(0)"
   ]
  },
  {
   "cell_type": "code",
   "execution_count": 39,
   "metadata": {
    "collapsed": false
   },
   "outputs": [],
   "source": [
    "train_attr['brandDis'] = pd.Series(brandDis)\n",
    "train_attr['colorDis'] = pd.Series(colorDis)\n",
    "train_attr['materialDis'] = pd.Series(materialDis)"
   ]
  },
  {
   "cell_type": "code",
   "execution_count": 40,
   "metadata": {
    "collapsed": false
   },
   "outputs": [],
   "source": [
    "train_attr1 = train_attr.iloc[:,[0,12,13,14]]"
   ]
  },
  {
   "cell_type": "code",
   "execution_count": 44,
   "metadata": {
    "collapsed": false
   },
   "outputs": [
    {
     "data": {
      "text/html": [
       "<div>\n",
       "<table border=\"1\" class=\"dataframe\">\n",
       "  <thead>\n",
       "    <tr style=\"text-align: right;\">\n",
       "      <th></th>\n",
       "      <th>id</th>\n",
       "      <th>brandDis</th>\n",
       "      <th>colorDis</th>\n",
       "      <th>materialDis</th>\n",
       "    </tr>\n",
       "  </thead>\n",
       "  <tbody>\n",
       "    <tr>\n",
       "      <th>0</th>\n",
       "      <td>2</td>\n",
       "      <td>0</td>\n",
       "      <td>0</td>\n",
       "      <td>0</td>\n",
       "    </tr>\n",
       "    <tr>\n",
       "      <th>1</th>\n",
       "      <td>3</td>\n",
       "      <td>0</td>\n",
       "      <td>0</td>\n",
       "      <td>0</td>\n",
       "    </tr>\n",
       "  </tbody>\n",
       "</table>\n",
       "</div>"
      ],
      "text/plain": [
       "   id  brandDis  colorDis  materialDis\n",
       "0   2         0         0            0\n",
       "1   3         0         0            0"
      ]
     },
     "execution_count": 44,
     "metadata": {},
     "output_type": "execute_result"
    }
   ],
   "source": [
    "train_attr1.head(2)"
   ]
  },
  {
   "cell_type": "code",
   "execution_count": 41,
   "metadata": {
    "collapsed": true
   },
   "outputs": [],
   "source": [
    "train_feature = pd.read_csv('features_tfidf_d_train.csv')"
   ]
  },
  {
   "cell_type": "code",
   "execution_count": 45,
   "metadata": {
    "collapsed": false
   },
   "outputs": [
    {
     "data": {
      "text/html": [
       "<div>\n",
       "<table border=\"1\" class=\"dataframe\">\n",
       "  <thead>\n",
       "    <tr style=\"text-align: right;\">\n",
       "      <th></th>\n",
       "      <th>id</th>\n",
       "      <th>relevance</th>\n",
       "      <th>ts1</th>\n",
       "      <th>ts2</th>\n",
       "      <th>ts3</th>\n",
       "      <th>td1</th>\n",
       "      <th>td2</th>\n",
       "      <th>sd1</th>\n",
       "      <th>sd2</th>\n",
       "      <th>sd3</th>\n",
       "      <th>...</th>\n",
       "      <th>td1_tfidf</th>\n",
       "      <th>td2_tfidf</th>\n",
       "      <th>sd1_tfidf</th>\n",
       "      <th>sd2_tfidf</th>\n",
       "      <th>sd3_tfidf</th>\n",
       "      <th>sd4_tfidf</th>\n",
       "      <th>sd5_tfidf</th>\n",
       "      <th>sd6_tfidf</th>\n",
       "      <th>sd7_tfidf</th>\n",
       "      <th>sd8_tfidf</th>\n",
       "    </tr>\n",
       "  </thead>\n",
       "  <tbody>\n",
       "    <tr>\n",
       "      <th>0</th>\n",
       "      <td>2</td>\n",
       "      <td>3.0</td>\n",
       "      <td>0.2</td>\n",
       "      <td>0</td>\n",
       "      <td>0</td>\n",
       "      <td>0.059701</td>\n",
       "      <td>0.011111</td>\n",
       "      <td>0.014706</td>\n",
       "      <td>0</td>\n",
       "      <td>0</td>\n",
       "      <td>...</td>\n",
       "      <td>0.275497</td>\n",
       "      <td>0.090356</td>\n",
       "      <td>0.071478</td>\n",
       "      <td>0</td>\n",
       "      <td>0</td>\n",
       "      <td>0</td>\n",
       "      <td>0</td>\n",
       "      <td>0</td>\n",
       "      <td>0</td>\n",
       "      <td>0</td>\n",
       "    </tr>\n",
       "    <tr>\n",
       "      <th>1</th>\n",
       "      <td>3</td>\n",
       "      <td>2.5</td>\n",
       "      <td>0.0</td>\n",
       "      <td>0</td>\n",
       "      <td>0</td>\n",
       "      <td>0.059701</td>\n",
       "      <td>0.011111</td>\n",
       "      <td>0.000000</td>\n",
       "      <td>0</td>\n",
       "      <td>0</td>\n",
       "      <td>...</td>\n",
       "      <td>0.293653</td>\n",
       "      <td>0.090356</td>\n",
       "      <td>0.000000</td>\n",
       "      <td>0</td>\n",
       "      <td>0</td>\n",
       "      <td>0</td>\n",
       "      <td>0</td>\n",
       "      <td>0</td>\n",
       "      <td>0</td>\n",
       "      <td>0</td>\n",
       "    </tr>\n",
       "  </tbody>\n",
       "</table>\n",
       "<p>2 rows × 28 columns</p>\n",
       "</div>"
      ],
      "text/plain": [
       "   id  relevance  ts1  ts2  ts3       td1       td2       sd1  sd2  sd3  \\\n",
       "0   2        3.0  0.2    0    0  0.059701  0.011111  0.014706    0    0   \n",
       "1   3        2.5  0.0    0    0  0.059701  0.011111  0.000000    0    0   \n",
       "\n",
       "     ...      td1_tfidf  td2_tfidf  sd1_tfidf  sd2_tfidf  sd3_tfidf  \\\n",
       "0    ...       0.275497   0.090356   0.071478          0          0   \n",
       "1    ...       0.293653   0.090356   0.000000          0          0   \n",
       "\n",
       "   sd4_tfidf  sd5_tfidf  sd6_tfidf  sd7_tfidf  sd8_tfidf  \n",
       "0          0          0          0          0          0  \n",
       "1          0          0          0          0          0  \n",
       "\n",
       "[2 rows x 28 columns]"
      ]
     },
     "execution_count": 45,
     "metadata": {},
     "output_type": "execute_result"
    }
   ],
   "source": [
    "train_feature.head(2)"
   ]
  },
  {
   "cell_type": "code",
   "execution_count": 46,
   "metadata": {
    "collapsed": true
   },
   "outputs": [],
   "source": [
    "train_allfeature = pd.merge(train_feature,train_attr1,how='left',on='id')"
   ]
  },
  {
   "cell_type": "code",
   "execution_count": 48,
   "metadata": {
    "collapsed": true
   },
   "outputs": [],
   "source": [
    "train_allfeature.to_csv('train_allfeature.csv',index=False)"
   ]
  },
  {
   "cell_type": "markdown",
   "metadata": {},
   "source": [
    "## Test Feature"
   ]
  },
  {
   "cell_type": "code",
   "execution_count": 49,
   "metadata": {
    "collapsed": true
   },
   "outputs": [],
   "source": [
    "brandDis = []\n",
    "colorDis = []\n",
    "materialDis = []\n",
    "for i in range(len(test_attr['searchList'])):\n",
    "    if type(test_attr['searchList'][i]) == str:\n",
    "        if type(test_attr['brand'][i]) == str:\n",
    "            brandDis.append(featureGenerate(test_attr['searchList'][i].split(),test_attr['brand'][i].split()))\n",
    "        else:\n",
    "            brandDis.append(0)\n",
    "        if type(test_attr['color'][i]) == str:\n",
    "            colorDis.append(featureGenerate(test_attr['searchList'][i].split(),test_attr['color'][i].split()))\n",
    "        else:\n",
    "            colorDis.append(0)\n",
    "        if type(test_attr['material'][i]) == str:\n",
    "            materialDis.append(featureGenerate(test_attr['searchList'][i].split(),test_attr['material'][i].split()))\n",
    "        else:\n",
    "            materialDis.append(0)\n",
    "    else:\n",
    "        brandDis.append(0)\n",
    "        colorDis.append(0)\n",
    "        materialDis.append(0)"
   ]
  },
  {
   "cell_type": "code",
   "execution_count": 60,
   "metadata": {
    "collapsed": false
   },
   "outputs": [
    {
     "data": {
      "text/html": [
       "<div>\n",
       "<table border=\"1\" class=\"dataframe\">\n",
       "  <thead>\n",
       "    <tr style=\"text-align: right;\">\n",
       "      <th></th>\n",
       "      <th>id</th>\n",
       "      <th>brandDis</th>\n",
       "      <th>colorDis</th>\n",
       "      <th>materialDis</th>\n",
       "    </tr>\n",
       "  </thead>\n",
       "  <tbody>\n",
       "    <tr>\n",
       "      <th>0</th>\n",
       "      <td>1</td>\n",
       "      <td>0</td>\n",
       "      <td>0</td>\n",
       "      <td>0</td>\n",
       "    </tr>\n",
       "    <tr>\n",
       "      <th>1</th>\n",
       "      <td>4</td>\n",
       "      <td>0</td>\n",
       "      <td>0</td>\n",
       "      <td>0</td>\n",
       "    </tr>\n",
       "  </tbody>\n",
       "</table>\n",
       "</div>"
      ],
      "text/plain": [
       "   id  brandDis  colorDis  materialDis\n",
       "0   1         0         0            0\n",
       "1   4         0         0            0"
      ]
     },
     "execution_count": 60,
     "metadata": {},
     "output_type": "execute_result"
    }
   ],
   "source": [
    "test_attr['brandDis'] = pd.Series(brandDis)\n",
    "test_attr['colorDis'] = pd.Series(colorDis)\n",
    "test_attr['materialDis'] = pd.Series(materialDis)\n",
    "test_attr1 = test_attr.iloc[:,[0,11,12,13]]\n",
    "test_attr1.head(2)"
   ]
  },
  {
   "cell_type": "code",
   "execution_count": 51,
   "metadata": {
    "collapsed": true
   },
   "outputs": [],
   "source": [
    "test_feature = pd.read_csv('features_tfidf_d_test.csv')"
   ]
  },
  {
   "cell_type": "code",
   "execution_count": 63,
   "metadata": {
    "collapsed": true
   },
   "outputs": [],
   "source": [
    "test_allfeature = pd.merge(test_feature,test_attr1,how='left',on='id')"
   ]
  },
  {
   "cell_type": "code",
   "execution_count": 64,
   "metadata": {
    "collapsed": true
   },
   "outputs": [],
   "source": [
    "test_allfeature.to_csv('test_allfeature.csv',index=False)"
   ]
  },
  {
   "cell_type": "code",
   "execution_count": null,
   "metadata": {
    "collapsed": true
   },
   "outputs": [],
   "source": []
  }
 ],
 "metadata": {
  "kernelspec": {
   "display_name": "Python 2",
   "language": "python",
   "name": "python2"
  },
  "language_info": {
   "codemirror_mode": {
    "name": "ipython",
    "version": 2
   },
   "file_extension": ".py",
   "mimetype": "text/x-python",
   "name": "python",
   "nbconvert_exporter": "python",
   "pygments_lexer": "ipython2",
   "version": "2.7.9"
  }
 },
 "nbformat": 4,
 "nbformat_minor": 0
}
