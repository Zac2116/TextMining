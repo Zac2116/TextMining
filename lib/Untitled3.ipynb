{
 "cells": [
  {
   "cell_type": "code",
   "execution_count": 43,
   "metadata": {
    "collapsed": true
   },
   "outputs": [],
   "source": [
    "from sklearn.feature_extraction.text import CountVectorizer\n",
    "from sklearn.feature_extraction.text import TfidfTransformer\n",
    "#from nltk.corpus import stopwords\n",
    "def tf_idf_features(train_ls):\n",
    "    train_set = train_ls #Documents\n",
    "    vectorizer = CountVectorizer()#stop_words = stopWords\n",
    "    transformer = TfidfTransformer()\n",
    "    trainVectorizerArray = vectorizer.fit_transform(train_set).toarray()\n",
    "    transformer.fit(trainVectorizerArray)\n",
    "    return transformer.transform(trainVectorizerArray).toarray()\n"
   ]
  },
  {
   "cell_type": "code",
   "execution_count": 44,
   "metadata": {
    "collapsed": false
   },
   "outputs": [
    {
     "data": {
      "text/plain": [
       "array([[ 0.4736296 ,  0.62276601,  0.62276601,  0.        ],\n",
       "       [ 0.        ,  0.        ,  0.        ,  1.        ],\n",
       "       [ 1.        ,  0.        ,  0.        ,  0.        ]])"
      ]
     },
     "execution_count": 44,
     "metadata": {},
     "output_type": "execute_result"
    }
   ],
   "source": [
    "a = tf_idf_features([\"is apple have\",\"ladjfkl\",\"apple\"])\n",
    "a"
   ]
  },
  {
   "cell_type": "code",
   "execution_count": 21,
   "metadata": {
    "collapsed": true
   },
   "outputs": [],
   "source": [
    "from sklearn.metrics.pairwise import cosine_similarity"
   ]
  },
  {
   "cell_type": "code",
   "execution_count": 45,
   "metadata": {
    "collapsed": false
   },
   "outputs": [
    {
     "data": {
      "text/plain": [
       "array([[ 1.       ,  0.       ,  0.4736296],\n",
       "       [ 0.       ,  1.       ,  0.       ],\n",
       "       [ 0.4736296,  0.       ,  1.       ]])"
      ]
     },
     "execution_count": 45,
     "metadata": {},
     "output_type": "execute_result"
    }
   ],
   "source": [
    "cosine_similarity(a)"
   ]
  },
  {
   "cell_type": "code",
   "execution_count": 51,
   "metadata": {
    "collapsed": false
   },
   "outputs": [
    {
     "data": {
      "text/html": [
       "<div>\n",
       "<table border=\"1\" class=\"dataframe\">\n",
       "  <thead>\n",
       "    <tr style=\"text-align: right;\">\n",
       "      <th></th>\n",
       "      <th>id</th>\n",
       "      <th>product_uid</th>\n",
       "      <th>product_title</th>\n",
       "      <th>search_term</th>\n",
       "      <th>product_description</th>\n",
       "      <th>relevance</th>\n",
       "      <th>productList</th>\n",
       "      <th>searchList</th>\n",
       "      <th>desList</th>\n",
       "    </tr>\n",
       "  </thead>\n",
       "  <tbody>\n",
       "    <tr>\n",
       "      <th>0</th>\n",
       "      <td>2</td>\n",
       "      <td>100001</td>\n",
       "      <td>Simpson Strong-Tie 12-Gauge Angle</td>\n",
       "      <td>angle bracket</td>\n",
       "      <td>Not only do angles make joints stronger, they ...</td>\n",
       "      <td>3.0</td>\n",
       "      <td>simpson strong-ti 12-gaug angl</td>\n",
       "      <td>angl bracket</td>\n",
       "      <td>angl brand joint strong besid suppli consist h...</td>\n",
       "    </tr>\n",
       "    <tr>\n",
       "      <th>1</th>\n",
       "      <td>3</td>\n",
       "      <td>100001</td>\n",
       "      <td>Simpson Strong-Tie 12-Gauge Angle</td>\n",
       "      <td>l bracket</td>\n",
       "      <td>Not only do angles make joints stronger, they ...</td>\n",
       "      <td>2.5</td>\n",
       "      <td>simpson strong-ti 12-gaug angl</td>\n",
       "      <td>liter bracket</td>\n",
       "      <td>angl brand joint strong besid suppli consist h...</td>\n",
       "    </tr>\n",
       "  </tbody>\n",
       "</table>\n",
       "</div>"
      ],
      "text/plain": [
       "   id  product_uid                      product_title    search_term  \\\n",
       "0   2       100001  Simpson Strong-Tie 12-Gauge Angle  angle bracket   \n",
       "1   3       100001  Simpson Strong-Tie 12-Gauge Angle      l bracket   \n",
       "\n",
       "                                 product_description  relevance  \\\n",
       "0  Not only do angles make joints stronger, they ...        3.0   \n",
       "1  Not only do angles make joints stronger, they ...        2.5   \n",
       "\n",
       "                      productList     searchList  \\\n",
       "0  simpson strong-ti 12-gaug angl   angl bracket   \n",
       "1  simpson strong-ti 12-gaug angl  liter bracket   \n",
       "\n",
       "                                             desList  \n",
       "0  angl brand joint strong besid suppli consist h...  \n",
       "1  angl brand joint strong besid suppli consist h...  "
      ]
     },
     "execution_count": 51,
     "metadata": {},
     "output_type": "execute_result"
    }
   ],
   "source": [
    "import pandas as pd\n",
    "train=pd.read_csv('~/Desktop/train_clean.csv',keep_default_na=False,na_values=[])\n",
    "train[0:2]"
   ]
  },
  {
   "cell_type": "code",
   "execution_count": 84,
   "metadata": {
    "collapsed": false
   },
   "outputs": [],
   "source": [
    "def tfidf_cosSim(train):\n",
    "    df = pd.DataFrame()\n",
    "        #i = 0\n",
    "    for i in range(0,len(train)): #len(train)\n",
    "        id = train.iloc[i]['id']\n",
    "        t = train.iloc[i]['productList']\n",
    "        s = train.iloc[i]['searchList']\n",
    "        d = train.iloc[i]['desList']\n",
    "        cur_ls = [t,s,d]\n",
    "        tfidf = tf_idf_features(cur_ls)\n",
    "        m =  cosine_similarity(tfidf)\n",
    "        ts = m[0][1]\n",
    "        td = m[0][2]\n",
    "        sd = m[1][2]\n",
    "        df2 = pd.Series([id]+[ts]+[td]+[sd])\n",
    "        df = df.append(df2, ignore_index=True)\n",
    "    \n",
    "    names =['id','ts1','td1','sd1']\n",
    "    df.columns = names\n",
    "    return df\n"
   ]
  },
  {
   "cell_type": "code",
   "execution_count": 83,
   "metadata": {
    "collapsed": false
   },
   "outputs": [
    {
     "data": {
      "text/html": [
       "<div>\n",
       "<table border=\"1\" class=\"dataframe\">\n",
       "  <thead>\n",
       "    <tr style=\"text-align: right;\">\n",
       "      <th></th>\n",
       "      <th>id</th>\n",
       "      <th>ts1</th>\n",
       "      <th>td1</th>\n",
       "      <th>sd1</th>\n",
       "    </tr>\n",
       "  </thead>\n",
       "  <tbody>\n",
       "    <tr>\n",
       "      <th>0</th>\n",
       "      <td>2</td>\n",
       "      <td>0.166842</td>\n",
       "      <td>0.275497</td>\n",
       "      <td>0.071478</td>\n",
       "    </tr>\n",
       "    <tr>\n",
       "      <th>1</th>\n",
       "      <td>3</td>\n",
       "      <td>0.000000</td>\n",
       "      <td>0.293653</td>\n",
       "      <td>0.000000</td>\n",
       "    </tr>\n",
       "    <tr>\n",
       "      <th>2</th>\n",
       "      <td>9</td>\n",
       "      <td>0.211214</td>\n",
       "      <td>0.285960</td>\n",
       "      <td>0.130231</td>\n",
       "    </tr>\n",
       "  </tbody>\n",
       "</table>\n",
       "</div>"
      ],
      "text/plain": [
       "   id       ts1       td1       sd1\n",
       "0   2  0.166842  0.275497  0.071478\n",
       "1   3  0.000000  0.293653  0.000000\n",
       "2   9  0.211214  0.285960  0.130231"
      ]
     },
     "execution_count": 83,
     "metadata": {},
     "output_type": "execute_result"
    }
   ],
   "source": []
  },
  {
   "cell_type": "code",
   "execution_count": 66,
   "metadata": {
    "collapsed": false
   },
   "outputs": [
    {
     "data": {
      "text/plain": [
       "array([[ 1.        ,  0.16684171,  0.27549696],\n",
       "       [ 0.16684171,  1.        ,  0.07147825],\n",
       "       [ 0.27549696,  0.07147825,  1.        ]])"
      ]
     },
     "execution_count": 66,
     "metadata": {},
     "output_type": "execute_result"
    }
   ],
   "source": [
    "m"
   ]
  },
  {
   "cell_type": "code",
   "execution_count": 56,
   "metadata": {
    "collapsed": false
   },
   "outputs": [
    {
     "data": {
      "text/plain": [
       "'angl brand joint strong besid suppli consist heterosexu corners simpson strong-ti offer wide assort angl assort size thick handl light-duti occup undertak structur connect needed bent skew match project outdoor undertak moistur present use zmax zinc-coat connect suppli supernumerari resist corros express omega end model number versatil connect assort 90 connect home repair undertak strong angl nail prison_guard fasten alon aid guarante joint systemat heterosexu strong dimens 3 in ten 3 in ten 1-1/2 in.mad 12-gaug steel startl supernumerari corros resist instal 10d park nail 9 ten 1-1/2 in strong-driv south_dakota prison_guard'"
      ]
     },
     "execution_count": 56,
     "metadata": {},
     "output_type": "execute_result"
    }
   ],
   "source": [
    "d"
   ]
  },
  {
   "cell_type": "code",
   "execution_count": null,
   "metadata": {
    "collapsed": true
   },
   "outputs": [],
   "source": []
  }
 ],
 "metadata": {
  "kernelspec": {
   "display_name": "Python 2",
   "language": "python",
   "name": "python2"
  },
  "language_info": {
   "codemirror_mode": {
    "name": "ipython",
    "version": 2
   },
   "file_extension": ".py",
   "mimetype": "text/x-python",
   "name": "python",
   "nbconvert_exporter": "python",
   "pygments_lexer": "ipython2",
   "version": "2.7.11"
  }
 },
 "nbformat": 4,
 "nbformat_minor": 0
}
