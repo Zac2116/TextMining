{
 "cells": [
  {
   "cell_type": "code",
   "execution_count": 27,
   "metadata": {
    "collapsed": true
   },
   "outputs": [],
   "source": [
    "import numpy as np\n",
    "import pandas as pd\n",
    "import matplotlib.pyplot as plt\n",
    "%matplotlib inline\n",
    "plt.style.use('ggplot')"
   ]
  },
  {
   "cell_type": "code",
   "execution_count": 28,
   "metadata": {
    "collapsed": false
   },
   "outputs": [],
   "source": [
    "df = pd.read_csv('/Users/pengfeiwang/Desktop/train_allfeature_reborn.csv')"
   ]
  },
  {
   "cell_type": "code",
   "execution_count": 29,
   "metadata": {
    "collapsed": false
   },
   "outputs": [
    {
     "data": {
      "text/html": [
       "<div>\n",
       "<table border=\"1\" class=\"dataframe\">\n",
       "  <thead>\n",
       "    <tr style=\"text-align: right;\">\n",
       "      <th></th>\n",
       "      <th>id</th>\n",
       "      <th>relevance</th>\n",
       "      <th>ts1</th>\n",
       "      <th>ts2</th>\n",
       "      <th>ts3</th>\n",
       "      <th>td1</th>\n",
       "      <th>td2</th>\n",
       "      <th>sd1</th>\n",
       "      <th>sd2</th>\n",
       "      <th>sd3</th>\n",
       "      <th>...</th>\n",
       "      <th>sd7_tfidf</th>\n",
       "      <th>sd8_tfidf</th>\n",
       "      <th>brandDis</th>\n",
       "      <th>colorDis</th>\n",
       "      <th>materialDis</th>\n",
       "      <th>ProductNum</th>\n",
       "      <th>SearchNum</th>\n",
       "      <th>brandNum</th>\n",
       "      <th>stCommon</th>\n",
       "      <th>sbCommon</th>\n",
       "    </tr>\n",
       "  </thead>\n",
       "  <tbody>\n",
       "    <tr>\n",
       "      <th>0</th>\n",
       "      <td>2</td>\n",
       "      <td>3.0</td>\n",
       "      <td>0.2</td>\n",
       "      <td>0</td>\n",
       "      <td>0</td>\n",
       "      <td>0.059701</td>\n",
       "      <td>0.011111</td>\n",
       "      <td>0.014706</td>\n",
       "      <td>0</td>\n",
       "      <td>0</td>\n",
       "      <td>...</td>\n",
       "      <td>0</td>\n",
       "      <td>0</td>\n",
       "      <td>0.00</td>\n",
       "      <td>0</td>\n",
       "      <td>0</td>\n",
       "      <td>6</td>\n",
       "      <td>2</td>\n",
       "      <td>3</td>\n",
       "      <td>0</td>\n",
       "      <td>0</td>\n",
       "    </tr>\n",
       "    <tr>\n",
       "      <th>1</th>\n",
       "      <td>3</td>\n",
       "      <td>2.5</td>\n",
       "      <td>0.0</td>\n",
       "      <td>0</td>\n",
       "      <td>0</td>\n",
       "      <td>0.059701</td>\n",
       "      <td>0.011111</td>\n",
       "      <td>0.000000</td>\n",
       "      <td>0</td>\n",
       "      <td>0</td>\n",
       "      <td>...</td>\n",
       "      <td>0</td>\n",
       "      <td>0</td>\n",
       "      <td>0.00</td>\n",
       "      <td>0</td>\n",
       "      <td>0</td>\n",
       "      <td>6</td>\n",
       "      <td>2</td>\n",
       "      <td>3</td>\n",
       "      <td>1</td>\n",
       "      <td>0</td>\n",
       "    </tr>\n",
       "    <tr>\n",
       "      <th>2</th>\n",
       "      <td>9</td>\n",
       "      <td>3.0</td>\n",
       "      <td>0.1</td>\n",
       "      <td>0</td>\n",
       "      <td>0</td>\n",
       "      <td>0.069307</td>\n",
       "      <td>0.023622</td>\n",
       "      <td>0.010204</td>\n",
       "      <td>0</td>\n",
       "      <td>0</td>\n",
       "      <td>...</td>\n",
       "      <td>0</td>\n",
       "      <td>0</td>\n",
       "      <td>0.25</td>\n",
       "      <td>0</td>\n",
       "      <td>0</td>\n",
       "      <td>11</td>\n",
       "      <td>2</td>\n",
       "      <td>4</td>\n",
       "      <td>1</td>\n",
       "      <td>1</td>\n",
       "    </tr>\n",
       "  </tbody>\n",
       "</table>\n",
       "<p>3 rows × 36 columns</p>\n",
       "</div>"
      ],
      "text/plain": [
       "   id  relevance  ts1  ts2  ts3       td1       td2       sd1  sd2  sd3  \\\n",
       "0   2        3.0  0.2    0    0  0.059701  0.011111  0.014706    0    0   \n",
       "1   3        2.5  0.0    0    0  0.059701  0.011111  0.000000    0    0   \n",
       "2   9        3.0  0.1    0    0  0.069307  0.023622  0.010204    0    0   \n",
       "\n",
       "     ...     sd7_tfidf  sd8_tfidf  brandDis  colorDis  materialDis  \\\n",
       "0    ...             0          0      0.00         0            0   \n",
       "1    ...             0          0      0.00         0            0   \n",
       "2    ...             0          0      0.25         0            0   \n",
       "\n",
       "   ProductNum  SearchNum  brandNum  stCommon  sbCommon  \n",
       "0           6          2         3         0         0  \n",
       "1           6          2         3         1         0  \n",
       "2          11          2         4         1         1  \n",
       "\n",
       "[3 rows x 36 columns]"
      ]
     },
     "execution_count": 29,
     "metadata": {},
     "output_type": "execute_result"
    }
   ],
   "source": [
    "df.head(3)"
   ]
  },
  {
   "cell_type": "code",
   "execution_count": 30,
   "metadata": {
    "collapsed": false
   },
   "outputs": [
    {
     "data": {
      "text/plain": [
       "Index([u'id', u'relevance', u'ts1', u'ts2', u'ts3', u'td1', u'td2', u'sd1',\n",
       "       u'sd2', u'sd3', u'sd4', u'sd5', u'sd6', u'sd7', u'sd8', u'ts1_tfidf',\n",
       "       u'ts2_tfidf', u'ts3_tfidf', u'td1_tfidf', u'td2_tfidf', u'sd1_tfidf',\n",
       "       u'sd2_tfidf', u'sd3_tfidf', u'sd4_tfidf', u'sd5_tfidf', u'sd6_tfidf',\n",
       "       u'sd7_tfidf', u'sd8_tfidf', u'brandDis', u'colorDis', u'materialDis',\n",
       "       u'ProductNum', u'SearchNum', u'brandNum', u'stCommon', u'sbCommon'],\n",
       "      dtype='object')"
      ]
     },
     "execution_count": 30,
     "metadata": {},
     "output_type": "execute_result"
    }
   ],
   "source": [
    "df.columns"
   ]
  },
  {
   "cell_type": "code",
   "execution_count": 31,
   "metadata": {
    "collapsed": true
   },
   "outputs": [],
   "source": [
    "X_all = df.iloc[:,2:]"
   ]
  },
  {
   "cell_type": "code",
   "execution_count": 32,
   "metadata": {
    "collapsed": false
   },
   "outputs": [],
   "source": [
    "Y = df.relevance"
   ]
  },
  {
   "cell_type": "code",
   "execution_count": 53,
   "metadata": {
    "collapsed": false
   },
   "outputs": [],
   "source": [
    "import seaborn as sns\n",
    "sns.set(style=\"white\")"
   ]
  },
  {
   "cell_type": "code",
   "execution_count": 57,
   "metadata": {
    "collapsed": false
   },
   "outputs": [],
   "source": [
    "df_corr = df.corr()"
   ]
  },
  {
   "cell_type": "code",
   "execution_count": 59,
   "metadata": {
    "collapsed": false
   },
   "outputs": [
    {
     "data": {
      "text/plain": [
       "<matplotlib.axes._subplots.AxesSubplot at 0x109c20d50>"
      ]
     },
     "execution_count": 59,
     "metadata": {},
     "output_type": "execute_result"
    },
    {
     "data": {
      "image/png": "[encoded data removed]",
      "text/plain": [
       "<matplotlib.figure.Figure at 0x10f910350>"
      ]
     },
     "metadata": {},
     "output_type": "display_data"
    }
   ],
   "source": [
    "mask = np.zeros_like(df_corr, dtype=np.bool)\n",
    "mask[np.triu_indices_from(mask)] = True\n",
    "f, ax = plt.subplots(figsize=(11, 9))\n",
    "cmap = sns.diverging_palette(220, 10, as_cmap=True)\n",
    "sns.heatmap(df_corr, mask=mask, cmap=cmap, vmax=.3,\n",
    "            square=True, xticklabels=5, yticklabels=5,\n",
    "            linewidths=.5, cbar_kws={\"shrink\": .5}, ax=ax)"
   ]
  },
  {
   "cell_type": "code",
   "execution_count": 33,
   "metadata": {
    "collapsed": true
   },
   "outputs": [],
   "source": [
    "from sklearn import linear_model"
   ]
  },
  {
   "cell_type": "markdown",
   "metadata": {},
   "source": [
    "## Ridge "
   ]
  },
  {
   "cell_type": "code",
   "execution_count": 34,
   "metadata": {
    "collapsed": false
   },
   "outputs": [],
   "source": [
    "ridge = linear_model.Ridge()"
   ]
  },
  {
   "cell_type": "code",
   "execution_count": 35,
   "metadata": {
    "collapsed": false
   },
   "outputs": [
    {
     "data": {
      "image/png": "[encoded data removed]",
      "text/plain": [
       "<matplotlib.figure.Figure at 0x11376d210>"
      ]
     },
     "metadata": {},
     "output_type": "display_data"
    }
   ],
   "source": [
    "n_alphas = 100\n",
    "alphas = np.logspace(-6, -2, n_alphas)\n",
    "NUM_COLORS = 29\n",
    "\n",
    "coefs = []\n",
    "for a in alphas:\n",
    "    ridge.set_params(alpha=a)\n",
    "    ridge.fit(X_all, Y)\n",
    "    coefs.append(ridge.coef_)\n",
    "    \n",
    "ax = plt.gca()\n",
    "ax.set_color_cycle(['b', 'r', 'g', 'c', 'k', 'y', 'm'])\n",
    "ax.plot(alphas, coefs)\n",
    "ax.set_xscale('log')\n",
    "ax.set_xlim(ax.get_xlim()[::-1])\n",
    "\n",
    "plt.legend()\n",
    "plt.title('Ridge')\n",
    "plt.xlabel('regularization')\n",
    "plt.show()"
   ]
  },
  {
   "cell_type": "code",
   "execution_count": 36,
   "metadata": {
    "collapsed": false
   },
   "outputs": [],
   "source": [
    "from sklearn.cross_validation import KFold\n",
    "import math"
   ]
  },
  {
   "cell_type": "code",
   "execution_count": 37,
   "metadata": {
    "collapsed": false
   },
   "outputs": [],
   "source": [
    "#find the best penalty\n",
    "b=[]\n",
    "for alpha1 in alphas:\n",
    "    ridge = linear_model.Ridge(alpha=alpha1)\n",
    "    kf_total = KFold(len(df.id), n_folds=5, shuffle=True, random_state=4)\n",
    "    a=[]\n",
    "    for train, test in kf_total:\n",
    "        x_train = df.iloc[train,2:36]\n",
    "        y_train = df.iloc[train,1]\n",
    "        x_test = df.iloc[test,2:36]\n",
    "        y_test = df.iloc[test,1]\n",
    "        ridge.fit(x_train,y_train)\n",
    "        a.append(math.sqrt(np.mean((ridge.predict(x_test) - y_test) ** 2)))\n",
    "    b.append(np.mean(a))"
   ]
  },
  {
   "cell_type": "code",
   "execution_count": 38,
   "metadata": {
    "collapsed": false
   },
   "outputs": [
    {
     "data": {
      "text/plain": [
       "<matplotlib.text.Text at 0x11992db10>"
      ]
     },
     "execution_count": 38,
     "metadata": {},
     "output_type": "execute_result"
    },
    {
     "data": {
      "image/png": "[encoded data removed]",
      "text/plain": [
       "<matplotlib.figure.Figure at 0x10a558090>"
      ]
     },
     "metadata": {},
     "output_type": "display_data"
    }
   ],
   "source": [
    "plt.plot(b)\n",
    "plt.title('regularization selection')\n",
    "plt.ylabel('MSE')"
   ]
  },
  {
   "cell_type": "code",
   "execution_count": 39,
   "metadata": {
    "collapsed": false
   },
   "outputs": [
    {
     "data": {
      "image/png": "[encoded data removed]",
      "text/plain": [
       "<matplotlib.figure.Figure at 0x10fb8df50>"
      ]
     },
     "metadata": {},
     "output_type": "display_data"
    }
   ],
   "source": [
    "#predict vs true value in cv\n",
    "plt.scatter(ridge.predict(x_test),y_test)\n",
    "plt.show()"
   ]
  },
  {
   "cell_type": "code",
   "execution_count": 40,
   "metadata": {
    "collapsed": false
   },
   "outputs": [
    {
     "name": "stdout",
     "output_type": "stream",
     "text": [
      "0.492932188209\n"
     ]
    }
   ],
   "source": [
    "#the mse of all features\n",
    "ridge = linear_model.Ridge(alpha=alphas[30])\n",
    "kf_total = KFold(len(df.id), n_folds=5, shuffle=True, random_state=4)\n",
    "a=[]\n",
    "for train, test in kf_total:\n",
    "    x_train = df.iloc[train,2:36]\n",
    "    y_train = df.iloc[train,1]\n",
    "    x_test = df.iloc[test,2:36]\n",
    "    y_test = df.iloc[test,1]\n",
    "    ridge.fit(x_train,y_train)\n",
    "    a.append(math.sqrt(np.mean((ridge.predict(x_test) - y_test) ** 2)))\n",
    "print(np.mean(a))"
   ]
  },
  {
   "cell_type": "code",
   "execution_count": 41,
   "metadata": {
    "collapsed": false
   },
   "outputs": [
    {
     "data": {
      "image/png": "[encoded data removed]",
      "text/plain": [
       "<matplotlib.figure.Figure at 0x1112fe450>"
      ]
     },
     "metadata": {},
     "output_type": "display_data"
    }
   ],
   "source": [
    "plt.plot(ridge.coef_)\n",
    "plt.show()"
   ]
  },
  {
   "cell_type": "code",
   "execution_count": 42,
   "metadata": {
    "collapsed": false
   },
   "outputs": [
    {
     "data": {
      "text/plain": [
       "Index([u'sd4', u'sd5', u'sd4_tfidf', u'sd5_tfidf'], dtype='object')"
      ]
     },
     "execution_count": 42,
     "metadata": {},
     "output_type": "execute_result"
    }
   ],
   "source": [
    "df.columns[[10,11,23,24]]"
   ]
  },
  {
   "cell_type": "code",
   "execution_count": 43,
   "metadata": {
    "collapsed": false
   },
   "outputs": [
    {
     "name": "stdout",
     "output_type": "stream",
     "text": [
      "0.513274477991\n"
     ]
    }
   ],
   "source": [
    "#the mse of distance\n",
    "ridge = linear_model.Ridge(alpha=alphas[30])\n",
    "kf_total = KFold(len(df.id), n_folds=5, shuffle=True, random_state=4)\n",
    "a=[]\n",
    "for train, test in kf_total:\n",
    "    x_train = df.iloc[train,2:15]\n",
    "    y_train = df.iloc[train,1]\n",
    "    x_test = df.iloc[test,2:15]\n",
    "    y_test = df.iloc[test,1]\n",
    "    ridge.fit(x_train,y_train)\n",
    "    a.append(math.sqrt(np.mean((ridge.predict(x_test) - y_test) ** 2)))\n",
    "print(np.mean(a))"
   ]
  },
  {
   "cell_type": "code",
   "execution_count": 44,
   "metadata": {
    "collapsed": false
   },
   "outputs": [
    {
     "name": "stdout",
     "output_type": "stream",
     "text": [
      "0.500662678569\n"
     ]
    }
   ],
   "source": [
    "#the mse of tfidf\n",
    "ridge = linear_model.Ridge(alpha=alphas[30])\n",
    "kf_total = KFold(len(df.id), n_folds=5, shuffle=True, random_state=4)\n",
    "a=[]\n",
    "for train, test in kf_total:\n",
    "    x_train = df.iloc[train,15:28]\n",
    "    y_train = df.iloc[train,1]\n",
    "    x_test = df.iloc[test,15:28]\n",
    "    y_test = df.iloc[test,1]\n",
    "    ridge.fit(x_train,y_train)\n",
    "    a.append(math.sqrt(np.mean((ridge.predict(x_test) - y_test) ** 2)))\n",
    "print(np.mean(a))"
   ]
  },
  {
   "cell_type": "code",
   "execution_count": 45,
   "metadata": {
    "collapsed": false
   },
   "outputs": [
    {
     "name": "stdout",
     "output_type": "stream",
     "text": [
      "0.532929442791\n"
     ]
    }
   ],
   "source": [
    "#the mse of customized\n",
    "ridge = linear_model.Ridge(alpha=alphas[30])\n",
    "kf_total = KFold(len(df.id), n_folds=5, shuffle=True, random_state=4)\n",
    "a=[]\n",
    "for train, test in kf_total:\n",
    "    x_train = df.iloc[train,28:31]\n",
    "    y_train = df.iloc[train,1]\n",
    "    x_test = df.iloc[test,28:31]\n",
    "    y_test = df.iloc[test,1]\n",
    "    ridge.fit(x_train,y_train)\n",
    "    a.append(math.sqrt(np.mean((ridge.predict(x_test) - y_test) ** 2)))\n",
    "print(np.mean(a))"
   ]
  },
  {
   "cell_type": "code",
   "execution_count": 46,
   "metadata": {
    "collapsed": false
   },
   "outputs": [
    {
     "name": "stdout",
     "output_type": "stream",
     "text": [
      "0.521126868699\n"
     ]
    }
   ],
   "source": [
    "#the mse of count\n",
    "ridge = linear_model.Ridge(alpha=alphas[30])\n",
    "kf_total = KFold(len(df.id), n_folds=5, shuffle=True, random_state=4)\n",
    "a=[]\n",
    "for train, test in kf_total:\n",
    "    x_train = df.iloc[train,31:36]\n",
    "    y_train = df.iloc[train,1]\n",
    "    x_test = df.iloc[test,31:36]\n",
    "    y_test = df.iloc[test,1]\n",
    "    ridge.fit(x_train,y_train)\n",
    "    a.append(math.sqrt(np.mean((ridge.predict(x_test) - y_test) ** 2)))\n",
    "print(np.mean(a))"
   ]
  },
  {
   "cell_type": "code",
   "execution_count": 47,
   "metadata": {
    "collapsed": false
   },
   "outputs": [
    {
     "data": {
      "text/plain": [
       "1.6297508346206434e-05"
      ]
     },
     "execution_count": 47,
     "metadata": {},
     "output_type": "execute_result"
    }
   ],
   "source": [
    "alphas[30]"
   ]
  },
  {
   "cell_type": "code",
   "execution_count": null,
   "metadata": {
    "collapsed": true
   },
   "outputs": [],
   "source": []
  },
  {
   "cell_type": "code",
   "execution_count": null,
   "metadata": {
    "collapsed": true
   },
   "outputs": [],
   "source": []
  },
  {
   "cell_type": "code",
   "execution_count": null,
   "metadata": {
    "collapsed": true
   },
   "outputs": [],
   "source": []
  },
  {
   "cell_type": "code",
   "execution_count": null,
   "metadata": {
    "collapsed": true
   },
   "outputs": [],
   "source": []
  },
  {
   "cell_type": "markdown",
   "metadata": {
    "collapsed": false
   },
   "source": [
    "## Linear Regression"
   ]
  },
  {
   "cell_type": "code",
   "execution_count": 48,
   "metadata": {
    "collapsed": true
   },
   "outputs": [],
   "source": [
    "lr = linear_model.LinearRegression()"
   ]
  },
  {
   "cell_type": "code",
   "execution_count": 92,
   "metadata": {
    "collapsed": false
   },
   "outputs": [
    {
     "data": {
      "text/plain": [
       "LinearRegression(copy_X=True, fit_intercept=True, n_jobs=1, normalize=False)"
      ]
     },
     "execution_count": 92,
     "metadata": {},
     "output_type": "execute_result"
    }
   ],
   "source": [
    "lr.fit(X_back,Y)"
   ]
  },
  {
   "cell_type": "code",
   "execution_count": 110,
   "metadata": {
    "collapsed": false
   },
   "outputs": [
    {
     "name": "stdout",
     "output_type": "stream",
     "text": [
      "0.494419120359\n"
     ]
    }
   ],
   "source": [
    "#the mse of the all-features\n",
    "kf_total = KFold(len(df.id), n_folds=5, shuffle=True, random_state=4)\n",
    "a=[]\n",
    "for train, test in kf_total:\n",
    "    x_train = df.iloc[train,[2,15,16,18,20,31,32,33]]\n",
    "    y_train = df.iloc[train,1]\n",
    "    x_test = df.iloc[test,[2,15,16,18,20,31,32,33]]\n",
    "    y_test = df.iloc[test,1]\n",
    "    ridge.fit(x_train,y_train)\n",
    "    a.append(math.sqrt(np.mean((ridge.predict(x_test) - y_test) ** 2)))\n",
    "print(np.mean(a))"
   ]
  },
  {
   "cell_type": "code",
   "execution_count": 125,
   "metadata": {
    "collapsed": false
   },
   "outputs": [
    {
     "name": "stdout",
     "output_type": "stream",
     "text": [
      "0.513264909129\n"
     ]
    }
   ],
   "source": [
    "#the mse of the distance\n",
    "kf_total = KFold(len(df.id), n_folds=5, shuffle=True, random_state=4)\n",
    "a=[]\n",
    "for train, test in kf_total:\n",
    "    x_train = df.iloc[train,[2,3,4,5,7,8,9,10]]\n",
    "    y_train = df.iloc[train,1]\n",
    "    x_test = df.iloc[test,[2,3,4,5,7,8,9,10]]\n",
    "    y_test = df.iloc[test,1]\n",
    "    ridge.fit(x_train,y_train)\n",
    "    a.append(math.sqrt(np.mean((ridge.predict(x_test) - y_test) ** 2)))\n",
    "print(np.mean(a))"
   ]
  },
  {
   "cell_type": "code",
   "execution_count": 138,
   "metadata": {
    "collapsed": false
   },
   "outputs": [
    {
     "name": "stdout",
     "output_type": "stream",
     "text": [
      "0.521111759398\n"
     ]
    }
   ],
   "source": [
    "#the mse of the count\n",
    "kf_total = KFold(len(df.id), n_folds=5, shuffle=True, random_state=4)\n",
    "a=[]\n",
    "for train, test in kf_total:\n",
    "    x_train = df.iloc[train,31:35]\n",
    "    y_train = df.iloc[train,1]\n",
    "    x_test = df.iloc[test,31:35]\n",
    "    y_test = df.iloc[test,1]\n",
    "    ridge.fit(x_train,y_train)\n",
    "    a.append(math.sqrt(np.mean((ridge.predict(x_test) - y_test) ** 2)))\n",
    "print(np.mean(a))"
   ]
  },
  {
   "cell_type": "code",
   "execution_count": 139,
   "metadata": {
    "collapsed": false
   },
   "outputs": [
    {
     "name": "stdout",
     "output_type": "stream",
     "text": [
      "0.500568140957\n"
     ]
    }
   ],
   "source": [
    "#the mse of the tfidf\n",
    "kf_total = KFold(len(df.id), n_folds=5, shuffle=True, random_state=4)\n",
    "a=[]\n",
    "for train, test in kf_total:\n",
    "    x_train = df.iloc[train,[15,16,17,18,19,20,21,23]]\n",
    "    y_train = df.iloc[train,1]\n",
    "    x_test = df.iloc[test,[15,16,17,18,19,20,21,23]]\n",
    "    y_test = df.iloc[test,1]\n",
    "    ridge.fit(x_train,y_train)\n",
    "    a.append(math.sqrt(np.mean((ridge.predict(x_test) - y_test) ** 2)))\n",
    "print(np.mean(a))"
   ]
  },
  {
   "cell_type": "code",
   "execution_count": 150,
   "metadata": {
    "collapsed": false
   },
   "outputs": [
    {
     "name": "stdout",
     "output_type": "stream",
     "text": [
      "0.532919060817\n"
     ]
    }
   ],
   "source": [
    "#the mse of the customize\n",
    "kf_total = KFold(len(df.id), n_folds=5, shuffle=True, random_state=4)\n",
    "a=[]\n",
    "for train, test in kf_total:\n",
    "    x_train = df.iloc[train,28:29]\n",
    "    y_train = df.iloc[train,1]\n",
    "    x_test = df.iloc[test,28:29]\n",
    "    y_test = df.iloc[test,1]\n",
    "    ridge.fit(x_train,y_train)\n",
    "    a.append(math.sqrt(np.mean((ridge.predict(x_test) - y_test) ** 2)))\n",
    "print(np.mean(a))"
   ]
  },
  {
   "cell_type": "code",
   "execution_count": null,
   "metadata": {
    "collapsed": false
   },
   "outputs": [],
   "source": []
  },
  {
   "cell_type": "code",
   "execution_count": null,
   "metadata": {
    "collapsed": true
   },
   "outputs": [],
   "source": []
  }
 ],
 "metadata": {
  "kernelspec": {
   "display_name": "Python 2",
   "language": "python",
   "name": "python2"
  },
  "language_info": {
   "codemirror_mode": {
    "name": "ipython",
    "version": 2
   },
   "file_extension": ".py",
   "mimetype": "text/x-python",
   "name": "python",
   "nbconvert_exporter": "python",
   "pygments_lexer": "ipython2",
   "version": "2.7.11"
  }
 },
 "nbformat": 4,
 "nbformat_minor": 0
}
