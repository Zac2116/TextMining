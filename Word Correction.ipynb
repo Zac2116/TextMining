{
 "cells": [
  {
   "cell_type": "code",
   "execution_count": 2,
   "metadata": {
    "collapsed": true
   },
   "outputs": [],
   "source": [
    "import numpy as np\n",
    "import pandas as pd"
   ]
  },
  {
   "cell_type": "markdown",
   "metadata": {},
   "source": [
    "### 大家用电脑跑一下下面的码，有几个注意事项：1. 在下面的function里有个 time.sleep(randint(0,1))语句，这是为了让google不屏蔽代码加入的，大家可以自行调节最大数值（目前我设的是1秒），建议在两秒以内。 2. 在我跑的过程中，如果手动打开谷歌进行搜索，会出现谷歌让你输入验证码的情况，不要惊慌....建议多输入几次，这样会帮助减少代码的报错次数。 3. 码经常会在跑的过程中与谷歌断开连接报错。这时候建议先检查已经跑了多少行，接着更改起始点，从断点处继续跑。"
   ]
  },
  {
   "cell_type": "code",
   "execution_count": 3,
   "metadata": {
    "collapsed": true
   },
   "outputs": [],
   "source": [
    "import requests\n",
    "import re\n",
    "import time\n",
    "from random import randint\n",
    "\n",
    "START_SPELL_CHECK=\"<span class=\\\"spell\\\">Showing results for</span>\"\n",
    "END_SPELL_CHECK=\"<br><span class=\\\"spell_orig\\\">Search instead for\"\n",
    "\n",
    "HTML_Codes = (\n",
    "\t\t(\"'\", '&#39;'),\n",
    "\t\t('\"', '&quot;'),\n",
    "\t\t('>', '&gt;'),\n",
    "\t\t('<', '&lt;'),\n",
    "\t\t('&', '&amp;'),\n",
    ")\n",
    "\n",
    "def spell_check(s):\n",
    "\tq = '+'.join(s.split())\n",
    "\ttime.sleep(  randint(0,1) ) #relax and don't let google be angry\n",
    "\tr = requests.get(\"https://www.google.co.uk/search?q=\"+q)\n",
    "\tcontent = r.text\n",
    "\tstart=content.find(START_SPELL_CHECK) \n",
    "\tif ( start > -1 ):\n",
    "\t\tstart = start + len(START_SPELL_CHECK)\n",
    "\t\tend=content.find(END_SPELL_CHECK)\n",
    "\t\tsearch= content[start:end]\n",
    "\t\tsearch = re.sub(r'<[^>]+>', '', search)\n",
    "\t\tfor code in HTML_Codes:\n",
    "\t\t\tsearch = search.replace(code[1], code[0])\n",
    "\t\tsearch = search[1:]\n",
    "\telse:\n",
    "\t\tsearch = s\n",
    "\treturn search ;"
   ]
  },
  {
   "cell_type": "code",
   "execution_count": 4,
   "metadata": {
    "collapsed": false
   },
   "outputs": [],
   "source": [
    "test = pd.read_csv('~/Desktop/TextMining/data/test_attr.csv')"
   ]
  },
  {
   "cell_type": "code",
   "execution_count": 5,
   "metadata": {
    "collapsed": true
   },
   "outputs": [],
   "source": [
    "test_searches = test.search_term.tolist()"
   ]
  },
  {
   "cell_type": "code",
   "execution_count": 6,
   "metadata": {
    "collapsed": true
   },
   "outputs": [],
   "source": [
    "correction = []"
   ]
  },
  {
   "cell_type": "markdown",
   "metadata": {},
   "source": [
    "## Zac"
   ]
  },
  {
   "cell_type": "code",
   "execution_count": null,
   "metadata": {
    "collapsed": true
   },
   "outputs": [],
   "source": [
    "for word in test_searches[50000:90000]:\n",
    "    correction.append(spell_check(word))"
   ]
  },
  {
   "cell_type": "markdown",
   "metadata": {},
   "source": [
    "## Pengfei"
   ]
  },
  {
   "cell_type": "code",
   "execution_count": null,
   "metadata": {
    "collapsed": true
   },
   "outputs": [],
   "source": [
    "for word in test_searches[90000:130000]:\n",
    "    correction.append(spell_check(word))"
   ]
  },
  {
   "cell_type": "markdown",
   "metadata": {},
   "source": [
    "## Xiaoci"
   ]
  },
  {
   "cell_type": "code",
   "execution_count": null,
   "metadata": {
    "collapsed": true
   },
   "outputs": [],
   "source": [
    "for word in test_searches[130000:166693]:\n",
    "    correction.append(spell_check(word))"
   ]
  },
  {
   "cell_type": "markdown",
   "metadata": {},
   "source": [
    "## If error occurs"
   ]
  },
  {
   "cell_type": "code",
   "execution_count": null,
   "metadata": {
    "collapsed": true
   },
   "outputs": [],
   "source": [
    "len(correction)"
   ]
  },
  {
   "cell_type": "code",
   "execution_count": null,
   "metadata": {
    "collapsed": true
   },
   "outputs": [],
   "source": [
    "correction1 = []"
   ]
  },
  {
   "cell_type": "code",
   "execution_count": null,
   "metadata": {
    "collapsed": true
   },
   "outputs": [],
   "source": [
    "for word in test_searches[your start point + len(correction):your end point]:\n",
    "    correction1.append(spell_check(word))"
   ]
  },
  {
   "cell_type": "code",
   "execution_count": null,
   "metadata": {
    "collapsed": true
   },
   "outputs": [],
   "source": [
    "correction_all = correction+correction1"
   ]
  },
  {
   "cell_type": "markdown",
   "metadata": {},
   "source": [
    "## Save File"
   ]
  },
  {
   "cell_type": "code",
   "execution_count": null,
   "metadata": {
    "collapsed": true
   },
   "outputs": [],
   "source": [
    "correctDic = {'id': test['id'][your start point : your end point ].tolist(),'correction': correction}\n",
    "correctionList = pd.DataFrame(data=correctDic)"
   ]
  },
  {
   "cell_type": "code",
   "execution_count": null,
   "metadata": {
    "collapsed": true
   },
   "outputs": [],
   "source": [
    "correctionList.head()"
   ]
  },
  {
   "cell_type": "code",
   "execution_count": null,
   "metadata": {
    "collapsed": true
   },
   "outputs": [],
   "source": [
    "correctionList.to_csv('Your name.csv',index=False)"
   ]
  }
 ],
 "metadata": {
  "kernelspec": {
   "display_name": "Python 2",
   "language": "python",
   "name": "python2"
  },
  "language_info": {
   "codemirror_mode": {
    "name": "ipython",
    "version": 2
   },
   "file_extension": ".py",
   "mimetype": "text/x-python",
   "name": "python",
   "nbconvert_exporter": "python",
   "pygments_lexer": "ipython2",
   "version": "2.7.9"
  }
 },
 "nbformat": 4,
 "nbformat_minor": 0
}
